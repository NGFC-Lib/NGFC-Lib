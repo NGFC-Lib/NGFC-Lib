{
 "cells": [
  {
   "cell_type": "markdown",
   "id": "a2f0958a",
   "metadata": {},
   "source": [
    "# IDAES-PSE and Reinforcement Learning (RL): Methanol Example Notebook"
   ]
  },
  {
   "cell_type": "markdown",
   "id": "6f1b4244",
   "metadata": {},
   "source": [
    "The purpose of this notebook is to guide the user through the flow sheet design process. For this example, we will be designing a **Methanol Synthesis** process system, using syngas. The process reactions include:"
   ]
  },
  {
   "cell_type": "markdown",
   "id": "39a511e2",
   "metadata": {},
   "source": [
    "**2H<sub>2</sub> + CO &rarr; CH<sub>3</sub>OH**   \n",
    "**CO<sub>2</sub> + 3H<sub>2</sub> &rarr; CH<sub>3</sub>OH + H<sub>2</sub>O**  \n",
    "**CO + H<sub>2</sub>O &rarr; CO<sub>2</sub> + H<sub>2</sub>**"
   ]
  },
  {
   "cell_type": "code",
   "execution_count": 2,
   "id": "8aeb13dc",
   "metadata": {},
   "outputs": [],
   "source": [
    "import MET_IDAES_v11_v1 as METex\n",
    "import RL_CORE as RL\n",
    "import MasterControl as GUI\n",
    "\n",
    "import ipywidgets as widgets \n",
    "from ipywidgets import AppLayout, Box, Button, GridspecLayout, Layout \n",
    "from IPython.display import display\n",
    "\n",
    "import warnings\n",
    "warnings.filterwarnings('ignore')"
   ]
  },
  {
   "cell_type": "markdown",
   "id": "a2a464b1",
   "metadata": {},
   "source": [
    "## Select Units"
   ]
  },
  {
   "cell_type": "code",
   "execution_count": 3,
   "id": "6267ddc2",
   "metadata": {},
   "outputs": [],
   "source": [
    "grid = GridspecLayout(9, 1)\n",
    "\n",
    "unit_list = [\n",
    "    'Heater',\n",
    "    'Cooler',\n",
    "    'Heat Exchanger',\n",
    "    'Reactor',\n",
    "    'Mixer',\n",
    "    'Flash',\n",
    "    'Splitter',\n",
    "    'Compressor',\n",
    "    'Expander'\n",
    "    ]\n",
    "\n",
    "for i in range(9):\n",
    "    for j in range(1):\n",
    "        grid[i, j] = widgets.Dropdown(\n",
    "            options=['0', '1', '2'],\n",
    "            value='1',\n",
    "            description=unit_list[i],\n",
    "            disabled=False,\n",
    "            style = {'description_width': 'initial'}\n",
    ")"
   ]
  },
  {
   "cell_type": "code",
   "execution_count": 4,
   "id": "e1f7950e",
   "metadata": {},
   "outputs": [],
   "source": [
    "header_button = widgets.HTML(\n",
    "    value='<{size}>Select Max. Number of Units</{size}>'.format(size='h2'))\n",
    "\n",
    "center_button = grid"
   ]
  },
  {
   "cell_type": "code",
   "execution_count": 5,
   "id": "c79a60c4",
   "metadata": {},
   "outputs": [
    {
     "data": {
      "application/vnd.jupyter.widget-view+json": {
       "model_id": "d296a9138def486a8ae8f8f1572614c2",
       "version_major": 2,
       "version_minor": 0
      },
      "text/plain": [
       "AppLayout(children=(HTML(value='<h2>Select Max. Number of Units</h2>', layout=Layout(grid_area='header')), Gri…"
      ]
     },
     "metadata": {},
     "output_type": "display_data"
    }
   ],
   "source": [
    "AppLayout(header=header_button,\n",
    "          left_sidebar=None,\n",
    "          center=center_button,\n",
    "          right_sidebar=None,\n",
    "          footer=None)"
   ]
  },
  {
   "cell_type": "code",
   "execution_count": 6,
   "id": "0db6afeb",
   "metadata": {},
   "outputs": [],
   "source": [
    "num_heaters = int(grid[0,0].value)\n",
    "num_coolers = int(grid[1, 0].value)\n",
    "num_heatex = int(grid[2, 0].value)\n",
    "num_reactors = int(grid[3, 0].value)\n",
    "num_mixers = int(grid[4, 0].value)\n",
    "num_flash = int(grid[5, 0].value)\n",
    "num_splitters = int(grid[6, 0].value)\n",
    "num_compressors = int(grid[7, 0].value)\n",
    "num_expanders = int(grid[8, 0].value)"
   ]
  },
  {
   "cell_type": "markdown",
   "id": "89c6d225",
   "metadata": {},
   "source": [
    "## RL Options"
   ]
  },
  {
   "cell_type": "markdown",
   "id": "e37114bb",
   "metadata": {},
   "source": [
    "Select desired reinforcement learning parameters"
   ]
  },
  {
   "cell_type": "markdown",
   "id": "80c4e437",
   "metadata": {},
   "source": [
    "First, how many episodes or training steps? (Default: 300,000)\n",
    "Next, define the starting *e-greedy* value, or whether the model prioritizes **exploration** vs. **highest reward**. A value of 1 means the model only explores, whereas a value of 0 means the model only picks the highest reward. (Default: 0.8)\n",
    "Then, select the *e-greedy increment* and learning rate and GNN option."
   ]
  },
  {
   "cell_type": "code",
   "execution_count": 8,
   "id": "56819c77",
   "metadata": {
    "code_folding": [
     0,
     14,
     28,
     42,
     56
    ]
   },
   "outputs": [
    {
     "data": {
      "application/vnd.jupyter.widget-view+json": {
       "model_id": "8a0e329d49bd4a7593d262ceb3cab6d5",
       "version_major": 2,
       "version_minor": 0
      },
      "text/plain": [
       "IntSlider(value=300000, continuous_update=False, description='Episodes:', max=500000, step=50000, style=Slider…"
      ]
     },
     "metadata": {},
     "output_type": "display_data"
    },
    {
     "data": {
      "application/vnd.jupyter.widget-view+json": {
       "model_id": "08ef0b2733704eea8eeff613d9ee3a71",
       "version_major": 2,
       "version_minor": 0
      },
      "text/plain": [
       "FloatSlider(value=0.8, continuous_update=False, description='Greedy:', max=1.0, readout_format='.1f', style=Sl…"
      ]
     },
     "metadata": {},
     "output_type": "display_data"
    },
    {
     "data": {
      "application/vnd.jupyter.widget-view+json": {
       "model_id": "c11f5f5a65364df9bde4fa135d4de4bc",
       "version_major": 2,
       "version_minor": 0
      },
      "text/plain": [
       "FloatSlider(value=5e-06, continuous_update=False, description='e-greedy increment:', max=0.005, readout_format…"
      ]
     },
     "metadata": {},
     "output_type": "display_data"
    },
    {
     "data": {
      "application/vnd.jupyter.widget-view+json": {
       "model_id": "7edab99c70354371a3b774c2d9fb5441",
       "version_major": 2,
       "version_minor": 0
      },
      "text/plain": [
       "FloatSlider(value=0.01, continuous_update=False, description='Learning rate:', max=0.1, step=0.01, style=Slide…"
      ]
     },
     "metadata": {},
     "output_type": "display_data"
    },
    {
     "data": {
      "application/vnd.jupyter.widget-view+json": {
       "model_id": "ded738766fc746eaa5b9239fdfefdb42",
       "version_major": 2,
       "version_minor": 0
      },
      "text/plain": [
       "Dropdown(description='GNN Enabled', index=1, options=('True', 'False'), style=DescriptionStyle(description_wid…"
      ]
     },
     "metadata": {},
     "output_type": "display_data"
    }
   ],
   "source": [
    "episodes_widget = widgets.IntSlider(\n",
    "    value=300000,\n",
    "    min=0,\n",
    "    max=500000,\n",
    "    step=50000,\n",
    "    description='Episodes:',\n",
    "    style = {'description_width': 'initial'},\n",
    "    disabled=False,\n",
    "    continuous_update=False,\n",
    "    orientation='horizontal',\n",
    "    readout=True,\n",
    "    readout_format='d'\n",
    ")\n",
    "\n",
    "greedy_widget = widgets.FloatSlider(\n",
    "    value=0.8,\n",
    "    min=0,\n",
    "    max=1,\n",
    "    step=0.1,\n",
    "    description='Greedy:',\n",
    "    style = {'description_width': 'initial'},\n",
    "    disabled=False,\n",
    "    continuous_update=False,\n",
    "    orientation='horizontal',\n",
    "    readout=True,\n",
    "    readout_format='.1f',\n",
    ")\n",
    "\n",
    "greedy_inc_widget = widgets.FloatSlider(\n",
    "    value=5e-6,\n",
    "    min=0,\n",
    "    max=5e-3,\n",
    "    step=5e-7,\n",
    "    description='e-greedy increment:',\n",
    "    style = {'description_width': 'initial'},\n",
    "    disabled=False,\n",
    "    continuous_update=False,\n",
    "    orientation='horizontal',\n",
    "    readout=True,\n",
    "    readout_format= '.6f',\n",
    ")\n",
    "\n",
    "learning_widget = widgets.FloatSlider(\n",
    "    value=0.01,\n",
    "    min=0,\n",
    "    max=0.1,\n",
    "    step=0.01,\n",
    "    description='Learning rate:',\n",
    "    style = {'description_width': 'initial'},\n",
    "    disabled=False,\n",
    "    continuous_update=False,\n",
    "    orientation='horizontal',\n",
    "    readout=True,\n",
    "    readout_format= '.2f',\n",
    ")\n",
    "\n",
    "GNN_widget = widgets.Dropdown(\n",
    "    options=['True', 'False'],\n",
    "    value='False',\n",
    "    description= 'GNN Enabled',\n",
    "    disabled=False,\n",
    "    style = {'description_width': 'initial'}\n",
    ")\n",
    "\n",
    "display(episodes_widget, greedy_widget, greedy_inc_widget, learning_widget, GNN_widget)"
   ]
  },
  {
   "cell_type": "code",
   "execution_count": 9,
   "id": "5798b9eb",
   "metadata": {},
   "outputs": [],
   "source": [
    "episodes = episodes_widget.value\n",
    "greedy = greedy_widget.value\n",
    "greedy_inc = greedy_inc_widget.value\n",
    "learning = learning_widget.value\n",
    "GNN = GNN_widget.value"
   ]
  },
  {
   "cell_type": "markdown",
   "id": "f5a2d896",
   "metadata": {},
   "source": [
    "## Run RL"
   ]
  },
  {
   "cell_type": "markdown",
   "id": "c4e7592c",
   "metadata": {},
   "source": [
    "## Visualizations"
   ]
  },
  {
   "cell_type": "code",
   "execution_count": null,
   "id": "de46aac8",
   "metadata": {},
   "outputs": [],
   "source": []
  }
 ],
 "metadata": {
  "kernelspec": {
   "display_name": "Python 3",
   "language": "python",
   "name": "python3"
  },
  "language_info": {
   "codemirror_mode": {
    "name": "ipython",
    "version": 3
   },
   "file_extension": ".py",
   "mimetype": "text/x-python",
   "name": "python",
   "nbconvert_exporter": "python",
   "pygments_lexer": "ipython3",
   "version": "3.7.11"
  }
 },
 "nbformat": 4,
 "nbformat_minor": 5
}
