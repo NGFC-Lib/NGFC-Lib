{
 "cells": [
  {
   "cell_type": "markdown",
   "id": "70dbfb67",
   "metadata": {},
   "source": [
    "# IDAES-PSE and Reinforcement Learning (RL): HDA Example Notebook"
   ]
  },
  {
   "cell_type": "markdown",
   "id": "eb0ca500",
   "metadata": {},
   "source": [
    "The purpose of this notebook is to guide the user through the flow sheet design process. For this example, we will be designing a **hydrodealkylation (HDA)** process system, in which toluene reacts with hydrogen gas at high temperatures to form benzene. "
   ]
  },
  {
   "cell_type": "markdown",
   "id": "cc3fbe25",
   "metadata": {},
   "source": [
    "**C<sub>6</sub>H<sub>5</sub>CH<sub>3</sub> + H<sub>2</sub> &rarr; C<sub>6</sub>H<sub>6</sub> + CH<sub>4</sub>** "
   ]
  },
  {
   "cell_type": "code",
   "execution_count": 28,
   "id": "b81526af",
   "metadata": {},
   "outputs": [],
   "source": [
    "import HDA_IDAES as HDAex\n",
    "import HDA_IDAES_obs2list as HDAls\n",
    "import RL_CORE as RL\n",
    "import MasterControl_GUI as GUI\n",
    "\n",
    "import ipywidgets as widgets \n",
    "from ipywidgets import AppLayout, Box, Button, GridspecLayout, Layout \n",
    "from IPython.display import display\n",
    "\n",
    "import warnings\n",
    "warnings.filterwarnings('ignore')"
   ]
  },
  {
   "cell_type": "markdown",
   "id": "6eaf7d8f",
   "metadata": {},
   "source": [
    "## Select Units"
   ]
  },
  {
   "cell_type": "code",
   "execution_count": 29,
   "id": "c2151139",
   "metadata": {
    "code_folding": []
   },
   "outputs": [],
   "source": [
    "grid = GridspecLayout(9, 1)\n",
    "\n",
    "unit_list = [\n",
    "    'Heater',\n",
    "    'Cooler',\n",
    "    'Heat Exchanger',\n",
    "    'Reactor',\n",
    "    'Mixer',\n",
    "    'Flash',\n",
    "    'Splitter',\n",
    "    'Compressor',\n",
    "    'Expander'\n",
    "    ]\n",
    "\n",
    "for i in range(9):\n",
    "    for j in range(1):\n",
    "        grid[i, j] = widgets.Dropdown(\n",
    "            options=['0', '1', '2'],\n",
    "            value='1',\n",
    "            description=unit_list[i],\n",
    "            disabled=False,\n",
    "            style = {'description_width': 'initial'}\n",
    ")"
   ]
  },
  {
   "cell_type": "code",
   "execution_count": 30,
   "id": "62a898bd",
   "metadata": {
    "code_folding": []
   },
   "outputs": [],
   "source": [
    "header_button = widgets.HTML(\n",
    "    value='<{size}>Select Max. Number of Units</{size}>'.format(size='h2'))\n",
    "\n",
    "center_button = grid"
   ]
  },
  {
   "cell_type": "code",
   "execution_count": 31,
   "id": "e67f7666",
   "metadata": {
    "code_folding": []
   },
   "outputs": [
    {
     "data": {
      "application/vnd.jupyter.widget-view+json": {
       "model_id": "a28952f1561944a38aab2ad966499fdb",
       "version_major": 2,
       "version_minor": 0
      },
      "text/plain": [
       "AppLayout(children=(HTML(value='<h2>Select Max. Number of Units</h2>', layout=Layout(grid_area='header')), Gri…"
      ]
     },
     "metadata": {},
     "output_type": "display_data"
    }
   ],
   "source": [
    "AppLayout(header=header_button,\n",
    "          left_sidebar=None,\n",
    "          center=center_button,\n",
    "          right_sidebar=None,\n",
    "          footer=None)"
   ]
  },
  {
   "cell_type": "code",
   "execution_count": 32,
   "id": "61450db4",
   "metadata": {},
   "outputs": [],
   "source": [
    "num_heaters = int(grid[0,0].value)\n",
    "num_coolers = int(grid[1, 0].value)\n",
    "num_heatex = int(grid[2, 0].value)\n",
    "num_reactors = int(grid[3, 0].value)\n",
    "num_mixers = int(grid[4, 0].value)\n",
    "num_flash = int(grid[5, 0].value)\n",
    "num_splitters = int(grid[6, 0].value)\n",
    "num_compressors = int(grid[7, 0].value)\n",
    "num_expanders = int(grid[8, 0].value)"
   ]
  },
  {
   "cell_type": "markdown",
   "id": "a535b5fa",
   "metadata": {},
   "source": [
    "## RL Options"
   ]
  },
  {
   "cell_type": "markdown",
   "id": "b33757d0",
   "metadata": {},
   "source": [
    "Select desired reinforcement learning parameters"
   ]
  },
  {
   "cell_type": "markdown",
   "id": "4c718500",
   "metadata": {},
   "source": [
    "First, how many episodes or training steps? (Default: 300,000)\n",
    "Next, define the starting *e-greedy* value, or whether the model prioritizes **exploration** vs. **highest reward**. A value of 1 means the model only explores, whereas a value of 0 means the model only picks the highest reward. (Default: 0.8)\n",
    "Then, select the *e-greedy increment* and learning rate and GNN option."
   ]
  },
  {
   "cell_type": "code",
   "execution_count": 36,
   "id": "8d08432d",
   "metadata": {
    "code_folding": [],
    "scrolled": true
   },
   "outputs": [
    {
     "data": {
      "application/vnd.jupyter.widget-view+json": {
       "model_id": "c4f5aebbb7f6418f85432de0aaf53176",
       "version_major": 2,
       "version_minor": 0
      },
      "text/plain": [
       "IntSlider(value=300000, continuous_update=False, description='Episodes:', max=500000, step=50000, style=Slider…"
      ]
     },
     "metadata": {},
     "output_type": "display_data"
    },
    {
     "data": {
      "application/vnd.jupyter.widget-view+json": {
       "model_id": "e80fd54454774736990d05ad60980cca",
       "version_major": 2,
       "version_minor": 0
      },
      "text/plain": [
       "FloatSlider(value=0.8, continuous_update=False, description='Greedy:', max=1.0, readout_format='.1f', style=Sl…"
      ]
     },
     "metadata": {},
     "output_type": "display_data"
    },
    {
     "data": {
      "application/vnd.jupyter.widget-view+json": {
       "model_id": "e6b8d2a7cf13491abe29f30a343dbc7f",
       "version_major": 2,
       "version_minor": 0
      },
      "text/plain": [
       "FloatSlider(value=5e-06, continuous_update=False, description='e-greedy increment:', max=0.005, readout_format…"
      ]
     },
     "metadata": {},
     "output_type": "display_data"
    },
    {
     "data": {
      "application/vnd.jupyter.widget-view+json": {
       "model_id": "93ad9cef567c44b4868a577159752b18",
       "version_major": 2,
       "version_minor": 0
      },
      "text/plain": [
       "FloatSlider(value=0.01, continuous_update=False, description='Learning rate:', max=0.1, step=0.01, style=Slide…"
      ]
     },
     "metadata": {},
     "output_type": "display_data"
    },
    {
     "data": {
      "application/vnd.jupyter.widget-view+json": {
       "model_id": "1a44bd0e709c433f8b43be2f95e657cb",
       "version_major": 2,
       "version_minor": 0
      },
      "text/plain": [
       "Dropdown(description='GNN Enabled', index=1, options=('True', 'False'), style=DescriptionStyle(description_wid…"
      ]
     },
     "metadata": {},
     "output_type": "display_data"
    }
   ],
   "source": [
    "episodes_widget = widgets.IntSlider(\n",
    "    value=300000,\n",
    "    min=0,\n",
    "    max=500000,\n",
    "    step=50000,\n",
    "    description='Episodes:',\n",
    "    style = {'description_width': 'initial'},\n",
    "    disabled=False,\n",
    "    continuous_update=False,\n",
    "    orientation='horizontal',\n",
    "    readout=True,\n",
    "    readout_format='d'\n",
    ")\n",
    "\n",
    "greedy_widget = widgets.FloatSlider(\n",
    "    value=0.8,\n",
    "    min=0,\n",
    "    max=1,\n",
    "    step=0.1,\n",
    "    description='Greedy:',\n",
    "    style = {'description_width': 'initial'},\n",
    "    disabled=False,\n",
    "    continuous_update=False,\n",
    "    orientation='horizontal',\n",
    "    readout=True,\n",
    "    readout_format='.1f',\n",
    ")\n",
    "\n",
    "greedy_inc_widget = widgets.FloatSlider(\n",
    "    value=5e-6,\n",
    "    min=0,\n",
    "    max=5e-3,\n",
    "    step=5e-7,\n",
    "    description='e-greedy increment:',\n",
    "    style = {'description_width': 'initial'},\n",
    "    disabled=False,\n",
    "    continuous_update=False,\n",
    "    orientation='horizontal',\n",
    "    readout=True,\n",
    "    readout_format= '.6f',\n",
    ")\n",
    "\n",
    "learning_widget = widgets.FloatSlider(\n",
    "    value=0.01,\n",
    "    min=0,\n",
    "    max=0.1,\n",
    "    step=0.01,\n",
    "    description='Learning rate:',\n",
    "    style = {'description_width': 'initial'},\n",
    "    disabled=False,\n",
    "    continuous_update=False,\n",
    "    orientation='horizontal',\n",
    "    readout=True,\n",
    "    readout_format= '.2f',\n",
    ")\n",
    "\n",
    "GNN_widget = widgets.Dropdown(\n",
    "    options=['True', 'False'],\n",
    "    value='False',\n",
    "    description= 'GNN Enabled',\n",
    "    disabled=False,\n",
    "    style = {'description_width': 'initial'}\n",
    ")\n",
    "\n",
    "display(episodes_widget, greedy_widget, greedy_inc_widget, learning_widget, GNN_widget)"
   ]
  },
  {
   "cell_type": "code",
   "execution_count": 37,
   "id": "d228af77",
   "metadata": {},
   "outputs": [],
   "source": [
    "episodes = episodes_widget.value\n",
    "greedy = greedy_widget.value\n",
    "greedy_inc = greedy_inc_widget.value\n",
    "learning = learning_widget.value\n",
    "GNN = GNN_widget.value"
   ]
  },
  {
   "cell_type": "markdown",
   "id": "caa7f66f",
   "metadata": {
    "heading_collapsed": true
   },
   "source": [
    "## Run RL"
   ]
  },
  {
   "cell_type": "code",
   "execution_count": null,
   "id": "e20c8683",
   "metadata": {
    "hidden": true
   },
   "outputs": [],
   "source": []
  },
  {
   "cell_type": "markdown",
   "id": "381a830b",
   "metadata": {
    "heading_collapsed": true
   },
   "source": [
    "## Visualizations"
   ]
  },
  {
   "cell_type": "code",
   "execution_count": 54,
   "id": "73c0828e",
   "metadata": {
    "code_folding": [
     4,
     10
    ],
    "hidden": true
   },
   "outputs": [
    {
     "data": {
      "application/vnd.jupyter.widget-view+json": {
       "model_id": "7757e936acc047dfbacc5c818517ef91",
       "version_major": 2,
       "version_minor": 0
      },
      "text/plain": [
       "HBox(children=(Image(value=b'\\x89PNG\\r\\n\\x1a\\n\\x00\\x00\\x00\\rIHDR\\x00\\x00\\x02\\x80\\x00\\x00\\x01\\xe0\\x08\\x06\\x00\\x…"
      ]
     },
     "metadata": {},
     "output_type": "display_data"
    }
   ],
   "source": [
    "file1 = open(\"result_n9/IDAES_unique_feasible_1.png\", mode='rb')\n",
    "image1 = file1.read()\n",
    "file2 = open(\"result_n9/IDAES_unique_1.png\", mode='rb')\n",
    "image2 = file2.read()\n",
    "cases = widgets.Image(\n",
    "    value=image2,\n",
    "    format='png',\n",
    "    width=400,\n",
    "    height=600,\n",
    ")\n",
    "feasible = widgets.Image(\n",
    "    value=image1,\n",
    "    format='png',\n",
    "    width=400,\n",
    "    height=600,\n",
    ")\n",
    "\n",
    "sidebyside = widgets.HBox([cases, feasible])\n",
    "display.display(sidebyside)"
   ]
  },
  {
   "cell_type": "markdown",
   "id": "c8c7d39f",
   "metadata": {
    "hidden": true
   },
   "source": [
    "* RL outputs\n",
    "* **top 10 IDAES flow sheets and rerun**\n",
    "* Dataframe with flow sheet specs/criteria\n",
    "    * Overall Mass balance\n",
    "    * Overall Energy balance\n",
    "    * Net energy input (process heat input)\n",
    "    * Yields\n",
    "        * Hydrogen utilization\n",
    "    * flow sheet differences\n",
    "* **Plots**\n",
    "    * Hydrogen utilization\n",
    "    * **Cost**\n",
    "    * Show benefits\n",
    "        * thermal integration\n",
    "            * heat wasted\n",
    "            * pre-heating of inputs\n",
    "   "
   ]
  },
  {
   "cell_type": "code",
   "execution_count": null,
   "id": "61621936",
   "metadata": {
    "hidden": true
   },
   "outputs": [],
   "source": []
  }
 ],
 "metadata": {
  "kernelspec": {
   "display_name": "Python 3",
   "language": "python",
   "name": "python3"
  },
  "language_info": {
   "codemirror_mode": {
    "name": "ipython",
    "version": 3
   },
   "file_extension": ".py",
   "mimetype": "text/x-python",
   "name": "python",
   "nbconvert_exporter": "python",
   "pygments_lexer": "ipython3",
   "version": "3.7.11"
  }
 },
 "nbformat": 4,
 "nbformat_minor": 5
}
