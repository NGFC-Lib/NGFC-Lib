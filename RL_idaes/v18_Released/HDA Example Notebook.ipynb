{
 "cells": [
  {
   "cell_type": "markdown",
   "id": "70dbfb67",
   "metadata": {},
   "source": [
    "# IDAES-PSE and Reinforcement Learning (RL): HDA Example Notebook"
   ]
  },
  {
   "cell_type": "markdown",
   "id": "eb0ca500",
   "metadata": {},
   "source": [
    "The purpose of this notebook is to guide the user through the flow sheet design process. For this example, we will be designing a **hydrodealkylation (HDA)** process system, in which toluene reacts with hydrogen gas at high temperatures to form benzene. "
   ]
  },
  {
   "cell_type": "markdown",
   "id": "cc3fbe25",
   "metadata": {},
   "source": [
    "**C<sub>6</sub>H<sub>5</sub>CH<sub>3</sub> + H<sub>2</sub> &rarr; C<sub>6</sub>H<sub>6</sub> + CH<sub>4</sub>** "
   ]
  },
  {
   "cell_type": "code",
   "execution_count": 1,
   "id": "b81526af",
   "metadata": {
    "scrolled": true
   },
   "outputs": [
    {
     "name": "stderr",
     "output_type": "stream",
     "text": [
      "/Users/ericaeggleton/miniconda3/envs/idaes/lib/python3.7/site-packages/tensorflow/python/framework/dtypes.py:516: FutureWarning: Passing (type, 1) or '1type' as a synonym of type is deprecated; in a future version of numpy, it will be understood as (type, (1,)) / '(1,)type'.\n",
      "  _np_qint8 = np.dtype([(\"qint8\", np.int8, 1)])\n",
      "/Users/ericaeggleton/miniconda3/envs/idaes/lib/python3.7/site-packages/tensorflow/python/framework/dtypes.py:517: FutureWarning: Passing (type, 1) or '1type' as a synonym of type is deprecated; in a future version of numpy, it will be understood as (type, (1,)) / '(1,)type'.\n",
      "  _np_quint8 = np.dtype([(\"quint8\", np.uint8, 1)])\n",
      "/Users/ericaeggleton/miniconda3/envs/idaes/lib/python3.7/site-packages/tensorflow/python/framework/dtypes.py:518: FutureWarning: Passing (type, 1) or '1type' as a synonym of type is deprecated; in a future version of numpy, it will be understood as (type, (1,)) / '(1,)type'.\n",
      "  _np_qint16 = np.dtype([(\"qint16\", np.int16, 1)])\n",
      "/Users/ericaeggleton/miniconda3/envs/idaes/lib/python3.7/site-packages/tensorflow/python/framework/dtypes.py:519: FutureWarning: Passing (type, 1) or '1type' as a synonym of type is deprecated; in a future version of numpy, it will be understood as (type, (1,)) / '(1,)type'.\n",
      "  _np_quint16 = np.dtype([(\"quint16\", np.uint16, 1)])\n",
      "/Users/ericaeggleton/miniconda3/envs/idaes/lib/python3.7/site-packages/tensorflow/python/framework/dtypes.py:520: FutureWarning: Passing (type, 1) or '1type' as a synonym of type is deprecated; in a future version of numpy, it will be understood as (type, (1,)) / '(1,)type'.\n",
      "  _np_qint32 = np.dtype([(\"qint32\", np.int32, 1)])\n",
      "/Users/ericaeggleton/miniconda3/envs/idaes/lib/python3.7/site-packages/tensorflow/python/framework/dtypes.py:525: FutureWarning: Passing (type, 1) or '1type' as a synonym of type is deprecated; in a future version of numpy, it will be understood as (type, (1,)) / '(1,)type'.\n",
      "  np_resource = np.dtype([(\"resource\", np.ubyte, 1)])\n"
     ]
    },
    {
     "name": "stdout",
     "output_type": "stream",
     "text": [
      "WARNING:tensorflow:From /Users/ericaeggleton/miniconda3/envs/idaes/lib/python3.7/site-packages/tensorflow/python/compat/v2_compat.py:61: disable_resource_variables (from tensorflow.python.ops.variable_scope) is deprecated and will be removed in a future version.\n",
      "Instructions for updating:\n",
      "non-resource variables are not supported in the long term\n"
     ]
    },
    {
     "name": "stderr",
     "output_type": "stream",
     "text": [
      "/Users/ericaeggleton/miniconda3/envs/idaes/lib/python3.7/site-packages/tensorboard/compat/tensorflow_stub/dtypes.py:541: FutureWarning: Passing (type, 1) or '1type' as a synonym of type is deprecated; in a future version of numpy, it will be understood as (type, (1,)) / '(1,)type'.\n",
      "  _np_qint8 = np.dtype([(\"qint8\", np.int8, 1)])\n",
      "/Users/ericaeggleton/miniconda3/envs/idaes/lib/python3.7/site-packages/tensorboard/compat/tensorflow_stub/dtypes.py:542: FutureWarning: Passing (type, 1) or '1type' as a synonym of type is deprecated; in a future version of numpy, it will be understood as (type, (1,)) / '(1,)type'.\n",
      "  _np_quint8 = np.dtype([(\"quint8\", np.uint8, 1)])\n",
      "/Users/ericaeggleton/miniconda3/envs/idaes/lib/python3.7/site-packages/tensorboard/compat/tensorflow_stub/dtypes.py:543: FutureWarning: Passing (type, 1) or '1type' as a synonym of type is deprecated; in a future version of numpy, it will be understood as (type, (1,)) / '(1,)type'.\n",
      "  _np_qint16 = np.dtype([(\"qint16\", np.int16, 1)])\n",
      "/Users/ericaeggleton/miniconda3/envs/idaes/lib/python3.7/site-packages/tensorboard/compat/tensorflow_stub/dtypes.py:544: FutureWarning: Passing (type, 1) or '1type' as a synonym of type is deprecated; in a future version of numpy, it will be understood as (type, (1,)) / '(1,)type'.\n",
      "  _np_quint16 = np.dtype([(\"quint16\", np.uint16, 1)])\n",
      "/Users/ericaeggleton/miniconda3/envs/idaes/lib/python3.7/site-packages/tensorboard/compat/tensorflow_stub/dtypes.py:545: FutureWarning: Passing (type, 1) or '1type' as a synonym of type is deprecated; in a future version of numpy, it will be understood as (type, (1,)) / '(1,)type'.\n",
      "  _np_qint32 = np.dtype([(\"qint32\", np.int32, 1)])\n",
      "/Users/ericaeggleton/miniconda3/envs/idaes/lib/python3.7/site-packages/tensorboard/compat/tensorflow_stub/dtypes.py:550: FutureWarning: Passing (type, 1) or '1type' as a synonym of type is deprecated; in a future version of numpy, it will be understood as (type, (1,)) / '(1,)type'.\n",
      "  np_resource = np.dtype([(\"resource\", np.ubyte, 1)])\n"
     ]
    },
    {
     "name": "stdout",
     "output_type": "stream",
     "text": [
      "WARNING: DEPRECATED: The generic_models.unit_models package has been moved to\n",
      "    idaes.models.unit_models  (deprecated in 2.0.0.alpha0) (called from\n",
      "    <frozen importlib._bootstrap>:219)\n",
      "WARNING: DEPRECATED: The generic_models.unit_models.pressure_changer module\n",
      "    has been moved to idaes.models.unit_models.pressure_changer  (deprecated\n",
      "    in 2.0.0.alpha0) (called from <frozen importlib._bootstrap>:219)\n",
      "WARNING: DEPRECATED: The generic_models.unit_models.heat_exchanger module has\n",
      "    been moved to idaes.models.unit_models.heat_exchanger  (deprecated in\n",
      "    2.0.0.alpha0) (called from <frozen importlib._bootstrap>:219)\n",
      "WARNING: DEPRECATED: the 'get_solver' function has been moved to\n",
      "    'idaes.core.solvers.get_solver'.  Please update your import. (deprecated\n",
      "    in 2.0.0.alpha0) (called from <frozen importlib._bootstrap>:219)\n"
     ]
    }
   ],
   "source": [
    "from RL_CORE import RL_call\n",
    "import widgets "
   ]
  },
  {
   "cell_type": "markdown",
   "id": "6eaf7d8f",
   "metadata": {},
   "source": [
    "## Select Units"
   ]
  },
  {
   "cell_type": "code",
   "execution_count": 2,
   "id": "c2151139",
   "metadata": {
    "code_folding": [
     2,
     14
    ]
   },
   "outputs": [],
   "source": [
    "w = widgets.select_units()"
   ]
  },
  {
   "cell_type": "markdown",
   "id": "9a788136",
   "metadata": {},
   "source": [
    "Use the dropdowns to select number of units."
   ]
  },
  {
   "cell_type": "code",
   "execution_count": 3,
   "id": "62a898bd",
   "metadata": {
    "code_folding": [
     0
    ]
   },
   "outputs": [
    {
     "data": {
      "application/vnd.jupyter.widget-view+json": {
       "model_id": "a6316b6a2730457baa42ab554a170555",
       "version_major": 2,
       "version_minor": 0
      },
      "text/plain": [
       "interactive(children=(Dropdown(description='Heater', index=1, options=('0', '1', '2'), style=DescriptionStyle(…"
      ]
     },
     "metadata": {},
     "output_type": "display_data"
    }
   ],
   "source": [
    "display(w)"
   ]
  },
  {
   "cell_type": "markdown",
   "id": "cd92cc43",
   "metadata": {},
   "source": [
    "Check that the resulting list matches your input."
   ]
  },
  {
   "cell_type": "code",
   "execution_count": 4,
   "id": "e67f7666",
   "metadata": {
    "code_folding": [
     0
    ]
   },
   "outputs": [
    {
     "data": {
      "text/plain": [
       "['inlet_feed',\n",
       " 'outlet_product',\n",
       " 'outlet_exhaust',\n",
       " 'heater_1',\n",
       " 'heatex_1',\n",
       " 'StReactor_1',\n",
       " 'mixer2to1_1',\n",
       " 'mixer2to1_2',\n",
       " 'flash_1',\n",
       " 'splitter1to2_1',\n",
       " 'compressor_1',\n",
       " 'expander_1']"
      ]
     },
     "execution_count": 4,
     "metadata": {},
     "output_type": "execute_result"
    }
   ],
   "source": [
    "w.result"
   ]
  },
  {
   "cell_type": "code",
   "execution_count": null,
   "id": "37b65e4f",
   "metadata": {},
   "outputs": [],
   "source": [
    "list_inlet_all = []\n",
    "#for item in list_unit_all:"
   ]
  },
  {
   "cell_type": "code",
   "execution_count": null,
   "id": "694da66e",
   "metadata": {},
   "outputs": [],
   "source": [
    "class user_inputs:\n",
    "    def __init__(self):\n",
    "        self.list_unit_all = build_unit_lists(unit_nums)\n",
    "        self.list_inlet_all = ['outlet_product.inlet', 'outlet_exhaust.inlet',\\\n",
    "                'mixer2to1_1.inlet_1', 'mixer2to1_1.inlet_2', 'heater_1.inlet',\\\n",
    "                'StReactor_1.inlet', 'flash_1.inlet', 'splitter1to2_1.inlet', \\\n",
    "                'compressor_1.inlet']\n",
    "        self.list_outlet_all = ['inlet_feed.outlet', 'mixer2to1_1.outlet',\\\n",
    "                'heater_1.outlet', 'StReactor_1.outlet', 'flash_1.liq_outlet',\\\n",
    "                    'flash_1.vap_outlet', 'splitter1to2_1.outlet_1',\\\n",
    "                        'splitter1to2_1.outlet_2','compressor_1.outlet']"
   ]
  },
  {
   "cell_type": "code",
   "execution_count": null,
   "id": "9fad102d",
   "metadata": {},
   "outputs": [],
   "source": []
  },
  {
   "cell_type": "markdown",
   "id": "a535b5fa",
   "metadata": {},
   "source": [
    "## RL Options"
   ]
  },
  {
   "cell_type": "markdown",
   "id": "b33757d0",
   "metadata": {},
   "source": [
    "Select desired reinforcement learning parameters"
   ]
  },
  {
   "cell_type": "markdown",
   "id": "4c718500",
   "metadata": {},
   "source": [
    "First, how many episodes or training steps? (Default: 300,000)\n",
    "Next, define the starting *e-greedy* value, or whether the model prioritizes **exploration** vs. **highest reward**. A value of 1 means the model only explores, whereas a value of 0 means the model only picks the highest reward. (Default: 0.8)\n",
    "Then, select the *e-greedy increment* and learning rate and GNN option."
   ]
  },
  {
   "cell_type": "code",
   "execution_count": null,
   "id": "8d08432d",
   "metadata": {
    "code_folding": [],
    "scrolled": true
   },
   "outputs": [],
   "source": [
    "episodes_widget = widgets.IntSlider(\n",
    "    value=300000,\n",
    "    min=0,\n",
    "    max=500000,\n",
    "    step=50000,\n",
    "    description='Episodes:',\n",
    "    style = {'description_width': 'initial'},\n",
    "    disabled=False,\n",
    "    continuous_update=False,\n",
    "    orientation='horizontal',\n",
    "    readout=True,\n",
    "    readout_format='d'\n",
    ")\n",
    "\n",
    "greedy_widget = widgets.FloatSlider(\n",
    "    value=0.8,\n",
    "    min=0,\n",
    "    max=1,\n",
    "    step=0.1,\n",
    "    description='Greedy:',\n",
    "    style = {'description_width': 'initial'},\n",
    "    disabled=False,\n",
    "    continuous_update=False,\n",
    "    orientation='horizontal',\n",
    "    readout=True,\n",
    "    readout_format='.1f',\n",
    ")\n",
    "\n",
    "greedy_inc_widget = widgets.FloatSlider(\n",
    "    value=5e-6,\n",
    "    min=0,\n",
    "    max=5e-3,\n",
    "    step=5e-7,\n",
    "    description='e-greedy increment:',\n",
    "    style = {'description_width': 'initial'},\n",
    "    disabled=False,\n",
    "    continuous_update=False,\n",
    "    orientation='horizontal',\n",
    "    readout=True,\n",
    "    readout_format= '.6f',\n",
    ")\n",
    "\n",
    "learning_widget = widgets.FloatSlider(\n",
    "    value=0.01,\n",
    "    min=0,\n",
    "    max=0.1,\n",
    "    step=0.01,\n",
    "    description='Learning rate:',\n",
    "    style = {'description_width': 'initial'},\n",
    "    disabled=False,\n",
    "    continuous_update=False,\n",
    "    orientation='horizontal',\n",
    "    readout=True,\n",
    "    readout_format= '.2f',\n",
    ")\n",
    "\n",
    "GNN_widget = widgets.Dropdown(\n",
    "    options=['True', 'False'],\n",
    "    value='False',\n",
    "    description= 'GNN Enabled',\n",
    "    disabled=False,\n",
    "    style = {'description_width': 'initial'}\n",
    ")\n",
    "\n",
    "display(episodes_widget, greedy_widget, greedy_inc_widget, learning_widget, GNN_widget)"
   ]
  },
  {
   "cell_type": "code",
   "execution_count": null,
   "id": "4aee213e",
   "metadata": {},
   "outputs": [],
   "source": [
    "episodes = episodes_widget.value\n",
    "greedy = greedy_widget.value\n",
    "greedy_inc = greedy_inc_widget.value\n",
    "learning = learning_widget.value\n",
    "GNN = eval(GNN_widget.value)"
   ]
  },
  {
   "cell_type": "code",
   "execution_count": null,
   "id": "00faa376",
   "metadata": {},
   "outputs": [],
   "source": [
    "P = {'model_restore':False,'model_save':False,'Episode_max_mode':'static','Episode_max':episodes,\n",
    "          'threshold_learn':-1,'model_index':1,'GNN_enable':False,'learning_rate':learning,\n",
    "          'reward_decay':0.5,'e_greedy':greedy,'replace_target_iter':200,'memory_size':20000,\n",
    "          'e_greedy_increment_ref':greedy_inc,'e_greedy_increment_type':'variable',\n",
    "          'batch_size':32,'e_greedy_increment_intervals':[0,0.4,0.6,0.7,0.8,0.9,1.0],\n",
    "          'e_greedy_increment_ratios':[1,1,1,1,1,1],'Additianl_step':500}"
   ]
  },
  {
   "cell_type": "code",
   "execution_count": null,
   "id": "4be8052f",
   "metadata": {},
   "outputs": [],
   "source": []
  },
  {
   "cell_type": "markdown",
   "id": "caa7f66f",
   "metadata": {},
   "source": [
    "## Run RL"
   ]
  },
  {
   "cell_type": "code",
   "execution_count": null,
   "id": "e20c8683",
   "metadata": {},
   "outputs": [],
   "source": [
    "RL_call(user_inputs(),P)"
   ]
  },
  {
   "cell_type": "markdown",
   "id": "381a830b",
   "metadata": {},
   "source": [
    "## Visualizations"
   ]
  },
  {
   "cell_type": "code",
   "execution_count": null,
   "id": "73c0828e",
   "metadata": {
    "code_folding": []
   },
   "outputs": [],
   "source": [
    "file1 = open(\"result_n9/IDAES_unique_feasible_1.png\", mode='rb')\n",
    "image1 = file1.read()\n",
    "file2 = open(\"result_n9/IDAES_unique_1.png\", mode='rb')\n",
    "image2 = file2.read()\n",
    "cases = widgets.Image(\n",
    "    value=image2,\n",
    "    format='png',\n",
    "    width=400,\n",
    "    height=600,\n",
    ")\n",
    "feasible = widgets.Image(\n",
    "    value=image1,\n",
    "    format='png',\n",
    "    width=400,\n",
    "    height=600,\n",
    ")\n",
    "\n",
    "sidebyside = widgets.HBox([cases, feasible])\n",
    "display.display(sidebyside)"
   ]
  },
  {
   "cell_type": "markdown",
   "id": "c8c7d39f",
   "metadata": {},
   "source": [
    "* RL outputs\n",
    "* **top 10 IDAES flow sheets and rerun**\n",
    "* Dataframe with flow sheet specs/criteria\n",
    "    * Overall Mass balance\n",
    "    * Overall Energy balance\n",
    "    * Net energy input (process heat input)\n",
    "    * Yields\n",
    "        * Hydrogen utilization\n",
    "    * flow sheet differences\n",
    "* **Plots**\n",
    "    * Hydrogen utilization\n",
    "    * **Cost**\n",
    "    * Show benefits\n",
    "        * thermal integration\n",
    "            * heat wasted\n",
    "            * pre-heating of inputs\n",
    "   "
   ]
  },
  {
   "cell_type": "code",
   "execution_count": null,
   "id": "61621936",
   "metadata": {},
   "outputs": [],
   "source": []
  }
 ],
 "metadata": {
  "kernelspec": {
   "display_name": "Python 3",
   "language": "python",
   "name": "python3"
  },
  "language_info": {
   "codemirror_mode": {
    "name": "ipython",
    "version": 3
   },
   "file_extension": ".py",
   "mimetype": "text/x-python",
   "name": "python",
   "nbconvert_exporter": "python",
   "pygments_lexer": "ipython3",
   "version": "3.7.11"
  }
 },
 "nbformat": 4,
 "nbformat_minor": 5
}
