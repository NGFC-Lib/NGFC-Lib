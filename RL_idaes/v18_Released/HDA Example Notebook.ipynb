{
 "cells": [
  {
   "cell_type": "markdown",
   "id": "70dbfb67",
   "metadata": {},
   "source": [
    "# IDAES-PSE and Reinforcement Learning (RL): HDA Example Notebook"
   ]
  },
  {
   "cell_type": "markdown",
   "id": "eb0ca500",
   "metadata": {},
   "source": [
    "The purpose of this notebook is to guide the user through the flow sheet design process. For this example, we will be designing a **hydrodealkylation (HDA)** process system, in which toluene reacts with hydrogen gas at high temperatures to form benzene. "
   ]
  },
  {
   "cell_type": "markdown",
   "id": "cc3fbe25",
   "metadata": {},
   "source": [
    "**C<sub>6</sub>H<sub>5</sub>CH<sub>3</sub> + H<sub>2</sub> &rarr; C<sub>6</sub>H<sub>6</sub> + CH<sub>4</sub>** "
   ]
  },
  {
   "cell_type": "code",
   "execution_count": null,
   "id": "b81526af",
   "metadata": {
    "scrolled": true
   },
   "outputs": [],
   "source": [
    "from RL_CORE import RL_call\n",
    "import widgets \n",
    "import ipywidgets"
   ]
  },
  {
   "cell_type": "markdown",
   "id": "6eaf7d8f",
   "metadata": {},
   "source": [
    "## Select Units"
   ]
  },
  {
   "cell_type": "code",
   "execution_count": null,
   "id": "c2151139",
   "metadata": {
    "code_folding": [
     2,
     14
    ]
   },
   "outputs": [],
   "source": [
    "w = widgets.select_units()"
   ]
  },
  {
   "cell_type": "markdown",
   "id": "c8d445fe",
   "metadata": {},
   "source": [
    "Use the dropdowns to select number of units."
   ]
  },
  {
   "cell_type": "code",
   "execution_count": null,
   "id": "62a898bd",
   "metadata": {
    "code_folding": [
     0
    ]
   },
   "outputs": [],
   "source": [
    "display(w)"
   ]
  },
  {
   "cell_type": "markdown",
   "id": "2cb45c35",
   "metadata": {},
   "source": [
    "Check that the resulting list matches your input."
   ]
  },
  {
   "cell_type": "code",
   "execution_count": null,
   "id": "e67f7666",
   "metadata": {
    "code_folding": [
     0
    ]
   },
   "outputs": [],
   "source": [
    "w.result[0]"
   ]
  },
  {
   "cell_type": "code",
   "execution_count": null,
   "id": "211c4201",
   "metadata": {},
   "outputs": [],
   "source": [
    "class user_inputs:\n",
    "    def __init__(self):\n",
    "        self.list_unit_all = w.result[0]\n",
    "        self.list_inlet_all = w.result[1]\n",
    "        self.list_outlet_all = w.result[2]"
   ]
  },
  {
   "cell_type": "markdown",
   "id": "a535b5fa",
   "metadata": {},
   "source": [
    "## RL Options"
   ]
  },
  {
   "cell_type": "markdown",
   "id": "b33757d0",
   "metadata": {},
   "source": [
    "Select desired reinforcement learning parameters"
   ]
  },
  {
   "cell_type": "markdown",
   "id": "4c718500",
   "metadata": {},
   "source": [
    "First, how many episodes or training steps? (Default: 300,000)\n",
    "Next, define the starting *e-greedy* value, or whether the model prioritizes **exploration** vs. **highest reward**. A value of 1 means the model only explores, whereas a value of 0 means the model only picks the highest reward. (Default: 0.8)\n",
    "Then, select the *e-greedy increment* and learning rate and GNN option."
   ]
  },
  {
   "cell_type": "code",
   "execution_count": null,
   "id": "8d08432d",
   "metadata": {
    "code_folding": [],
    "scrolled": true
   },
   "outputs": [],
   "source": [
    "r = widgets.RL_options()"
   ]
  },
  {
   "cell_type": "code",
   "execution_count": null,
   "id": "f65fc001",
   "metadata": {},
   "outputs": [],
   "source": [
    "display(r)"
   ]
  },
  {
   "cell_type": "code",
   "execution_count": null,
   "id": "e936e009",
   "metadata": {},
   "outputs": [],
   "source": [
    "P = {'model_restore':False,'model_save':False,'Episode_max_mode':'static','Episode_max':r.result[0],\n",
    "          'threshold_learn':-1,'model_index':1,'GNN_enable':eval(r.result[4]),'learning_rate':r.result[3],\n",
    "          'reward_decay':0.5,'e_greedy':r.result[1],'replace_target_iter':200,'memory_size':20000,\n",
    "          'e_greedy_increment_ref':r.result[2],'e_greedy_increment_type':'variable',\n",
    "          'batch_size':32,'e_greedy_increment_intervals':[0,0.4,0.6,0.7,0.8,0.9,1.0],\n",
    "          'e_greedy_increment_ratios':[1,1,1,1,1,1],'Additianl_step':500}"
   ]
  },
  {
   "cell_type": "code",
   "execution_count": null,
   "id": "b4a65fd7",
   "metadata": {},
   "outputs": [],
   "source": []
  },
  {
   "cell_type": "markdown",
   "id": "caa7f66f",
   "metadata": {},
   "source": [
    "## Run RL"
   ]
  },
  {
   "cell_type": "code",
   "execution_count": null,
   "id": "e20c8683",
   "metadata": {},
   "outputs": [],
   "source": [
    "RL_call(user_inputs(),P)"
   ]
  },
  {
   "cell_type": "markdown",
   "id": "381a830b",
   "metadata": {},
   "source": [
    "## Visualizations"
   ]
  },
  {
   "cell_type": "code",
   "execution_count": null,
   "id": "73c0828e",
   "metadata": {
    "code_folding": []
   },
   "outputs": [],
   "source": [
    "file1 = open(\"result_n12/IDAES_unique_feasible_1.png\", mode='rb')\n",
    "image1 = file1.read()\n",
    "file2 = open(\"result_n12/IDAES_unique_1.png\", mode='rb')\n",
    "image2 = file2.read()\n",
    "cases = ipywidgets.Image(\n",
    "    value=image2,\n",
    "    format='png',\n",
    "    width=400,\n",
    "    height=600,\n",
    ")\n",
    "feasible = ipywidgets.Image(\n",
    "    value=image1,\n",
    "    format='png',\n",
    "    width=400,\n",
    "    height=600,\n",
    ")\n",
    "\n",
    "sidebyside = ipywidgets.HBox([cases, feasible])\n",
    "display(sidebyside)"
   ]
  },
  {
   "cell_type": "markdown",
   "id": "c8c7d39f",
   "metadata": {},
   "source": []
  },
  {
   "cell_type": "code",
   "execution_count": null,
   "id": "61621936",
   "metadata": {},
   "outputs": [],
   "source": []
  }
 ],
 "metadata": {
  "kernelspec": {
   "display_name": "Python 3",
   "language": "python",
   "name": "python3"
  },
  "language_info": {
   "codemirror_mode": {
    "name": "ipython",
    "version": 3
   },
   "file_extension": ".py",
   "mimetype": "text/x-python",
   "name": "python",
   "nbconvert_exporter": "python",
   "pygments_lexer": "ipython3",
   "version": "3.7.11"
  }
 },
 "nbformat": 4,
 "nbformat_minor": 5
}
