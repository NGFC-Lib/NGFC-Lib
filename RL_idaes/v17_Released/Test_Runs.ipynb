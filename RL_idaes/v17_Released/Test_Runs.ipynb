{
 "cells": [
  {
   "cell_type": "code",
   "execution_count": 2,
   "id": "de2116d8",
   "metadata": {},
   "outputs": [
    {
     "name": "stdout",
     "output_type": "stream",
     "text": [
      "Degrees of Freedom (build) = 25\n",
      "Degrees of Freedom (set inputs) = 0\n",
      "Degrees of Freedom (after initialize) = 0\n",
      "Degrees of Freedom (add bounds) = 3\n",
      "benzene purity =  0.7500309907981365\n",
      "benzene flow rate = 0.22506122412045715\n",
      "physical operational?  optimal\n",
      "annualized capital cost $/year = 56340.707210942724\n",
      "operating cost $/year =  75799.38720384939\n",
      "sales in $/year =  1385970.3199132958\n",
      "raw materials in $/year = 489238.403328\n",
      "revenue in 1000$/year=  764.5918221705037\n"
     ]
    }
   ],
   "source": [
    "%run HDA_IDAES_v7_example_v2.py"
   ]
  },
  {
   "cell_type": "code",
   "execution_count": null,
   "id": "d18bc4b4",
   "metadata": {},
   "outputs": [],
   "source": [
    "%run run_this.py"
   ]
  }
 ],
 "metadata": {
  "kernelspec": {
   "display_name": "Python 3 (ipykernel)",
   "language": "python",
   "name": "python3"
  },
  "language_info": {
   "codemirror_mode": {
    "name": "ipython",
    "version": 3
   },
   "file_extension": ".py",
   "mimetype": "text/x-python",
   "name": "python",
   "nbconvert_exporter": "python",
   "pygments_lexer": "ipython3",
   "version": "3.9.7"
  }
 },
 "nbformat": 4,
 "nbformat_minor": 5
}
