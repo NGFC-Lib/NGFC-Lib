{
 "cells": [
  {
   "cell_type": "markdown",
   "metadata": {},
   "source": [
    "# Create a Heater"
   ]
  },
  {
   "cell_type": "markdown",
   "metadata": {},
   "source": [
    "In this exercise, we will build a heater unit model. The model will assume negligible pressure drop. Most of the code is complete, but you will need to fill in a few key pieces.\n",
    "\n",
    "The imports below are complete."
   ]
  },
  {
   "cell_type": "code",
   "execution_count": null,
   "metadata": {},
   "outputs": [],
   "source": [
    "import pyomo.environ as pe\n",
    "from pyomo.common.config import ConfigBlock, ConfigValue, In\n",
    "from idaes.core import (ControlVolume0DBlock,\n",
    "                        declare_process_block_class,\n",
    "                        EnergyBalanceType,\n",
    "                        MomentumBalanceType,\n",
    "                        MaterialBalanceType,\n",
    "                        UnitModelBlockData,\n",
    "                        useDefault,\n",
    "                        FlowsheetBlock)\n",
    "from idaes.core.util.config import is_physical_parameter_block\n",
    "from methanol_param_VLE import PhysicalParameterBlock\n",
    "from idaes.core.util.misc import add_object_reference"
   ]
  },
  {
   "cell_type": "markdown",
   "metadata": {},
   "source": [
    "Finish the ``make_control_volume`` function by using the control volume to add material, energy, and momentum balances. Try using the documentation for ControlVolume0DBlocks https://idaes-pse.readthedocs.io/en/latest/core/control_volume_0d.html#d-control-volume-class. \n",
    "\n",
    "Hint: For a negligible pressure drop, we can use the total pressure balance defined by ``ControlVolume0DBlock`` without a pressure change."
   ]
  },
  {
   "cell_type": "code",
   "execution_count": null,
   "metadata": {},
   "outputs": [],
   "source": [
    "def make_control_volume(unit, name, config):\n",
    "    if config.dynamic is not False:\n",
    "        raise ValueError('IdealGasIsentropcCompressor does not support dynamics')\n",
    "    if config.has_holdup is not False:\n",
    "        raise ValueError('IdealGasIsentropcCompressor does not support holdup')\n",
    "\n",
    "    control_volume = ControlVolume0DBlock(default={\"property_package\": config.property_package,\n",
    "                                                   \"property_package_args\": config.property_package_args})\n",
    "\n",
    "    setattr(unit, name, control_volume)\n",
    "\n",
    "    control_volume.add_state_blocks(has_phase_equilibrium=config.has_phase_equilibrium)\n",
    "    ##########\n",
    "    # Add mass, energy, and momentum balances here\n",
    "    ##########"
   ]
  },
  {
   "cell_type": "markdown",
   "metadata": {},
   "source": [
    "The ``make_config_block`` function is complete."
   ]
  },
  {
   "cell_type": "code",
   "execution_count": null,
   "metadata": {},
   "outputs": [],
   "source": [
    "def make_config_block(config):\n",
    "    config.declare(\"material_balance_type\", ConfigValue(default=MaterialBalanceType.componentPhase, domain=In(MaterialBalanceType)))\n",
    "    config.declare(\"energy_balance_type\", ConfigValue(default=EnergyBalanceType.enthalpyTotal, domain=In([EnergyBalanceType.enthalpyTotal])))\n",
    "    config.declare(\"momentum_balance_type\", ConfigValue(default=MomentumBalanceType.pressureTotal, domain=In([MomentumBalanceType.pressureTotal])))\n",
    "    config.declare(\"has_phase_equilibrium\", ConfigValue(default=False, domain=In([False])))\n",
    "    config.declare(\"has_pressure_change\", ConfigValue(default=False, domain=In([False])))\n",
    "    config.declare(\"property_package\", ConfigValue(default=useDefault, domain=is_physical_parameter_block))\n",
    "    config.declare(\"property_package_args\", ConfigBlock(implicit=True))"
   ]
  },
  {
   "cell_type": "markdown",
   "metadata": {},
   "source": [
    "Complete the Heater by defining the ``build`` method."
   ]
  },
  {
   "cell_type": "code",
   "execution_count": null,
   "metadata": {},
   "outputs": [],
   "source": [
    "@declare_process_block_class(\"Heater\")\n",
    "class HeaterData(UnitModelBlockData):\n",
    "    CONFIG = UnitModelBlockData.CONFIG()\n",
    "    make_config_block(CONFIG)\n",
    "\n",
    "    def build(self):\n",
    "        # Complete the build method.\n",
    "        # Don't forget to add a reference to the control \n",
    "        # volume 'heat' variable (similar to the compressor \n",
    "        # 'work' variable.)\n"
   ]
  },
  {
   "cell_type": "markdown",
   "metadata": {},
   "source": [
    "The code below is complete. If the Heater is defined correctly, the model below should solve, and the outlet temperature and pressure should be 4.31 (hundred Kelvin) and 0.1 (MPa), respectively."
   ]
  },
  {
   "cell_type": "code",
   "execution_count": null,
   "metadata": {},
   "outputs": [],
   "source": [
    "m = pe.ConcreteModel()\n",
    "m.fs = fs = FlowsheetBlock(default={\"dynamic\": False})\n",
    "fs.properties = props = PhysicalParameterBlock(default={'Cp': 0.038056, 'valid_phase': 'Vap'})\n",
    "\n",
    "fs.heater = Heater(default={\"property_package\": props, 'has_phase_equilibrium': False})\n",
    "fs.heater.inlet.flow_mol.fix(1)\n",
    "fs.heater.inlet.mole_frac_comp[0, 'CH3OH'].fix(0.25)\n",
    "fs.heater.inlet.mole_frac_comp[0, 'CH4'].fix(0.25)\n",
    "fs.heater.inlet.mole_frac_comp[0, 'H2'].fix(0.25)\n",
    "fs.heater.inlet.mole_frac_comp[0, 'CO'].fix(0.25)\n",
    "fs.heater.inlet.pressure.fix(0.1)\n",
    "fs.heater.inlet.temperature.fix(3)\n",
    "fs.heater.heat.fix(5)\n",
    "\n",
    "opt = pe.SolverFactory('ipopt')\n",
    "opt.options['linear_solver'] = 'ma27'\n",
    "res = opt.solve(m, tee=False)\n",
    "print(res.solver.termination_condition)\n",
    "fs.heater.outlet.display()"
   ]
  },
  {
   "cell_type": "code",
   "execution_count": null,
   "metadata": {},
   "outputs": [],
   "source": []
  }
 ],
 "metadata": {
  "kernelspec": {
   "display_name": "Python 3",
   "language": "python",
   "name": "python3"
  },
  "language_info": {
   "codemirror_mode": {
    "name": "ipython",
    "version": 3
   },
   "file_extension": ".py",
   "mimetype": "text/x-python",
   "name": "python",
   "nbconvert_exporter": "python",
   "pygments_lexer": "ipython3",
   "version": "3.7.3"
  }
 },
 "nbformat": 4,
 "nbformat_minor": 2
}
