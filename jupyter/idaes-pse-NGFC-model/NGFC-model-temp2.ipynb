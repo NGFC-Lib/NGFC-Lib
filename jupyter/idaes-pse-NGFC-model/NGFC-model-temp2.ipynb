{
 "cells": [
  {
   "cell_type": "markdown",
   "metadata": {},
   "source": [
    "# NGFC Modelling with IDEAS - pse\n",
    "This is a modelling example of a NGFC system using idaes-pse framework."
   ]
  },
  {
   "cell_type": "code",
   "execution_count": 1,
   "metadata": {},
   "outputs": [],
   "source": [
    "from pyomo.environ import ConcreteModel, Constraint, Objective, SolverFactory, TransformationFactory, Constraint, Var\n",
    "from pyomo.network import Arc"
   ]
  },
  {
   "cell_type": "code",
   "execution_count": 2,
   "metadata": {},
   "outputs": [],
   "source": [
    "from idaes.core import FlowsheetBlock\n",
    "from idaes.unit_models import Mixer, HeatExchanger, Separator, GibbsReactor, Heater\n",
    "# Methane combustion ideal package got CH4, H2O, CO, CO2, N2, NH3, O2\n",
    "import idaes.property_models.activity_coeff_models.methane_combustion_ideal as thermo_props\n",
    "#import idaes.property_models.activity_coeff_models.methane_combustion_ideal as reaction_props"
   ]
  },
  {
   "cell_type": "code",
   "execution_count": 3,
   "metadata": {},
   "outputs": [],
   "source": [
    "import matplotlib.pyplot as plt"
   ]
  },
  {
   "cell_type": "code",
   "execution_count": 4,
   "metadata": {},
   "outputs": [],
   "source": [
    "from idaes.unit_models.separator import SplittingType\n",
    "from idaes.unit_models.heat_exchanger import delta_temperature_amtd_callback\n",
    "from idaes.core.util.model_statistics import degrees_of_freedom as dof"
   ]
  },
  {
   "cell_type": "markdown",
   "metadata": {},
   "source": [
    "### Building Base Flowsheet."
   ]
  },
  {
   "cell_type": "code",
   "execution_count": 5,
   "metadata": {},
   "outputs": [],
   "source": [
    "m = ConcreteModel()\n",
    "m.fs = FlowsheetBlock(default={\"dynamic\": False})\n",
    "m.fs.thermo_params = thermo_props.MethaneParameterBlock()"
   ]
  },
  {
   "cell_type": "code",
   "execution_count": 6,
   "metadata": {},
   "outputs": [
    {
     "name": "stdout",
     "output_type": "stream",
     "text": [
      "mole of methane feed: 10 mole/s\n",
      "mole of steam feed: 20 mole/s\n",
      "mole of air feed: 507.936507936508 mole/s\n",
      "Anode exhaust: \n",
      "y_H2ex: 0.04\n",
      "y_COex: 0.11999999999999997\n",
      "y_CO2ex: 0.08000000000000003\n",
      "y_H2Oex: 0.76\n",
      "Total mole/s: 50.0\n",
      "Cathode exhaust: \n",
      "y_O2ex: 0.18430562725864738\n",
      "y_N2ex: 0.8156943727413526\n",
      "Total mole/s: 491.936507936508\n"
     ]
    }
   ],
   "source": [
    "# Fuel ultilization (Uf): mole reductant consumed in FC per mole of reductant total\n",
    "Uf = 0.8\n",
    "# Air ultilization (Ua): mole of air consumed in FC per mole of air feed\n",
    "Ua = 0.15\n",
    "# Methane to steam ratio (MS): mole methane per mole water\n",
    "MS = 2\n",
    "# Feed:\n",
    "# Reaction: \n",
    "# Reforming: CH4 + H2O -> CO + 3H2\n",
    "# Water gas shift: CO + H2O -> CO2 + H2\n",
    "# Methane combustion: CH4 + 2O2 -> CO2 + 2H2O\n",
    "# Hydrogen combustion: H2 + 1/2O2 -> H2O\n",
    "# Carbon monoxide combustion: CO + 1/2O2 -> CO2\n",
    "\n",
    "n_CH4f = 10\n",
    "print(\"mole of methane feed: \"+str(n_CH4f)+\" mole/s\")\n",
    "n_H2Of = n_CH4f*MS\n",
    "print(\"mole of steam feed: \"+str(n_H2Of)+\" mole/s\")\n",
    "n_O2f = n_CH4f*Uf*2/Ua\n",
    "n_N2f = n_O2f*0.79/0.21\n",
    "print(\"mole of air feed: \"+str(n_N2f+n_O2f)+\" mole/s\")\n",
    "\n",
    "n_H2ex = 2\n",
    "n_COex = n_CH4f*(1-Uf)*4-n_H2ex\n",
    "n_CO2ex = n_CH4f-n_COex\n",
    "n_H2Oex = n_H2Of+2*n_CH4f-n_H2ex\n",
    "y_H2ex = n_H2ex/(n_H2ex + n_COex + n_CO2ex + n_H2Oex)\n",
    "y_COex = n_COex/(n_H2ex + n_COex + n_CO2ex + n_H2Oex)\n",
    "y_CO2ex = n_CO2ex/(n_H2ex + n_COex + n_CO2ex + n_H2Oex)\n",
    "y_H2Oex = n_H2Oex/(n_H2ex + n_COex + n_CO2ex + n_H2Oex)\n",
    "\n",
    "print(\"Anode exhaust: \")\n",
    "print(\"y_H2ex: \"+str(y_H2ex))\n",
    "print(\"y_COex: \"+str(y_COex))\n",
    "print(\"y_CO2ex: \"+str(y_CO2ex))\n",
    "print(\"y_H2Oex: \"+str(y_H2Oex))\n",
    "print(\"Total mole/s: \"+str(n_H2ex + n_COex + n_CO2ex + n_H2Oex))\n",
    "\n",
    "n_N2ex = n_N2f\n",
    "n_O2ex = n_O2f - n_CH4f*Uf*2\n",
    "y_O2ex = n_O2ex/(n_O2ex+n_N2ex)\n",
    "y_N2ex = n_N2ex/(n_O2ex+n_N2ex)\n",
    "print(\"Cathode exhaust: \")\n",
    "print(\"y_O2ex: \"+str(y_O2ex))\n",
    "print(\"y_N2ex: \"+str(y_N2ex))\n",
    "print(\"Total mole/s: \"+str(n_O2ex+n_N2ex))"
   ]
  },
  {
   "cell_type": "code",
   "execution_count": 7,
   "metadata": {},
   "outputs": [],
   "source": [
    "# Temperature User input\n",
    "T_FC_air_in = 700 + 273.15\n",
    "T_FC_fuel_in = 500 + 273.15\n",
    "T_FC_ex_out = 800 + 273.15"
   ]
  },
  {
   "cell_type": "markdown",
   "metadata": {},
   "source": [
    "### Declare all Units:"
   ]
  },
  {
   "cell_type": "code",
   "execution_count": null,
   "metadata": {},
   "outputs": [],
   "source": [
    "m.fs.HX1c = Heater(default={\"property_package\": m.fs.thermo_params})"
   ]
  },
  {
   "cell_type": "code",
   "execution_count": null,
   "metadata": {},
   "outputs": [],
   "source": [
    "m.fs.HX1h = Heater(default={\"property_package\": m.fs.thermo_params})"
   ]
  },
  {
   "cell_type": "code",
   "execution_count": null,
   "metadata": {},
   "outputs": [],
   "source": [
    "m.fs.HX2c = Heater(default={\"property_package\": m.fs.thermo_params})"
   ]
  },
  {
   "cell_type": "code",
   "execution_count": null,
   "metadata": {},
   "outputs": [],
   "source": [
    "m.fs.HX2h = Heater(default={\"property_package\": m.fs.thermo_params})"
   ]
  },
  {
   "cell_type": "code",
   "execution_count": null,
   "metadata": {},
   "outputs": [],
   "source": [
    "m.fs.HX3c = Heater(default={\"property_package\": m.fs.thermo_params})"
   ]
  },
  {
   "cell_type": "code",
   "execution_count": null,
   "metadata": {},
   "outputs": [],
   "source": [
    "m.fs.HX3h = Heater(default={\"property_package\": m.fs.thermo_params})"
   ]
  },
  {
   "cell_type": "code",
   "execution_count": null,
   "metadata": {},
   "outputs": [],
   "source": [
    "m.fs.Boiler = Heater(default={\"property_package\": m.fs.thermo_params})"
   ]
  },
  {
   "cell_type": "code",
   "execution_count": null,
   "metadata": {},
   "outputs": [],
   "source": [
    "m.fs.Mix1 = Mixer(default={\"dynamic\": False,\n",
    "                           \"property_package\": m.fs.thermo_params})"
   ]
  },
  {
   "cell_type": "code",
   "execution_count": null,
   "metadata": {},
   "outputs": [],
   "source": [
    "m.fs.Mix2 = Mixer(default={\"dynamic\": False,\n",
    "                           \"property_package\": m.fs.thermo_params})"
   ]
  },
  {
   "cell_type": "code",
   "execution_count": null,
   "metadata": {},
   "outputs": [],
   "source": [
    "m.fs.Mix3 = Mixer(default={\"dynamic\": False,\n",
    "                           \"property_package\": m.fs.thermo_params})"
   ]
  },
  {
   "cell_type": "code",
   "execution_count": null,
   "metadata": {},
   "outputs": [],
   "source": [
    "m.fs.Mix4 = Mixer(default={\"dynamic\": False,\n",
    "                           \"num_inlets\": 3,\n",
    "                           \"property_package\": m.fs.thermo_params})"
   ]
  },
  {
   "cell_type": "code",
   "execution_count": null,
   "metadata": {},
   "outputs": [],
   "source": [
    "m.fs.Split1 = Separator(default={\"dynamic\": False,\n",
    "                                 \"split_basis\": SplittingType.componentFlow,\n",
    "                                 \"property_package\": m.fs.thermo_params})"
   ]
  },
  {
   "cell_type": "code",
   "execution_count": null,
   "metadata": {},
   "outputs": [],
   "source": [
    "m.fs.Split2 = Separator(default={\"dynamic\": False,\n",
    "                                 \"num_outlets\": 3,\n",
    "                                 \"split_basis\": SplittingType.totalFlow,\n",
    "                                 \"property_package\": m.fs.thermo_params})"
   ]
  },
  {
   "cell_type": "code",
   "execution_count": null,
   "metadata": {},
   "outputs": [],
   "source": [
    "m.fs.Reformer = GibbsReactor(default={\"dynamic\": False,\n",
    "                                      \"property_package\": m.fs.thermo_params,\n",
    "                                      \"has_pressure_change\": False,\n",
    "                                      \"has_heat_transfer\": True})"
   ]
  },
  {
   "cell_type": "code",
   "execution_count": null,
   "metadata": {},
   "outputs": [],
   "source": [
    "m.fs.SOFC = GibbsReactor(default={\"dynamic\": False,\n",
    "                                  \"property_package\": m.fs.thermo_params,\n",
    "                                  \"has_pressure_change\": False,\n",
    "                                  \"has_heat_transfer\": True})"
   ]
  },
  {
   "cell_type": "code",
   "execution_count": null,
   "metadata": {},
   "outputs": [],
   "source": [
    "m.fs.Burner = GibbsReactor(default={\"dynamic\": False,\n",
    "                                    \"property_package\": m.fs.thermo_params,\n",
    "                                    \"has_pressure_change\": False,\n",
    "                                    \"has_heat_transfer\": True})"
   ]
  },
  {
   "cell_type": "markdown",
   "metadata": {},
   "source": [
    "### Declare all Streams:"
   ]
  },
  {
   "cell_type": "code",
   "execution_count": null,
   "metadata": {},
   "outputs": [],
   "source": [
    "m.fs.stream0 = Arc(source=m.fs.Mix1.outlet,\n",
    "                   destination=m.fs.HX1c.inlet)"
   ]
  },
  {
   "cell_type": "code",
   "execution_count": null,
   "metadata": {},
   "outputs": [],
   "source": [
    "m.fs.stream1 = Arc(source=m.fs.Split1.outlet_1,\n",
    "                   destination=m.fs.HX3c.inlet)"
   ]
  },
  {
   "cell_type": "code",
   "execution_count": null,
   "metadata": {},
   "outputs": [],
   "source": [
    "m.fs.stream2 = Arc(source=m.fs.HX1c.outlet,\n",
    "                   destination=m.fs.Reformer.inlet)"
   ]
  },
  {
   "cell_type": "code",
   "execution_count": null,
   "metadata": {},
   "outputs": [],
   "source": [
    "m.fs.stream3 = Arc(source=m.fs.Split1.outlet_2,\n",
    "                   destination=m.fs.HX2c.inlet)"
   ]
  },
  {
   "cell_type": "code",
   "execution_count": null,
   "metadata": {},
   "outputs": [],
   "source": [
    "m.fs.stream4 = Arc(source=m.fs.Reformer.outlet,\n",
    "                   destination=m.fs.Mix2.inlet_1)"
   ]
  },
  {
   "cell_type": "code",
   "execution_count": null,
   "metadata": {},
   "outputs": [],
   "source": [
    "m.fs.stream5 = Arc(source=m.fs.HX3c.outlet,\n",
    "                   destination=m.fs.Mix2.inlet_2)"
   ]
  },
  {
   "cell_type": "code",
   "execution_count": null,
   "metadata": {},
   "outputs": [],
   "source": [
    "m.fs.stream6 = Arc(source=m.fs.Mix2.outlet,\n",
    "                   destination=m.fs.SOFC.inlet)"
   ]
  },
  {
   "cell_type": "code",
   "execution_count": null,
   "metadata": {},
   "outputs": [],
   "source": [
    "m.fs.stream7 = Arc(source=m.fs.HX2c.outlet,\n",
    "                   destination=m.fs.Mix3.inlet_2)"
   ]
  },
  {
   "cell_type": "code",
   "execution_count": null,
   "metadata": {},
   "outputs": [],
   "source": [
    "m.fs.stream8 = Arc(source=m.fs.SOFC.outlet,\n",
    "                   destination=m.fs.Mix3.inlet_1)"
   ]
  },
  {
   "cell_type": "code",
   "execution_count": null,
   "metadata": {},
   "outputs": [],
   "source": [
    "m.fs.stream9 = Arc(source=m.fs.Mix3.outlet,\n",
    "                   destination=m.fs.Burner.inlet)"
   ]
  },
  {
   "cell_type": "code",
   "execution_count": null,
   "metadata": {},
   "outputs": [],
   "source": [
    "m.fs.stream10 = Arc(source=m.fs.Burner.outlet,\n",
    "                    destination=m.fs.Split2.inlet)"
   ]
  },
  {
   "cell_type": "code",
   "execution_count": null,
   "metadata": {},
   "outputs": [],
   "source": [
    "m.fs.stream11 = Arc(source=m.fs.Split2.outlet_1,\n",
    "                    destination=m.fs.HX1h.inlet)"
   ]
  },
  {
   "cell_type": "code",
   "execution_count": null,
   "metadata": {},
   "outputs": [],
   "source": [
    "m.fs.stream12 = Arc(source=m.fs.Split2.outlet_2,\n",
    "                    destination=m.fs.HX2h.inlet)"
   ]
  },
  {
   "cell_type": "code",
   "execution_count": null,
   "metadata": {},
   "outputs": [],
   "source": [
    "m.fs.stream13 = Arc(source=m.fs.Split2.outlet_3,\n",
    "                    destination=m.fs.HX3h.inlet)"
   ]
  },
  {
   "cell_type": "code",
   "execution_count": null,
   "metadata": {},
   "outputs": [],
   "source": [
    "m.fs.stream14 = Arc(source=m.fs.HX1h.outlet,\n",
    "                    destination=m.fs.Mix4.inlet_1)"
   ]
  },
  {
   "cell_type": "code",
   "execution_count": null,
   "metadata": {},
   "outputs": [],
   "source": [
    "m.fs.stream15 = Arc(source=m.fs.HX2h.outlet,\n",
    "                    destination=m.fs.Boiler.inlet)"
   ]
  },
  {
   "cell_type": "code",
   "execution_count": null,
   "metadata": {},
   "outputs": [],
   "source": [
    "m.fs.stream17 = Arc(source=m.fs.Boiler.outlet,\n",
    "                    destination=m.fs.Mix4.inlet_2)"
   ]
  },
  {
   "cell_type": "code",
   "execution_count": null,
   "metadata": {},
   "outputs": [],
   "source": [
    "m.fs.stream16 = Arc(source=m.fs.HX3h.outlet,\n",
    "                    destination=m.fs.Mix4.inlet_3)"
   ]
  },
  {
   "cell_type": "code",
   "execution_count": null,
   "metadata": {},
   "outputs": [],
   "source": []
  },
  {
   "cell_type": "code",
   "execution_count": null,
   "metadata": {},
   "outputs": [],
   "source": [
    "TransformationFactory(\"network.expand_arcs\").apply_to(m)"
   ]
  },
  {
   "cell_type": "markdown",
   "metadata": {},
   "source": [
    "### Define known Material Streams:"
   ]
  },
  {
   "cell_type": "code",
   "execution_count": null,
   "metadata": {},
   "outputs": [],
   "source": [
    "# Fix methane flow to Mix1:\n",
    "m.fs.Mix1.inlet_1.flow_mol.fix(n_CH4f)\n",
    "m.fs.Mix1.inlet_1.mole_frac_comp[0.0,:].fix(0.0)\n",
    "m.fs.Mix1.inlet_1.mole_frac_comp[0.0,\"CH4\"].fix(1.0)\n",
    "m.fs.Mix1.inlet_1.temperature.fix(25+273.15)\n",
    "m.fs.Mix1.inlet_1.pressure.fix(101325)"
   ]
  },
  {
   "cell_type": "code",
   "execution_count": null,
   "metadata": {},
   "outputs": [],
   "source": [
    "# Fix water flow to Mix1:\n",
    "m.fs.Mix1.inlet_2.flow_mol.fix(n_H2Of)\n",
    "m.fs.Mix1.inlet_2.mole_frac_comp[0.0,:].fix(0.0)\n",
    "m.fs.Mix1.inlet_2.mole_frac_comp[0.0,\"H2O\"].fix(1.0)\n",
    "m.fs.Mix1.inlet_2.temperature.fix(25+273.15)\n",
    "m.fs.Mix1.inlet_2.pressure.fix(101325)"
   ]
  },
  {
   "cell_type": "code",
   "execution_count": null,
   "metadata": {},
   "outputs": [],
   "source": [
    "# Fix air flow to Split1:\n",
    "m.fs.Split1.inlet.flow_mol.fix(n_N2f+n_O2f)\n",
    "m.fs.Split1.inlet.mole_frac_comp[0.0,:].fix(0.0)\n",
    "m.fs.Split1.inlet.mole_frac_comp[0.0,\"O2\"].fix(0.21)\n",
    "m.fs.Split1.inlet.mole_frac_comp[0.0,\"N2\"].fix(0.79)\n",
    "m.fs.Split1.inlet.temperature.fix(25+273.15)\n",
    "m.fs.Split1.inlet.pressure.fix(101325)"
   ]
  },
  {
   "cell_type": "code",
   "execution_count": null,
   "metadata": {},
   "outputs": [],
   "source": [
    "# Fix O2 flow in Split1 outlet_1:\n",
    "m.fs.Split1.outlet_1.flow_mol.fix(n_CH4f*Uf*2)\n",
    "m.fs.Split1.outlet_1.mole_frac_comp[0.0,\"CH4\"].fix(0.0)\n",
    "m.fs.Split1.outlet_1.mole_frac_comp[0.0,\"CO\"].fix(0.0)\n",
    "m.fs.Split1.outlet_1.mole_frac_comp[0.0,\"CO2\"].fix(0.0)\n",
    "m.fs.Split1.outlet_1.mole_frac_comp[0.0,\"H2\"].fix(0.0)\n",
    "m.fs.Split1.outlet_1.mole_frac_comp[0.0,\"H2O\"].fix(0.0)\n",
    "m.fs.Split1.outlet_1.mole_frac_comp[0.0,\"N2\"].fix(0.0)\n",
    "m.fs.Split1.outlet_1.mole_frac_comp[0.0,\"O2\"].fix(1.0)"
   ]
  },
  {
   "cell_type": "markdown",
   "metadata": {},
   "source": [
    "### Constraints:  Adiabatic Burner"
   ]
  },
  {
   "cell_type": "code",
   "execution_count": null,
   "metadata": {},
   "outputs": [],
   "source": [
    "m.fs.Burner.heat_duty.fix(0.0)"
   ]
  },
  {
   "cell_type": "code",
   "execution_count": null,
   "metadata": {},
   "outputs": [],
   "source": [
    "m.fs.Reformer.heat_duty.fix(0.0)"
   ]
  },
  {
   "cell_type": "markdown",
   "metadata": {},
   "source": [
    "### Constraints: Reformer temperature"
   ]
  },
  {
   "cell_type": "code",
   "execution_count": null,
   "metadata": {},
   "outputs": [],
   "source": [
    "m.fs.Reformer.outlet.temperature.fix(T_FC_fuel_in)\n",
    "print(T_FC_fuel_in-273.15)"
   ]
  },
  {
   "cell_type": "markdown",
   "metadata": {},
   "source": [
    "### Constraints: SOFC exit temperature"
   ]
  },
  {
   "cell_type": "code",
   "execution_count": null,
   "metadata": {},
   "outputs": [],
   "source": [
    "m.fs.SOFC.outlet.temperature.fix(T_FC_ex_out)\n",
    "print(T_FC_ex_out-273.15)"
   ]
  },
  {
   "cell_type": "markdown",
   "metadata": {},
   "source": [
    "### Constraints: Heat Exchanger tube outlet temperature"
   ]
  },
  {
   "cell_type": "code",
   "execution_count": null,
   "metadata": {},
   "outputs": [],
   "source": [
    "m.fs.HX2c.outlet.temperature.fix(T_FC_ex_out)\n",
    "print(T_FC_ex_out-273.15)"
   ]
  },
  {
   "cell_type": "code",
   "execution_count": null,
   "metadata": {},
   "outputs": [],
   "source": [
    "m.fs.HX3c.outlet.temperature.fix(T_FC_air_in)\n",
    "print(T_FC_air_in-273.15)"
   ]
  },
  {
   "cell_type": "code",
   "execution_count": null,
   "metadata": {},
   "outputs": [],
   "source": [
    "m.fs.HX1_energy_balance = Constraint(expr = m.fs.HX1c.heat_duty[0] + m.fs.HX1h.heat_duty[0]==0 )"
   ]
  },
  {
   "cell_type": "code",
   "execution_count": null,
   "metadata": {},
   "outputs": [],
   "source": [
    "m.fs.HX2_energy_balance = Constraint(expr = m.fs.HX2c.heat_duty[0] + m.fs.HX2h.heat_duty[0]==0 )"
   ]
  },
  {
   "cell_type": "code",
   "execution_count": null,
   "metadata": {},
   "outputs": [],
   "source": [
    "m.fs.HX3_energy_balance = Constraint(expr = m.fs.HX3c.heat_duty[0] + m.fs.HX3h.heat_duty[0]==0 )"
   ]
  },
  {
   "cell_type": "code",
   "execution_count": null,
   "metadata": {},
   "outputs": [],
   "source": []
  },
  {
   "cell_type": "code",
   "execution_count": null,
   "metadata": {},
   "outputs": [],
   "source": [
    "m.fs.Boiler.heat_duty.fix(0)"
   ]
  },
  {
   "cell_type": "code",
   "execution_count": null,
   "metadata": {},
   "outputs": [],
   "source": []
  },
  {
   "cell_type": "code",
   "execution_count": null,
   "metadata": {},
   "outputs": [],
   "source": [
    "m.fs.Split2.split_fraction[0.0, \"outlet_1\"].fix(0.2)"
   ]
  },
  {
   "cell_type": "code",
   "execution_count": null,
   "metadata": {},
   "outputs": [],
   "source": [
    "m.fs.Split2.split_fraction[0.0, \"outlet_3\"].fix(0.1)"
   ]
  },
  {
   "cell_type": "code",
   "execution_count": null,
   "metadata": {},
   "outputs": [],
   "source": []
  },
  {
   "cell_type": "code",
   "execution_count": null,
   "metadata": {},
   "outputs": [],
   "source": []
  },
  {
   "cell_type": "code",
   "execution_count": null,
   "metadata": {},
   "outputs": [],
   "source": [
    "m.fs.HX3h.outlet.temperature.fix(200+273.15)"
   ]
  },
  {
   "cell_type": "code",
   "execution_count": null,
   "metadata": {},
   "outputs": [],
   "source": [
    "m.fs.HX1h.outlet.temperature.fix(200+273.15)"
   ]
  },
  {
   "cell_type": "code",
   "execution_count": null,
   "metadata": {},
   "outputs": [],
   "source": []
  },
  {
   "cell_type": "code",
   "execution_count": null,
   "metadata": {},
   "outputs": [],
   "source": [
    "dof(m)"
   ]
  },
  {
   "cell_type": "markdown",
   "metadata": {},
   "source": [
    "### Initialize Stuff"
   ]
  },
  {
   "cell_type": "code",
   "execution_count": null,
   "metadata": {},
   "outputs": [],
   "source": [
    "m.fs.Mix1.initialize()\n",
    "m.fs.Mix2.initialize()\n",
    "m.fs.Mix3.initialize()\n",
    "m.fs.Split1.initialize()\n",
    "m.fs.HX1.initialize()\n",
    "m.fs.HX2.initialize()\n",
    "m.fs.HX3.initialize()"
   ]
  },
  {
   "cell_type": "code",
   "execution_count": null,
   "metadata": {},
   "outputs": [],
   "source": [
    "m.fs.Split2.split_fraction.display()"
   ]
  },
  {
   "cell_type": "code",
   "execution_count": null,
   "metadata": {},
   "outputs": [],
   "source": [
    "solver = SolverFactory('ipopt')"
   ]
  },
  {
   "cell_type": "code",
   "execution_count": null,
   "metadata": {},
   "outputs": [],
   "source": [
    "results = solver.solve(m, tee=True)"
   ]
  },
  {
   "cell_type": "code",
   "execution_count": null,
   "metadata": {},
   "outputs": [],
   "source": [
    "m.fs.Burner.outlet.display()"
   ]
  },
  {
   "cell_type": "code",
   "execution_count": null,
   "metadata": {},
   "outputs": [],
   "source": []
  },
  {
   "cell_type": "code",
   "execution_count": null,
   "metadata": {},
   "outputs": [],
   "source": []
  },
  {
   "cell_type": "code",
   "execution_count": null,
   "metadata": {},
   "outputs": [],
   "source": []
  },
  {
   "cell_type": "code",
   "execution_count": null,
   "metadata": {},
   "outputs": [],
   "source": [
    "m.fs.Reformer.inlet.display()"
   ]
  },
  {
   "cell_type": "code",
   "execution_count": null,
   "metadata": {},
   "outputs": [],
   "source": [
    "m.fs.HX2.display()"
   ]
  },
  {
   "cell_type": "code",
   "execution_count": null,
   "metadata": {},
   "outputs": [],
   "source": [
    "m.fs.Mix4.inlet_1.display()"
   ]
  },
  {
   "cell_type": "code",
   "execution_count": null,
   "metadata": {},
   "outputs": [],
   "source": [
    "m.fs.Mix4.inlet_2.display()"
   ]
  },
  {
   "cell_type": "code",
   "execution_count": null,
   "metadata": {},
   "outputs": [],
   "source": [
    "m.fs.Mix4.inlet_3.display()"
   ]
  },
  {
   "cell_type": "code",
   "execution_count": null,
   "metadata": {},
   "outputs": [],
   "source": [
    "m.fs.Burner.outlet.display()"
   ]
  },
  {
   "cell_type": "code",
   "execution_count": null,
   "metadata": {},
   "outputs": [],
   "source": [
    "m.fs.SOFC.heat_duty.display()"
   ]
  },
  {
   "cell_type": "code",
   "execution_count": null,
   "metadata": {},
   "outputs": [],
   "source": [
    "m.fs.Split2.split_fraction.display()"
   ]
  },
  {
   "cell_type": "code",
   "execution_count": null,
   "metadata": {},
   "outputs": [],
   "source": [
    "m.fs.HX1.inlet_1.display()"
   ]
  },
  {
   "cell_type": "code",
   "execution_count": null,
   "metadata": {},
   "outputs": [],
   "source": [
    "m.fs.HX1.tube_inlet.display()"
   ]
  },
  {
   "cell_type": "code",
   "execution_count": null,
   "metadata": {},
   "outputs": [],
   "source": [
    "m.fs.Mix1.inlet_1.display()"
   ]
  },
  {
   "cell_type": "code",
   "execution_count": null,
   "metadata": {},
   "outputs": [],
   "source": [
    "m.fs.Mix1.inlet_2.display()"
   ]
  },
  {
   "cell_type": "code",
   "execution_count": null,
   "metadata": {},
   "outputs": [],
   "source": [
    "m.fs.Mix1.outlet.display()"
   ]
  },
  {
   "cell_type": "code",
   "execution_count": null,
   "metadata": {},
   "outputs": [],
   "source": [
    "m.fs.Heater.display()"
   ]
  },
  {
   "cell_type": "code",
   "execution_count": null,
   "metadata": {},
   "outputs": [],
   "source": [
    "m.fs.Mix4.inlet_1.display()"
   ]
  },
  {
   "cell_type": "code",
   "execution_count": null,
   "metadata": {},
   "outputs": [],
   "source": [
    "m.fs.Mix4.inlet_2.display()"
   ]
  },
  {
   "cell_type": "code",
   "execution_count": null,
   "metadata": {},
   "outputs": [],
   "source": [
    "m.fs.Mix4.inlet_3.display()"
   ]
  },
  {
   "cell_type": "code",
   "execution_count": null,
   "metadata": {},
   "outputs": [],
   "source": [
    "m.fs.Mix4.outlet.display()"
   ]
  },
  {
   "cell_type": "code",
   "execution_count": null,
   "metadata": {},
   "outputs": [],
   "source": [
    "354.9024586155912-273.15"
   ]
  },
  {
   "cell_type": "markdown",
   "metadata": {},
   "source": [
    "### First mixer (Mix1) combines methane and water stream:"
   ]
  },
  {
   "cell_type": "code",
   "execution_count": null,
   "metadata": {},
   "outputs": [],
   "source": [
    "m.fs.mix1 = Mixer(default={\"dynamic\": False,\n",
    "                           \"property_package\": m.fs.thermo_params})"
   ]
  },
  {
   "cell_type": "code",
   "execution_count": null,
   "metadata": {},
   "outputs": [],
   "source": [
    "m.fs.mix1.inlet_1.flow_mol.fix(n_CH4f)\n",
    "m.fs.mix1.inlet_1.mole_frac_comp[0.0,:].fix(0.0)\n",
    "m.fs.mix1.inlet_1.mole_frac_comp[0.0,\"CH4\"].fix(1.0)\n",
    "m.fs.mix1.inlet_1.temperature.fix(25+273.15)\n",
    "m.fs.mix1.inlet_1.pressure.fix(101325)"
   ]
  },
  {
   "cell_type": "code",
   "execution_count": null,
   "metadata": {},
   "outputs": [],
   "source": [
    "m.fs.mix1.inlet_2.flow_mol.fix(n_H2Of)\n",
    "m.fs.mix1.inlet_2.mole_frac_comp[0.0,:].fix(0.0)\n",
    "m.fs.mix1.inlet_2.mole_frac_comp[0.0,\"H2O\"].fix(1.0)\n",
    "m.fs.mix1.inlet_2.temperature.fix(25+273.15)\n",
    "m.fs.mix1.inlet_2.pressure.fix(101325)"
   ]
  },
  {
   "cell_type": "code",
   "execution_count": null,
   "metadata": {},
   "outputs": [],
   "source": [
    "m.fs.mix1.inlet_1.display()"
   ]
  },
  {
   "cell_type": "code",
   "execution_count": null,
   "metadata": {},
   "outputs": [],
   "source": [
    "m.fs.mix1.inlet_2.display()"
   ]
  },
  {
   "cell_type": "markdown",
   "metadata": {},
   "source": [
    "### First heat exchanger (HX1) heats up methane & water stream\n",
    "### Also reformer (Reformer) is a Gibbs Reactor that receive heat from HX1 exhaust stream"
   ]
  },
  {
   "cell_type": "code",
   "execution_count": null,
   "metadata": {},
   "outputs": [],
   "source": [
    "# Set up reformer?\n",
    "m.fs.reformer = GibbsReactor(default={\"dynamic\": False,\n",
    "                                      \"property_package\": m.fs.thermo_params,\n",
    "                                      \"has_pressure_change\": False,\n",
    "                                      \"has_heat_transfer\": True})"
   ]
  },
  {
   "cell_type": "code",
   "execution_count": null,
   "metadata": {},
   "outputs": [],
   "source": [
    "m.fs.stream1 = Arc(source=m.fs.mix1.outlet,\n",
    "                   destination=m.fs.reformer.inlet)"
   ]
  },
  {
   "cell_type": "code",
   "execution_count": null,
   "metadata": {},
   "outputs": [],
   "source": [
    "m.fs.reformer.outlet.temperature.fix(T_FC_fuel_in+273.15)"
   ]
  },
  {
   "cell_type": "markdown",
   "metadata": {},
   "source": [
    "### HX1: Provide the heat duty for Reformer"
   ]
  },
  {
   "cell_type": "code",
   "execution_count": null,
   "metadata": {},
   "outputs": [],
   "source": []
  },
  {
   "cell_type": "markdown",
   "metadata": {},
   "source": [
    "### Seperator (Sep1) split the air into a single of stream of O2 going to SOFC"
   ]
  },
  {
   "cell_type": "code",
   "execution_count": null,
   "metadata": {},
   "outputs": [],
   "source": []
  },
  {
   "cell_type": "markdown",
   "metadata": {},
   "source": [
    "### Mix2: combined reformer outlet stream and O2 stream from cathode."
   ]
  },
  {
   "cell_type": "code",
   "execution_count": null,
   "metadata": {},
   "outputs": [],
   "source": [
    "m.fs.mix2 = Mixer(default={\"dynamic\": False,\n",
    "                           \"property_package\": m.fs.thermo_params})"
   ]
  },
  {
   "cell_type": "code",
   "execution_count": null,
   "metadata": {},
   "outputs": [],
   "source": [
    "m.fs.stream2 = Arc(source=m.fs.reformer.outlet,\n",
    "                   destination=m.fs.mix2.inlet_1)"
   ]
  },
  {
   "cell_type": "code",
   "execution_count": null,
   "metadata": {},
   "outputs": [],
   "source": [
    "m.fs.mix2.inlet_2.flow_mol.fix(n_CH4f*Uf*2)\n",
    "m.fs.mix2.inlet_2.mole_frac_comp[0.0,:].fix(0.0)\n",
    "m.fs.mix2.inlet_2.mole_frac_comp[0.0,\"O2\"].fix(1.0)\n",
    "m.fs.mix2.inlet_2.temperature.fix(T_FC_air_in+273.15)\n",
    "m.fs.mix2.inlet_2.pressure.fix(101325)"
   ]
  },
  {
   "cell_type": "markdown",
   "metadata": {},
   "source": [
    "### SOFC: Gibbs Reactor w stream coming from mix2"
   ]
  },
  {
   "cell_type": "code",
   "execution_count": null,
   "metadata": {},
   "outputs": [],
   "source": [
    "# Set up SOFC\n",
    "m.fs.SOFC = GibbsReactor(default={\"dynamic\": False,\n",
    "                                  \"property_package\": m.fs.thermo_params,\n",
    "                                  \"has_pressure_change\": False,\n",
    "                                  \"has_heat_transfer\": True})"
   ]
  },
  {
   "cell_type": "code",
   "execution_count": null,
   "metadata": {},
   "outputs": [],
   "source": [
    "m.fs.stream3 = Arc(source=m.fs.mix2.outlet,\n",
    "                   destination=m.fs.SOFC.inlet)"
   ]
  },
  {
   "cell_type": "code",
   "execution_count": null,
   "metadata": {},
   "outputs": [],
   "source": [
    "m.fs.SOFC.outlet.temperature.fix(T_FC_ex_out+273.15)"
   ]
  },
  {
   "cell_type": "code",
   "execution_count": null,
   "metadata": {},
   "outputs": [],
   "source": [
    "m.fs.mix1.initialize()"
   ]
  },
  {
   "cell_type": "code",
   "execution_count": null,
   "metadata": {
    "scrolled": true
   },
   "outputs": [],
   "source": [
    "m.fs.mix2.initialize()"
   ]
  },
  {
   "cell_type": "code",
   "execution_count": null,
   "metadata": {},
   "outputs": [],
   "source": []
  },
  {
   "cell_type": "markdown",
   "metadata": {},
   "source": [
    "### SOFC outlet come into the burner with the rest of the air\n",
    "### Burner: Gibbs Reactor"
   ]
  },
  {
   "cell_type": "code",
   "execution_count": null,
   "metadata": {},
   "outputs": [],
   "source": [
    "# Feed to the burner"
   ]
  },
  {
   "cell_type": "code",
   "execution_count": null,
   "metadata": {},
   "outputs": [],
   "source": []
  },
  {
   "cell_type": "code",
   "execution_count": null,
   "metadata": {},
   "outputs": [],
   "source": []
  },
  {
   "cell_type": "code",
   "execution_count": null,
   "metadata": {},
   "outputs": [],
   "source": []
  },
  {
   "cell_type": "code",
   "execution_count": null,
   "metadata": {},
   "outputs": [],
   "source": []
  },
  {
   "cell_type": "code",
   "execution_count": null,
   "metadata": {},
   "outputs": [],
   "source": []
  },
  {
   "cell_type": "code",
   "execution_count": null,
   "metadata": {},
   "outputs": [],
   "source": []
  },
  {
   "cell_type": "code",
   "execution_count": null,
   "metadata": {},
   "outputs": [],
   "source": [
    "TransformationFactory(\"network.expand_arcs\").apply_to(m)"
   ]
  },
  {
   "cell_type": "code",
   "execution_count": null,
   "metadata": {},
   "outputs": [],
   "source": [
    "m.fs.reformer.inlet.display()"
   ]
  },
  {
   "cell_type": "code",
   "execution_count": null,
   "metadata": {},
   "outputs": [],
   "source": [
    "m.fs.reformer.outlet.display()"
   ]
  },
  {
   "cell_type": "code",
   "execution_count": null,
   "metadata": {},
   "outputs": [],
   "source": [
    "m.fs.reformer.heat_duty.display()"
   ]
  },
  {
   "cell_type": "code",
   "execution_count": null,
   "metadata": {},
   "outputs": [],
   "source": [
    "m.fs.mix2.inlet_1.display()"
   ]
  },
  {
   "cell_type": "code",
   "execution_count": null,
   "metadata": {},
   "outputs": [],
   "source": [
    "m.fs.mix2.inlet_2.display()"
   ]
  },
  {
   "cell_type": "code",
   "execution_count": null,
   "metadata": {},
   "outputs": [],
   "source": [
    "m.fs.mix2.outlet.display()"
   ]
  },
  {
   "cell_type": "code",
   "execution_count": null,
   "metadata": {},
   "outputs": [],
   "source": [
    "m.fs.SOFC.inlet.display()"
   ]
  },
  {
   "cell_type": "code",
   "execution_count": null,
   "metadata": {},
   "outputs": [],
   "source": [
    "m.fs.SOFC.outlet.display()"
   ]
  },
  {
   "cell_type": "code",
   "execution_count": null,
   "metadata": {},
   "outputs": [],
   "source": [
    "m.fs.SOFC.heat_duty.display()"
   ]
  },
  {
   "cell_type": "code",
   "execution_count": null,
   "metadata": {},
   "outputs": [],
   "source": []
  },
  {
   "cell_type": "code",
   "execution_count": null,
   "metadata": {},
   "outputs": [],
   "source": []
  },
  {
   "cell_type": "code",
   "execution_count": null,
   "metadata": {},
   "outputs": [],
   "source": [
    "m.fs.burner = GibbsReactor(default={\"dynamic\": False,\n",
    "                                    \"property_package\": m.fs.thermo_params,\n",
    "                                    \"has_pressure_change\": False,\n",
    "                                    \"has_heat_transfer\": True})"
   ]
  },
  {
   "cell_type": "markdown",
   "metadata": {},
   "source": [
    "### SOFC: Gibbs Reactor, taking Reformer outlet and a specified O2 amount from Mix2"
   ]
  },
  {
   "cell_type": "code",
   "execution_count": null,
   "metadata": {},
   "outputs": [],
   "source": []
  },
  {
   "cell_type": "markdown",
   "metadata": {},
   "source": [
    "### Mixing anode & cathode exhaust:"
   ]
  },
  {
   "cell_type": "code",
   "execution_count": null,
   "metadata": {},
   "outputs": [],
   "source": []
  },
  {
   "cell_type": "code",
   "execution_count": null,
   "metadata": {},
   "outputs": [],
   "source": [
    "m.fs.mix_exhaust = Mixer(default={\"dynamic\": False,\n",
    "                                  \"property_package\": m.fs.thermo_params})"
   ]
  },
  {
   "cell_type": "code",
   "execution_count": null,
   "metadata": {},
   "outputs": [],
   "source": [
    "# First inlet to mix_exhaust : anode exhaust\n",
    "m.fs.mix_exhaust.inlet_1.flow_mol.fix(50.0)\n",
    "m.fs.mix_exhaust.inlet_1.mole_frac_comp[0.0,:].fix(0.0)\n",
    "m.fs.mix_exhaust.inlet_1.mole_frac_comp[0.0,\"H2\"].fix(0.04)\n",
    "m.fs.mix_exhaust.inlet_1.mole_frac_comp[0.0,\"CO\"].fix(0.12)\n",
    "m.fs.mix_exhaust.inlet_1.mole_frac_comp[0.0,\"CO2\"].fix(0.08)\n",
    "m.fs.mix_exhaust.inlet_1.mole_frac_comp[0.0,\"H2O\"].fix(0.76)\n",
    "m.fs.mix_exhaust.inlet_1.temperature.fix(T_FC_ex_out+273.15)\n",
    "m.fs.mix_exhaust.inlet_1.pressure.fix(101325)"
   ]
  },
  {
   "cell_type": "code",
   "execution_count": null,
   "metadata": {},
   "outputs": [],
   "source": [
    "m.fs.mix_exhaust.inlet_1.display()"
   ]
  },
  {
   "cell_type": "code",
   "execution_count": null,
   "metadata": {},
   "outputs": [],
   "source": [
    "# Second inlet to mix_exhaust : cathode exhaust\n",
    "m.fs.mix_exhaust.inlet_2.flow_mol.fix(364.95238095238096)\n",
    "m.fs.mix_exhaust.inlet_2.mole_frac_comp[0.0,:].fix(0.0)\n",
    "m.fs.mix_exhaust.inlet_2.mole_frac_comp[0.0,\"O2\"].fix(0.1753653444676409)\n",
    "m.fs.mix_exhaust.inlet_2.mole_frac_comp[0.0,\"N2\"].fix(0.824634655532359)\n",
    "m.fs.mix_exhaust.inlet_2.temperature.fix(T_FC_ex_out+273.15)\n",
    "m.fs.mix_exhaust.inlet_2.pressure.fix(101325)"
   ]
  },
  {
   "cell_type": "code",
   "execution_count": null,
   "metadata": {},
   "outputs": [],
   "source": [
    "m.fs.mix_exhaust.inlet_2.display()"
   ]
  },
  {
   "cell_type": "markdown",
   "metadata": {},
   "source": [
    "### Burner as Gibbs Reactor"
   ]
  },
  {
   "cell_type": "code",
   "execution_count": null,
   "metadata": {},
   "outputs": [],
   "source": [
    "m.fs.burner = GibbsReactor(default={\"dynamic\": False,\n",
    "                                    \"property_package\": m.fs.thermo_params,\n",
    "                                    \"has_pressure_change\": False,\n",
    "                                    \"has_heat_transfer\": True})"
   ]
  },
  {
   "cell_type": "markdown",
   "metadata": {},
   "source": [
    "### Point mixer stream to Burner:"
   ]
  },
  {
   "cell_type": "code",
   "execution_count": null,
   "metadata": {},
   "outputs": [],
   "source": [
    "m.fs.stream1 = Arc(source=m.fs.mix_exhaust.outlet,\n",
    "                  destination=m.fs.burner.inlet)"
   ]
  },
  {
   "cell_type": "code",
   "execution_count": null,
   "metadata": {},
   "outputs": [],
   "source": [
    "TransformationFactory(\"network.expand_arcs\").apply_to(m)"
   ]
  },
  {
   "cell_type": "code",
   "execution_count": null,
   "metadata": {},
   "outputs": [],
   "source": [
    "from idaes.core.util.model_statistics import degrees_of_freedom as dof\n",
    "dof(m)"
   ]
  },
  {
   "cell_type": "code",
   "execution_count": null,
   "metadata": {},
   "outputs": [],
   "source": [
    "m.fs.burner.heat_duty.fix(0.0)"
   ]
  },
  {
   "cell_type": "code",
   "execution_count": null,
   "metadata": {},
   "outputs": [],
   "source": [
    "from idaes.core.util.model_statistics import degrees_of_freedom as dof\n",
    "dof(m)"
   ]
  },
  {
   "cell_type": "code",
   "execution_count": null,
   "metadata": {},
   "outputs": [],
   "source": [
    "solver = SolverFactory('ipopt')"
   ]
  },
  {
   "cell_type": "code",
   "execution_count": null,
   "metadata": {},
   "outputs": [],
   "source": [
    "results = solver.solve(m, tee=True)"
   ]
  },
  {
   "cell_type": "code",
   "execution_count": null,
   "metadata": {},
   "outputs": [],
   "source": [
    "print(results)"
   ]
  },
  {
   "cell_type": "code",
   "execution_count": null,
   "metadata": {},
   "outputs": [],
   "source": [
    "m.fs.burner.inlet.display()"
   ]
  },
  {
   "cell_type": "code",
   "execution_count": null,
   "metadata": {},
   "outputs": [],
   "source": [
    "m.fs.burner.outlet.display()"
   ]
  },
  {
   "cell_type": "markdown",
   "metadata": {},
   "source": [
    "### Make another Gibbs Reactor to represent the SOFC"
   ]
  },
  {
   "cell_type": "code",
   "execution_count": null,
   "metadata": {},
   "outputs": [],
   "source": [
    "m.fs.SOFC = GibbsReactor(default={\"dynamic\": False,\n",
    "                                  \"property_package\": m.fs.thermo_params,\n",
    "                                  \"has_pressure_change\": False,\n",
    "                                  \"has_heat_transfer\": True})"
   ]
  },
  {
   "cell_type": "code",
   "execution_count": null,
   "metadata": {},
   "outputs": [],
   "source": []
  },
  {
   "cell_type": "code",
   "execution_count": null,
   "metadata": {},
   "outputs": [],
   "source": []
  },
  {
   "cell_type": "code",
   "execution_count": null,
   "metadata": {},
   "outputs": [],
   "source": []
  },
  {
   "cell_type": "code",
   "execution_count": null,
   "metadata": {},
   "outputs": [],
   "source": []
  },
  {
   "cell_type": "code",
   "execution_count": null,
   "metadata": {},
   "outputs": [],
   "source": []
  },
  {
   "cell_type": "code",
   "execution_count": null,
   "metadata": {},
   "outputs": [],
   "source": []
  },
  {
   "cell_type": "code",
   "execution_count": null,
   "metadata": {},
   "outputs": [],
   "source": []
  }
 ],
 "metadata": {
  "kernelspec": {
   "display_name": "Python 3",
   "language": "python",
   "name": "python3"
  },
  "language_info": {
   "codemirror_mode": {
    "name": "ipython",
    "version": 3
   },
   "file_extension": ".py",
   "mimetype": "text/x-python",
   "name": "python",
   "nbconvert_exporter": "python",
   "pygments_lexer": "ipython3",
   "version": "3.7.7"
  }
 },
 "nbformat": 4,
 "nbformat_minor": 4
}
