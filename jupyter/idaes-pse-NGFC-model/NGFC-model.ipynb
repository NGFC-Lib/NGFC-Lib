{
 "cells": [
  {
   "cell_type": "markdown",
   "metadata": {},
   "source": [
    "# NGFC Modelling with IDEAS - pse\n",
    "This is a modelling example of a NGFC system using idaes-pse framework."
   ]
  },
  {
   "cell_type": "code",
   "execution_count": 1,
   "metadata": {},
   "outputs": [],
   "source": [
    "from pyomo.environ import ConcreteModel, Constraint, Objective, SolverFactory, TransformationFactory, Constraint, Var\n",
    "from pyomo.network import Arc"
   ]
  },
  {
   "cell_type": "code",
   "execution_count": 2,
   "metadata": {},
   "outputs": [],
   "source": [
    "from idaes.core import FlowsheetBlock\n",
    "from idaes.unit_models import Mixer, HeatExchanger, Separator, GibbsReactor\n",
    "# Methane combustion ideal package got CH4, H2O, CO, CO2, N2, NH3, O2\n",
    "import idaes.property_models.activity_coeff_models.methane_combustion_ideal as thermo_props\n",
    "#import idaes.property_models.activity_coeff_models.methane_combustion_ideal as reaction_props"
   ]
  },
  {
   "cell_type": "code",
   "execution_count": 3,
   "metadata": {},
   "outputs": [],
   "source": [
    "import matplotlib.pyplot as plt"
   ]
  },
  {
   "cell_type": "markdown",
   "metadata": {},
   "source": [
    "### Building Base Flowsheet."
   ]
  },
  {
   "cell_type": "code",
   "execution_count": 4,
   "metadata": {},
   "outputs": [],
   "source": [
    "m = ConcreteModel()\n",
    "m.fs = FlowsheetBlock(default={\"dynamic\": False})\n",
    "m.fs.thermo_params = thermo_props.MethaneParameterBlock()"
   ]
  },
  {
   "cell_type": "code",
   "execution_count": null,
   "metadata": {},
   "outputs": [],
   "source": []
  },
  {
   "cell_type": "code",
   "execution_count": 5,
   "metadata": {},
   "outputs": [
    {
     "name": "stdout",
     "output_type": "stream",
     "text": [
      "mole of methane feed: 10 mole/s\n",
      "mole of steam feed: 20 mole/s\n",
      "mole of air feed: 380.95238095238096 mole/s\n",
      "Anode exhaust: \n",
      "y_H2ex: 0.04\n",
      "y_COex: 0.11999999999999997\n",
      "y_CO2ex: 0.08000000000000003\n",
      "y_H2Oex: 0.76\n",
      "Total mole/s: 50.0\n",
      "Cathode exhaust: \n",
      "y_O2ex: 0.1753653444676409\n",
      "y_N2ex: 0.824634655532359\n",
      "Total mole/s: 364.95238095238096\n"
     ]
    }
   ],
   "source": [
    "# Fuel ultilization (Uf): mole reductant consumed in FC per mole of reductant total\n",
    "Uf = 0.8\n",
    "# Air ultilization (Ua): mole of air consumed in FC per mole of air feed\n",
    "Ua = 0.2\n",
    "# Methane to steam ratio (MS): mole methane per mole water\n",
    "MS = 2\n",
    "# Feed:\n",
    "# Reaction: \n",
    "# Reforming: CH4 + H2O -> CO + 3H2\n",
    "# Water gas shift: CO + H2O -> CO2 + H2\n",
    "# Methane combustion: CH4 + 2O2 -> CO2 + 2H2O\n",
    "# Hydrogen combustion: H2 + 1/2O2 -> H2O\n",
    "# Carbon monoxide combustion: CO + 1/2O2 -> CO2\n",
    "\n",
    "n_CH4f = 10\n",
    "print(\"mole of methane feed: \"+str(n_CH4f)+\" mole/s\")\n",
    "n_H2Of = n_CH4f*MS\n",
    "print(\"mole of steam feed: \"+str(n_H2Of)+\" mole/s\")\n",
    "n_O2f = n_CH4f*Uf*2/Ua\n",
    "n_N2f = n_O2f*0.79/0.21\n",
    "print(\"mole of air feed: \"+str(n_N2f+n_O2f)+\" mole/s\")\n",
    "\n",
    "n_H2ex = 2\n",
    "n_COex = n_CH4f*(1-Uf)*4-n_H2ex\n",
    "n_CO2ex = n_CH4f-n_COex\n",
    "n_H2Oex = n_H2Of+2*n_CH4f-n_H2ex\n",
    "y_H2ex = n_H2ex/(n_H2ex + n_COex + n_CO2ex + n_H2Oex)\n",
    "y_COex = n_COex/(n_H2ex + n_COex + n_CO2ex + n_H2Oex)\n",
    "y_CO2ex = n_CO2ex/(n_H2ex + n_COex + n_CO2ex + n_H2Oex)\n",
    "y_H2Oex = n_H2Oex/(n_H2ex + n_COex + n_CO2ex + n_H2Oex)\n",
    "\n",
    "print(\"Anode exhaust: \")\n",
    "print(\"y_H2ex: \"+str(y_H2ex))\n",
    "print(\"y_COex: \"+str(y_COex))\n",
    "print(\"y_CO2ex: \"+str(y_CO2ex))\n",
    "print(\"y_H2Oex: \"+str(y_H2Oex))\n",
    "print(\"Total mole/s: \"+str(n_H2ex + n_COex + n_CO2ex + n_H2Oex))\n",
    "\n",
    "n_N2ex = n_N2f\n",
    "n_O2ex = n_O2f - n_CH4f*Uf*2\n",
    "y_O2ex = n_O2ex/(n_O2ex+n_N2ex)\n",
    "y_N2ex = n_N2ex/(n_O2ex+n_N2ex)\n",
    "print(\"Cathode exhaust: \")\n",
    "print(\"y_O2ex: \"+str(y_O2ex))\n",
    "print(\"y_N2ex: \"+str(y_N2ex))\n",
    "print(\"Total mole/s: \"+str(n_O2ex+n_N2ex))"
   ]
  },
  {
   "cell_type": "markdown",
   "metadata": {},
   "source": [
    "### Mixing anode & cathode exhaust:"
   ]
  },
  {
   "cell_type": "code",
   "execution_count": 6,
   "metadata": {},
   "outputs": [],
   "source": [
    "m.fs.mix_exhaust = Mixer(default={\"dynamic\": False,\n",
    "                                  \"property_package\": m.fs.thermo_params})"
   ]
  },
  {
   "cell_type": "code",
   "execution_count": 7,
   "metadata": {},
   "outputs": [],
   "source": [
    "# First inlet to mix_exhaust : anode exhaust\n",
    "m.fs.mix_exhaust.inlet_1.flow_mol.fix(50.0)\n",
    "m.fs.mix_exhaust.inlet_1.mole_frac_comp[0.0,:].fix(0.0)\n",
    "m.fs.mix_exhaust.inlet_1.mole_frac_comp[0.0,\"H2\"].fix(0.04)\n",
    "m.fs.mix_exhaust.inlet_1.mole_frac_comp[0.0,\"CO\"].fix(0.12)\n",
    "m.fs.mix_exhaust.inlet_1.mole_frac_comp[0.0,\"CO2\"].fix(0.08)\n",
    "m.fs.mix_exhaust.inlet_1.mole_frac_comp[0.0,\"H2O\"].fix(0.76)\n",
    "m.fs.mix_exhaust.inlet_1.temperature.fix(700+273.15)\n",
    "m.fs.mix_exhaust.inlet_1.pressure.fix(101325)"
   ]
  },
  {
   "cell_type": "code",
   "execution_count": 8,
   "metadata": {},
   "outputs": [
    {
     "name": "stdout",
     "output_type": "stream",
     "text": [
      "inlet_1 : Size=1\n",
      "    Key  : Name           : Value\n",
      "    None :       flow_mol : {0.0: 50.0}\n",
      "         : mole_frac_comp : {(0.0, 'CH4'): 0.0, (0.0, 'CO'): 0.12, (0.0, 'CO2'): 0.08, (0.0, 'H2'): 0.04, (0.0, 'H2O'): 0.76, (0.0, 'N2'): 0.0, (0.0, 'NH3'): 0.0, (0.0, 'O2'): 0.0}\n",
      "         :       pressure : {0.0: 101325}\n",
      "         :    temperature : {0.0: 973.15}\n"
     ]
    }
   ],
   "source": [
    "m.fs.mix_exhaust.inlet_1.display()"
   ]
  },
  {
   "cell_type": "code",
   "execution_count": 9,
   "metadata": {},
   "outputs": [],
   "source": [
    "# Second inlet to mix_exhaust : cathode exhaust\n",
    "m.fs.mix_exhaust.inlet_2.flow_mol.fix(364.95238095238096)\n",
    "m.fs.mix_exhaust.inlet_2.mole_frac_comp[0.0,:].fix(0.0)\n",
    "m.fs.mix_exhaust.inlet_2.mole_frac_comp[0.0,\"O2\"].fix(0.1753653444676409)\n",
    "m.fs.mix_exhaust.inlet_2.mole_frac_comp[0.0,\"N2\"].fix(0.824634655532359)\n",
    "m.fs.mix_exhaust.inlet_2.temperature.fix(700+273.15)\n",
    "m.fs.mix_exhaust.inlet_2.pressure.fix(101325)"
   ]
  },
  {
   "cell_type": "code",
   "execution_count": 10,
   "metadata": {},
   "outputs": [
    {
     "name": "stdout",
     "output_type": "stream",
     "text": [
      "inlet_2 : Size=1\n",
      "    Key  : Name           : Value\n",
      "    None :       flow_mol : {0.0: 364.95238095238096}\n",
      "         : mole_frac_comp : {(0.0, 'CH4'): 0.0, (0.0, 'CO'): 0.0, (0.0, 'CO2'): 0.0, (0.0, 'H2'): 0.0, (0.0, 'H2O'): 0.0, (0.0, 'N2'): 0.824634655532359, (0.0, 'NH3'): 0.0, (0.0, 'O2'): 0.1753653444676409}\n",
      "         :       pressure : {0.0: 101325}\n",
      "         :    temperature : {0.0: 973.15}\n"
     ]
    }
   ],
   "source": [
    "m.fs.mix_exhaust.inlet_2.display()"
   ]
  },
  {
   "cell_type": "markdown",
   "metadata": {},
   "source": [
    "### Burner as Gibbs Reactor"
   ]
  },
  {
   "cell_type": "code",
   "execution_count": 11,
   "metadata": {},
   "outputs": [],
   "source": [
    "m.fs.burner = GibbsReactor(default={\"dynamic\": False,\n",
    "                                     \"property_package\": m.fs.thermo_params,\n",
    "                                     \"has_pressure_change\": False,\n",
    "                                     \"has_heat_transfer\": True})"
   ]
  },
  {
   "cell_type": "markdown",
   "metadata": {},
   "source": [
    "### Point mixer stream to Burner:"
   ]
  },
  {
   "cell_type": "code",
   "execution_count": 12,
   "metadata": {},
   "outputs": [],
   "source": [
    "m.fs.stream1 = Arc(source=m.fs.mix_exhaust.outlet,\n",
    "                  destination=m.fs.burner.inlet)"
   ]
  },
  {
   "cell_type": "code",
   "execution_count": 13,
   "metadata": {},
   "outputs": [],
   "source": [
    "TransformationFactory(\"network.expand_arcs\").apply_to(m)"
   ]
  },
  {
   "cell_type": "code",
   "execution_count": 16,
   "metadata": {},
   "outputs": [],
   "source": [
    "m.fs.burner.inlet.temperature.fix(700+273.15)"
   ]
  },
  {
   "cell_type": "code",
   "execution_count": 17,
   "metadata": {},
   "outputs": [
    {
     "data": {
      "text/plain": [
       "0"
      ]
     },
     "execution_count": 17,
     "metadata": {},
     "output_type": "execute_result"
    }
   ],
   "source": [
    "from idaes.core.util.model_statistics import degrees_of_freedom as dof\n",
    "dof(m)"
   ]
  },
  {
   "cell_type": "code",
   "execution_count": null,
   "metadata": {},
   "outputs": [],
   "source": [
    "m.fs.burner.inlet.flow_mol.fix(1000.0)\n",
    "m.fs.burner.inlet.mole_frac_comp[0.0,:].fix(0.0)\n",
    "m.fs.burner.inlet.mole_frac_comp[0.0,\"H2\"].fix(0.04)\n",
    "m.fs.burner.inlet.mole_frac_comp[0.0,\"CO\"].fix(0.12)\n",
    "m.fs.burner.inlet.mole_frac_comp[0.0,\"CO2\"].fix(0.08)\n",
    "m.fs.burner.inlet.mole_frac_comp[0.0,\"H2O\"].fix(0.76)\n",
    "m.fs.burner.inlet.temperature.fix(700+273.15)\n",
    "m.fs.burner.inlet.pressure.fix(101325)"
   ]
  },
  {
   "cell_type": "code",
   "execution_count": null,
   "metadata": {},
   "outputs": [],
   "source": [
    "from idaes.core.util.model_statistics import degrees_of_freedom as dof\n",
    "dof(m.fs.burner)"
   ]
  },
  {
   "cell_type": "code",
   "execution_count": 18,
   "metadata": {},
   "outputs": [],
   "source": [
    "solver = SolverFactory('ipopt')"
   ]
  },
  {
   "cell_type": "code",
   "execution_count": 19,
   "metadata": {},
   "outputs": [
    {
     "name": "stdout",
     "output_type": "stream",
     "text": [
      "Ipopt 3.13.2: \n",
      "\n",
      "******************************************************************************\n",
      "This program contains Ipopt, a library for large-scale nonlinear optimization.\n",
      " Ipopt is released as open source code under the Eclipse Public License (EPL).\n",
      "         For more information visit http://projects.coin-or.org/Ipopt\n",
      "******************************************************************************\n",
      "\n",
      "This is Ipopt version 3.13.2, running with linear solver mumps.\n",
      "NOTE: Other linear solvers might be more efficient (see Ipopt documentation).\n",
      "\n",
      "Number of nonzeros in equality constraint Jacobian...:      499\n",
      "Number of nonzeros in inequality constraint Jacobian.:        0\n",
      "Number of nonzeros in Lagrangian Hessian.............:      137\n",
      "\n",
      "Total number of variables............................:      145\n",
      "                     variables with only lower bounds:        8\n",
      "                variables with lower and upper bounds:       64\n",
      "                     variables with only upper bounds:        0\n",
      "Total number of equality constraints.................:      145\n",
      "Total number of inequality constraints...............:        0\n",
      "        inequality constraints with only lower bounds:        0\n",
      "   inequality constraints with lower and upper bounds:        0\n",
      "        inequality constraints with only upper bounds:        0\n",
      "\n",
      "iter    objective    inf_pr   inf_du lg(mu)  ||d||  lg(rg) alpha_du alpha_pr  ls\n",
      "   0  0.0000000e+00 4.56e+05 1.00e+00  -1.0 0.00e+00    -  0.00e+00 0.00e+00   0\n",
      "   1  0.0000000e+00 4.56e+05 5.38e+00  -1.0 8.08e+06    -  2.42e-04 5.94e-04h  1\n",
      "   2  0.0000000e+00 4.55e+05 2.76e+01  -1.0 4.44e+06    -  1.57e-03 5.78e-04h  1\n",
      "   3  0.0000000e+00 4.55e+05 1.11e+03  -1.0 3.02e+06    -  3.53e-03 8.73e-04h  1\n",
      "Error in an AMPL evaluation. Run with \"halt_on_ampl_error yes\" to see details.\n",
      "Warning: Cutting back alpha due to evaluation error\n",
      "   4  0.0000000e+00 4.55e+05 1.36e+03  -1.0 2.02e+06    -  4.55e-03 7.36e-04h  2\n",
      "Error in an AMPL evaluation. Run with \"halt_on_ampl_error yes\" to see details.\n",
      "Warning: Cutting back alpha due to evaluation error\n",
      "   5  0.0000000e+00 4.54e+05 2.84e+04  -1.0 1.62e+06    -  1.04e-02 1.03e-03h  2\n",
      "Error in an AMPL evaluation. Run with \"halt_on_ampl_error yes\" to see details.\n",
      "Warning: Cutting back alpha due to evaluation error\n",
      "   6  0.0000000e+00 4.53e+05 1.69e+05  -1.0 1.30e+06    -  1.53e-02 1.65e-03h  2\n",
      "Error in an AMPL evaluation. Run with \"halt_on_ampl_error yes\" to see details.\n",
      "Warning: Cutting back alpha due to evaluation error\n",
      "Error in an AMPL evaluation. Run with \"halt_on_ampl_error yes\" to see details.\n",
      "Warning: Cutting back alpha due to evaluation error\n",
      "   7  0.0000000e+00 4.53e+05 1.91e+06  -1.0 1.05e+06    -  4.73e-02 1.56e-03h  3\n",
      "Error in an AMPL evaluation. Run with \"halt_on_ampl_error yes\" to see details.\n",
      "Warning: Cutting back alpha due to evaluation error\n",
      "Error in an AMPL evaluation. Run with \"halt_on_ampl_error yes\" to see details.\n",
      "Warning: Cutting back alpha due to evaluation error\n",
      "   8  0.0000000e+00 4.52e+05 2.92e+06  -1.0 1.01e+06    -  1.12e-02 1.88e-03h  3\n",
      "Error in an AMPL evaluation. Run with \"halt_on_ampl_error yes\" to see details.\n",
      "Warning: Cutting back alpha due to evaluation error\n",
      "Error in an AMPL evaluation. Run with \"halt_on_ampl_error yes\" to see details.\n",
      "Warning: Cutting back alpha due to evaluation error\n",
      "   9  0.0000000e+00 4.51e+05 7.82e+06  -1.0 1.07e+06    -  5.02e-02 2.33e-03h  3\n",
      "iter    objective    inf_pr   inf_du lg(mu)  ||d||  lg(rg) alpha_du alpha_pr  ls\n",
      "  10  0.0000000e+00 4.45e+05 7.64e+06  -1.0 5.26e+06    -  9.14e-03 1.23e-02h  1\n",
      "Error in an AMPL evaluation. Run with \"halt_on_ampl_error yes\" to see details.\n",
      "Warning: Cutting back alpha due to evaluation error\n",
      "  11  0.0000000e+00 4.40e+05 7.82e+06  -1.0 8.48e+06    -  4.87e-02 1.08e-02h  2\n",
      "Error in an AMPL evaluation. Run with \"halt_on_ampl_error yes\" to see details.\n",
      "Warning: Cutting back alpha due to evaluation error\n",
      "  12  0.0000000e+00 4.33e+05 6.39e+06  -1.0 1.14e+07    -  7.74e-02 1.69e-02h  2\n",
      "Error in an AMPL evaluation. Run with \"halt_on_ampl_error yes\" to see details.\n",
      "Warning: Cutting back alpha due to evaluation error\n",
      "  13  0.0000000e+00 4.24e+05 5.90e+06  -1.0 1.64e+07    -  9.62e-02 2.01e-02h  2\n",
      "  14  0.0000000e+00 4.02e+05 9.31e+06  -1.0 2.31e+07    -  1.37e-01 5.30e-02h  1\n",
      "Error in an AMPL evaluation. Run with \"halt_on_ampl_error yes\" to see details.\n",
      "Warning: Cutting back alpha due to evaluation error\n",
      "  15  0.0000000e+00 3.80e+05 8.07e+06  -1.0 2.43e+07    -  2.51e-01 5.40e-02h  2\n",
      "Error in an AMPL evaluation. Run with \"halt_on_ampl_error yes\" to see details.\n",
      "Warning: Cutting back alpha due to evaluation error\n",
      "  16  0.0000000e+00 3.58e+05 6.87e+06  -1.0 2.14e+07    -  4.18e-01 5.87e-02h  2\n",
      "Error in an AMPL evaluation. Run with \"halt_on_ampl_error yes\" to see details.\n",
      "Warning: Cutting back alpha due to evaluation error\n",
      "  17  0.0000000e+00 3.35e+05 1.03e+07  -1.0 1.87e+07    -  3.68e-01 6.32e-02h  2\n",
      "  18  0.0000000e+00 2.87e+05 1.24e+09  -1.0 1.60e+07    -  8.18e-01 1.42e-01h  1\n",
      "Error in an AMPL evaluation. Run with \"halt_on_ampl_error yes\" to see details.\n",
      "Warning: Cutting back alpha due to evaluation error\n",
      "  19  0.0000000e+00 2.40e+05 8.76e+08  -1.0 1.03e+07    -  3.05e-01 1.64e-01h  2\n",
      "Error in an AMPL evaluation. Run with \"halt_on_ampl_error yes\" to see details.\n",
      "Warning: Cutting back alpha due to evaluation error\n",
      "iter    objective    inf_pr   inf_du lg(mu)  ||d||  lg(rg) alpha_du alpha_pr  ls\n",
      "  20  0.0000000e+00 2.10e+05 6.66e+08  -1.0 7.93e+06    -  4.36e-01 1.27e-01h  2\n",
      "Error in an AMPL evaluation. Run with \"halt_on_ampl_error yes\" to see details.\n",
      "Warning: Cutting back alpha due to evaluation error\n",
      "  21  0.0000000e+00 1.72e+05 3.81e+08  -1.0 5.69e+06    -  6.43e-01 1.79e-01h  2\n",
      "Error in an AMPL evaluation. Run with \"halt_on_ampl_error yes\" to see details.\n",
      "Warning: Cutting back alpha due to evaluation error\n",
      "  22  0.0000000e+00 1.20e+05 1.58e+08  -1.0 2.79e+06    -  9.90e-01 3.05e-01h  2\n",
      "  23  0.0000000e+00 2.13e+04 4.04e+08  -1.0 4.03e+05    -  1.00e+00 8.21e-01h  1\n",
      "  24  0.0000000e+00 1.24e+03 1.37e+08  -1.0 1.59e+06    -  9.86e-01 9.42e-01h  1\n",
      "  25  0.0000000e+00 2.11e+03 8.89e+07  -1.0 6.01e+06    -  5.62e-01 9.89e-01H  1\n",
      "  26  0.0000000e+00 1.40e+03 7.51e+07  -1.0 3.89e+07    -  8.96e-01 1.25e-01h  4\n",
      "  27  0.0000000e+00 1.73e+03 2.53e+07  -1.0 2.05e+07    -  4.38e-01 1.00e+00H  1\n",
      "  28  0.0000000e+00 1.07e+02 1.66e+06  -1.0 2.22e+06    -  1.00e+00 1.00e+00h  1\n",
      "  29  0.0000000e+00 2.03e+01 1.82e+03  -1.0 7.81e+05    -  1.00e+00 1.00e+00h  1\n",
      "iter    objective    inf_pr   inf_du lg(mu)  ||d||  lg(rg) alpha_du alpha_pr  ls\n",
      "  30  0.0000000e+00 7.66e-02 2.59e+02  -1.0 5.15e+04    -  1.00e+00 1.00e+00h  1\n",
      "  31  0.0000000e+00 7.65e-02 9.68e+06  -2.5 6.69e+05    -  1.00e+00 3.91e-03h  9\n",
      "  32  0.0000000e+00 7.65e-02 9.67e+06  -2.5 1.31e+06    -  1.00e+00 9.77e-04h 11\n",
      "  33  0.0000000e+00 7.65e-02 9.66e+06  -2.5 1.31e+06    -  1.00e+00 9.77e-04h 11\n",
      "  34  0.0000000e+00 7.64e-02 9.65e+06  -2.5 1.31e+06    -  1.00e+00 9.77e-04h 11\n",
      "  35  0.0000000e+00 7.64e-02 9.64e+06  -2.5 1.31e+06    -  1.00e+00 9.77e-04h 11\n",
      "  36  0.0000000e+00 7.64e-02 9.63e+06  -2.5 1.31e+06    -  1.00e+00 9.77e-04h 11\n",
      "  37  0.0000000e+00 7.64e-02 9.62e+06  -2.5 1.31e+06    -  1.00e+00 9.77e-04h 11\n",
      "  38  0.0000000e+00 7.64e-02 9.61e+06  -2.5 1.31e+06    -  1.00e+00 9.77e-04h 11\n",
      "  39  0.0000000e+00 7.64e-02 9.60e+06  -2.5 1.31e+06    -  1.00e+00 9.77e-04h 11\n",
      "iter    objective    inf_pr   inf_du lg(mu)  ||d||  lg(rg) alpha_du alpha_pr  ls\n",
      "  40  0.0000000e+00 7.63e-02 9.59e+06  -2.5 1.31e+06    -  1.00e+00 9.77e-04h 11\n",
      "  41  0.0000000e+00 5.98e+01 7.68e+04  -2.5 1.30e+06    -  1.00e+00 1.00e+00w  1\n",
      "  42  0.0000000e+00 4.91e-01 1.60e+03  -2.5 1.02e+05    -  1.00e+00 1.00e+00w  1\n",
      "  43  0.0000000e+00 3.70e-03 2.51e+01  -2.5 1.02e+04    -  1.00e+00 1.00e+00h  1\n",
      "  44  0.0000000e+00 3.67e-03 2.68e+06  -3.8 5.80e+04    -  1.00e+00 1.56e-02h  7\n",
      "  45  0.0000000e+00 3.64e-03 2.68e+06  -3.8 5.83e+04    -  1.00e+00 1.56e-02h  7\n",
      "  46  0.0000000e+00 3.61e-03 2.68e+06  -3.8 5.71e+04    -  1.00e+00 1.56e-02h  7\n",
      "  47  0.0000000e+00 3.61e-03 2.64e+06  -3.8 5.58e+04    -  1.00e+00 3.12e-02h  6\n",
      "  48  0.0000000e+00 3.60e-03 2.64e+06  -3.8 5.33e+04    -  1.00e+00 3.12e-02h  6\n",
      "  49  0.0000000e+00 3.58e-03 2.64e+06  -3.8 5.09e+04    -  1.00e+00 3.12e-02h  6\n",
      "iter    objective    inf_pr   inf_du lg(mu)  ||d||  lg(rg) alpha_du alpha_pr  ls\n",
      "  50  0.0000000e+00 4.61e-04 2.00e+02  -3.8 4.85e+04    -  1.00e+00 1.00e+00H  1\n",
      "  51  0.0000000e+00 4.61e-04 2.72e+06  -3.8 4.78e+04    -  1.00e+00 3.91e-03h  9\n",
      "  52  0.0000000e+00 4.60e-04 2.72e+06  -3.8 4.79e+04    -  1.00e+00 3.91e-03h  9\n",
      "  53  0.0000000e+00 4.60e-04 2.72e+06  -3.8 4.79e+04    -  1.00e+00 3.91e-03h  9\n",
      "  54  0.0000000e+00 4.59e-04 2.72e+06  -3.8 4.79e+04    -  1.00e+00 3.91e-03h  9\n",
      "  55  0.0000000e+00 4.59e-04 2.72e+06  -3.8 4.79e+04    -  1.00e+00 3.91e-03h  9\n",
      "  56  0.0000000e+00 4.58e-04 2.72e+06  -3.8 4.80e+04    -  1.00e+00 3.91e-03h  9\n",
      "  57  0.0000000e+00 4.58e-04 2.72e+06  -3.8 4.80e+04    -  1.00e+00 3.91e-03h  9\n",
      "  58  0.0000000e+00 4.57e-04 2.72e+06  -3.8 4.80e+04    -  1.00e+00 3.91e-03h  9\n",
      "  59  0.0000000e+00 4.57e-04 2.72e+06  -3.8 4.80e+04    -  1.00e+00 3.91e-03h  9\n",
      "iter    objective    inf_pr   inf_du lg(mu)  ||d||  lg(rg) alpha_du alpha_pr  ls\n",
      "  60  0.0000000e+00 4.56e-04 2.72e+06  -3.8 4.80e+04    -  1.00e+00 3.91e-03h  9\n",
      "  61  0.0000000e+00 8.43e-02 1.53e+02  -3.8 4.81e+04    -  1.00e+00 1.00e+00w  1\n",
      "  62  0.0000000e+00 1.24e-01 1.12e+06  -3.8 5.84e+04    -  5.90e-01 1.00e+00w  1\n",
      "  63  0.0000000e+00 1.96e-01 3.17e+06  -3.8 7.34e+04    -  1.75e-01 1.00e+00w  1\n",
      "  64  0.0000000e+00 4.56e-04 2.72e+06  -3.8 9.49e+04    -  1.00e+00 3.91e-03h  8\n",
      "  65  0.0000000e+00 4.55e-04 2.72e+06  -3.8 4.81e+04    -  1.00e+00 3.91e-03h  9\n",
      "  66  0.0000000e+00 4.55e-04 2.72e+06  -3.8 4.81e+04    -  1.00e+00 3.91e-03h  9\n",
      "  67  0.0000000e+00 4.54e-04 2.72e+06  -3.8 4.81e+04    -  1.00e+00 3.91e-03h  9\n",
      "  68  0.0000000e+00 4.54e-04 2.72e+06  -3.8 4.81e+04    -  1.00e+00 3.91e-03h  9\n",
      "  69  0.0000000e+00 4.53e-04 2.72e+06  -3.8 4.81e+04    -  1.00e+00 3.91e-03h  9\n",
      "iter    objective    inf_pr   inf_du lg(mu)  ||d||  lg(rg) alpha_du alpha_pr  ls\n",
      "  70  0.0000000e+00 4.53e-04 2.72e+06  -3.8 4.82e+04    -  1.00e+00 3.91e-03h  9\n",
      "  71  0.0000000e+00 4.52e-04 2.72e+06  -3.8 4.82e+04    -  1.00e+00 3.91e-03h  9\n",
      "  72  0.0000000e+00 4.52e-04 2.72e+06  -3.8 4.82e+04    -  1.00e+00 3.91e-03h  9\n",
      "  73  0.0000000e+00 4.51e-04 2.72e+06  -3.8 4.82e+04    -  1.00e+00 3.91e-03h  9\n",
      "  74  0.0000000e+00 8.50e-02 1.54e+02  -3.8 4.82e+04    -  1.00e+00 1.00e+00w  1\n",
      "  75  0.0000000e+00 1.26e-01 1.20e+06  -3.8 5.89e+04    -  5.60e-01 1.00e+00w  1\n",
      "  76  0.0000000e+00 2.00e-01 3.22e+06  -3.8 7.41e+04    -  1.80e-01 1.00e+00w  1\n",
      "  77  0.0000000e+00 4.51e-04 2.72e+06  -3.8 9.60e+04    -  1.00e+00 3.91e-03h  8\n",
      "  78  0.0000000e+00 4.50e-04 2.72e+06  -3.8 4.83e+04    -  1.00e+00 3.91e-03h  9\n",
      "  79  0.0000000e+00 4.50e-04 2.72e+06  -3.8 4.83e+04    -  1.00e+00 3.91e-03h  9\n",
      "iter    objective    inf_pr   inf_du lg(mu)  ||d||  lg(rg) alpha_du alpha_pr  ls\n",
      "  80  0.0000000e+00 4.49e-04 2.72e+06  -3.8 4.83e+04    -  1.00e+00 3.91e-03h  9\n",
      "  81  0.0000000e+00 4.49e-04 2.72e+06  -3.8 4.83e+04    -  1.00e+00 3.91e-03h  9\n",
      "  82  0.0000000e+00 4.48e-04 2.72e+06  -3.8 4.83e+04    -  1.00e+00 3.91e-03h  9\n",
      "  83  0.0000000e+00 4.48e-04 2.72e+06  -3.8 4.84e+04    -  1.00e+00 3.91e-03h  9\n",
      "  84  0.0000000e+00 4.48e-04 2.72e+06  -3.8 4.84e+04    -  1.00e+00 3.91e-03h  9\n",
      "  85  0.0000000e+00 4.47e-04 2.72e+06  -3.8 4.84e+04    -  1.00e+00 3.91e-03h  9\n",
      "  86  0.0000000e+00 4.47e-04 2.72e+06  -3.8 4.84e+04    -  1.00e+00 3.91e-03h  9\n",
      "  87  0.0000000e+00 8.57e-02 1.55e+02  -3.8 4.84e+04    -  1.00e+00 1.00e+00w  1\n",
      "  88  0.0000000e+00 1.28e-01 1.28e+06  -3.8 5.94e+04    -  5.32e-01 1.00e+00w  1\n",
      "  89  0.0000000e+00 2.03e-01 3.25e+06  -3.8 7.48e+04    -  1.88e-01 1.00e+00w  1\n",
      "iter    objective    inf_pr   inf_du lg(mu)  ||d||  lg(rg) alpha_du alpha_pr  ls\n",
      "  90  0.0000000e+00 4.46e-04 2.72e+06  -3.8 9.70e+04    -  1.00e+00 3.91e-03h  8\n",
      "  91  0.0000000e+00 4.46e-04 2.72e+06  -3.8 4.85e+04    -  1.00e+00 3.91e-03h  9\n",
      "  92  0.0000000e+00 4.45e-04 2.72e+06  -3.8 4.85e+04    -  1.00e+00 3.91e-03h  9\n",
      "  93  0.0000000e+00 4.45e-04 2.72e+06  -3.8 4.85e+04    -  1.00e+00 3.91e-03h  9\n",
      "  94  0.0000000e+00 4.45e-04 2.72e+06  -3.8 4.85e+04    -  1.00e+00 3.91e-03h  9\n",
      "  95  0.0000000e+00 4.44e-04 2.72e+06  -3.8 4.85e+04    -  1.00e+00 3.91e-03h  9\n",
      "  96  0.0000000e+00 4.44e-04 2.72e+06  -3.8 4.86e+04    -  1.00e+00 3.91e-03h  9\n",
      "  97  0.0000000e+00 4.43e-04 2.72e+06  -3.8 4.86e+04    -  1.00e+00 3.91e-03h  9\n",
      "  98  0.0000000e+00 4.43e-04 2.72e+06  -3.8 4.86e+04    -  1.00e+00 3.91e-03h  9\n",
      "  99  0.0000000e+00 4.42e-04 2.72e+06  -3.8 4.86e+04    -  1.00e+00 3.91e-03h  9\n",
      "iter    objective    inf_pr   inf_du lg(mu)  ||d||  lg(rg) alpha_du alpha_pr  ls\n",
      " 100  0.0000000e+00 8.64e-02 1.56e+02  -3.8 4.87e+04    -  1.00e+00 1.00e+00w  1\n",
      " 101  0.0000000e+00 1.31e-01 1.35e+06  -3.8 5.99e+04    -  5.04e-01 1.00e+00w  1\n",
      " 102  0.0000000e+00 2.07e-01 3.27e+06  -3.8 7.55e+04    -  1.98e-01 1.00e+00w  1\n",
      " 103  0.0000000e+00 4.42e-04 2.72e+06  -3.8 9.81e+04    -  1.00e+00 3.91e-03h  8\n",
      " 104  0.0000000e+00 4.42e-04 2.72e+06  -3.8 4.87e+04    -  1.00e+00 3.91e-03h  9\n",
      " 105  0.0000000e+00 4.41e-04 2.72e+06  -3.8 4.87e+04    -  1.00e+00 3.91e-03h  9\n",
      " 106  0.0000000e+00 4.41e-04 2.72e+06  -3.8 4.87e+04    -  1.00e+00 3.91e-03h  9\n",
      " 107  0.0000000e+00 4.40e-04 2.72e+06  -3.8 4.87e+04    -  1.00e+00 3.91e-03h  9\n",
      " 108  0.0000000e+00 4.40e-04 2.72e+06  -3.8 4.88e+04    -  1.00e+00 3.91e-03h  9\n",
      " 109  0.0000000e+00 4.40e-04 2.72e+06  -3.8 4.88e+04    -  1.00e+00 3.91e-03h  9\n",
      "iter    objective    inf_pr   inf_du lg(mu)  ||d||  lg(rg) alpha_du alpha_pr  ls\n",
      " 110  0.0000000e+00 4.39e-04 2.72e+06  -3.8 4.88e+04    -  1.00e+00 3.91e-03h  9\n",
      " 111  0.0000000e+00 4.39e-04 2.72e+06  -3.8 4.88e+04    -  1.00e+00 3.91e-03h  9\n",
      " 112  0.0000000e+00 4.38e-04 2.72e+06  -3.8 4.88e+04    -  1.00e+00 3.91e-03h  9\n",
      " 113  0.0000000e+00 8.72e-02 1.57e+02  -3.8 4.89e+04    -  1.00e+00 1.00e+00w  1\n",
      " 114  0.0000000e+00 1.33e-01 1.42e+06  -3.8 6.04e+04    -  4.79e-01 1.00e+00w  1\n",
      " 115  0.0000000e+00 2.11e-01 3.27e+06  -3.8 7.62e+04    -  2.11e-01 1.00e+00w  1\n",
      " 116  0.0000000e+00 4.38e-04 2.72e+06  -3.8 9.92e+04    -  1.00e+00 3.91e-03h  8\n",
      " 117  0.0000000e+00 4.38e-04 2.72e+06  -3.8 4.89e+04    -  1.00e+00 3.91e-03h  9\n",
      " 118  0.0000000e+00 4.37e-04 2.72e+06  -3.8 4.89e+04    -  1.00e+00 3.91e-03h  9\n",
      " 119  0.0000000e+00 4.37e-04 2.72e+06  -3.8 4.89e+04    -  1.00e+00 3.91e-03h  9\n",
      "iter    objective    inf_pr   inf_du lg(mu)  ||d||  lg(rg) alpha_du alpha_pr  ls\n",
      " 120  0.0000000e+00 4.37e-04 2.72e+06  -3.8 4.90e+04    -  1.00e+00 3.91e-03h  9\n",
      " 121  0.0000000e+00 4.36e-04 2.72e+06  -3.8 4.90e+04    -  1.00e+00 3.91e-03h  9\n",
      " 122  0.0000000e+00 4.36e-04 2.72e+06  -3.8 4.90e+04    -  1.00e+00 3.91e-03h  9\n",
      " 123  0.0000000e+00 4.35e-04 2.72e+06  -3.8 4.90e+04    -  1.00e+00 3.91e-03h  9\n",
      " 124  0.0000000e+00 4.35e-04 2.72e+06  -3.8 4.90e+04    -  1.00e+00 3.91e-03h  9\n",
      " 125  0.0000000e+00 4.35e-04 2.72e+06  -3.8 4.91e+04    -  1.00e+00 3.91e-03h  9\n",
      " 126  0.0000000e+00 8.80e-02 1.58e+02  -3.8 4.91e+04    -  1.00e+00 1.00e+00w  1\n",
      " 127  0.0000000e+00 1.35e-01 1.49e+06  -3.8 6.09e+04    -  4.55e-01 1.00e+00w  1\n",
      " 128  0.0000000e+00 2.15e-01 3.24e+06  -3.8 7.70e+04    -  2.30e-01 1.00e+00w  1\n",
      " 129  0.0000000e+00 4.34e-04 2.72e+06  -3.8 1.00e+05    -  1.00e+00 3.91e-03h  8\n",
      "iter    objective    inf_pr   inf_du lg(mu)  ||d||  lg(rg) alpha_du alpha_pr  ls\n",
      " 130  0.0000000e+00 4.34e-04 2.72e+06  -3.8 4.91e+04    -  1.00e+00 3.91e-03h  9\n",
      " 131  0.0000000e+00 4.34e-04 2.72e+06  -3.8 4.91e+04    -  1.00e+00 3.91e-03h  9\n",
      " 132  0.0000000e+00 4.33e-04 2.72e+06  -3.8 4.92e+04    -  1.00e+00 3.91e-03h  9\n",
      " 133  0.0000000e+00 4.33e-04 2.72e+06  -3.8 4.92e+04    -  1.00e+00 3.91e-03h  9\n",
      " 134  0.0000000e+00 4.33e-04 2.72e+06  -3.8 4.92e+04    -  1.00e+00 3.91e-03h  9\n",
      " 135  0.0000000e+00 4.32e-04 2.72e+06  -3.8 4.92e+04    -  1.00e+00 3.91e-03h  9\n",
      " 136  0.0000000e+00 4.32e-04 2.72e+06  -3.8 4.93e+04    -  1.00e+00 3.91e-03h  9\n",
      " 137  0.0000000e+00 4.32e-04 2.72e+06  -3.8 4.93e+04    -  1.00e+00 3.91e-03h  9\n",
      " 138  0.0000000e+00 4.31e-04 2.72e+06  -3.8 4.93e+04    -  1.00e+00 3.91e-03h  9\n",
      " 139  0.0000000e+00 8.88e-02 1.60e+02  -3.8 4.93e+04    -  1.00e+00 1.00e+00w  1\n",
      "iter    objective    inf_pr   inf_du lg(mu)  ||d||  lg(rg) alpha_du alpha_pr  ls\n",
      " 140  0.0000000e+00 1.37e-01 1.54e+06  -3.8 6.14e+04    -  4.33e-01 1.00e+00w  1\n",
      " 141  0.0000000e+00 2.20e-01 3.17e+06  -3.8 7.77e+04    -  2.57e-01 1.00e+00w  1\n",
      " 142  0.0000000e+00 4.31e-04 2.72e+06  -3.8 1.01e+05    -  1.00e+00 3.91e-03h  8\n",
      " 143  0.0000000e+00 4.31e-04 2.72e+06  -3.8 4.94e+04    -  1.00e+00 3.91e-03h  9\n",
      " 144  0.0000000e+00 4.30e-04 2.72e+06  -3.8 4.94e+04    -  1.00e+00 3.91e-03h  9\n",
      " 145  0.0000000e+00 4.30e-04 2.72e+06  -3.8 4.94e+04    -  1.00e+00 3.91e-03h  9\n",
      " 146  0.0000000e+00 4.30e-04 2.72e+06  -3.8 4.94e+04    -  1.00e+00 3.91e-03h  9\n",
      " 147  0.0000000e+00 4.29e-04 2.72e+06  -3.8 4.94e+04    -  1.00e+00 3.91e-03h  9\n",
      " 148  0.0000000e+00 4.29e-04 2.72e+06  -3.8 4.95e+04    -  1.00e+00 3.91e-03h  9\n",
      " 149  0.0000000e+00 4.29e-04 2.72e+06  -3.8 4.95e+04    -  1.00e+00 3.91e-03h  9\n",
      "iter    objective    inf_pr   inf_du lg(mu)  ||d||  lg(rg) alpha_du alpha_pr  ls\n",
      " 150  0.0000000e+00 4.28e-04 2.72e+06  -3.8 4.95e+04    -  1.00e+00 3.91e-03h  9\n",
      " 151  0.0000000e+00 4.28e-04 2.72e+06  -3.8 4.95e+04    -  1.00e+00 3.91e-03h  9\n",
      " 152  0.0000000e+00 8.97e-02 1.61e+02  -3.8 4.96e+04    -  1.00e+00 1.00e+00w  1\n",
      " 153  0.0000000e+00 1.40e-01 1.60e+06  -3.8 6.19e+04    -  4.14e-01 1.00e+00w  1\n",
      " 154  0.0000000e+00 2.24e-01 3.03e+06  -3.8 7.85e+04    -  2.98e-01 1.00e+00w  1\n",
      " 155  0.0000000e+00 4.28e-04 2.72e+06  -3.8 1.02e+05    -  1.00e+00 3.91e-03h  8\n",
      " 156  0.0000000e+00 4.28e-04 2.72e+06  -3.8 4.96e+04    -  1.00e+00 3.91e-03h  9\n",
      " 157  0.0000000e+00 4.27e-04 2.72e+06  -3.8 4.96e+04    -  1.00e+00 3.91e-03h  9\n",
      " 158  0.0000000e+00 4.27e-04 2.72e+06  -3.8 4.96e+04    -  1.00e+00 3.91e-03h  9\n",
      " 159  0.0000000e+00 4.27e-04 2.72e+06  -3.8 4.97e+04    -  1.00e+00 3.91e-03h  9\n",
      "iter    objective    inf_pr   inf_du lg(mu)  ||d||  lg(rg) alpha_du alpha_pr  ls\n",
      " 160  0.0000000e+00 4.26e-04 2.72e+06  -3.8 4.97e+04    -  1.00e+00 3.91e-03h  9\n",
      " 161  0.0000000e+00 4.26e-04 2.72e+06  -3.8 4.97e+04    -  1.00e+00 3.91e-03h  9\n",
      " 162  0.0000000e+00 4.26e-04 2.72e+06  -3.8 4.97e+04    -  1.00e+00 3.91e-03h  9\n",
      " 163  0.0000000e+00 4.25e-04 2.72e+06  -3.8 4.98e+04    -  1.00e+00 3.91e-03h  9\n",
      " 164  0.0000000e+00 4.25e-04 2.72e+06  -3.8 4.98e+04    -  1.00e+00 3.91e-03h  9\n",
      " 165  0.0000000e+00 9.06e-02 1.62e+02  -3.8 4.98e+04    -  1.00e+00 1.00e+00w  1\n",
      " 166  0.0000000e+00 1.42e-01 1.64e+06  -3.8 6.24e+04    -  3.98e-01 1.00e+00w  1\n",
      " 167  0.0000000e+00 2.28e-01 2.76e+06  -3.8 7.93e+04    -  3.69e-01 1.00e+00w  1\n",
      " 168  0.0000000e+00 4.25e-04 2.72e+06  -3.8 1.04e+05    -  1.00e+00 3.91e-03h  8\n",
      " 169  0.0000000e+00 4.25e-04 2.72e+06  -3.8 4.98e+04    -  1.00e+00 3.91e-03h  9\n",
      "iter    objective    inf_pr   inf_du lg(mu)  ||d||  lg(rg) alpha_du alpha_pr  ls\n",
      " 170  0.0000000e+00 4.24e-04 2.72e+06  -3.8 4.99e+04    -  1.00e+00 3.91e-03h  9\n",
      " 171  0.0000000e+00 4.24e-04 2.72e+06  -3.8 4.99e+04    -  1.00e+00 3.91e-03h  9\n",
      " 172  0.0000000e+00 4.24e-04 2.72e+06  -3.8 4.99e+04    -  1.00e+00 3.91e-03h  9\n",
      " 173  0.0000000e+00 4.24e-04 2.72e+06  -3.8 4.99e+04    -  1.00e+00 3.91e-03h  9\n",
      " 174  0.0000000e+00 4.23e-04 2.72e+06  -3.8 5.00e+04    -  1.00e+00 3.91e-03h  9\n"
     ]
    },
    {
     "name": "stdout",
     "output_type": "stream",
     "text": [
      " 175  0.0000000e+00 4.23e-04 2.72e+06  -3.8 5.00e+04    -  1.00e+00 3.91e-03h  9\n",
      " 176  0.0000000e+00 4.23e-04 2.72e+06  -3.8 5.00e+04    -  1.00e+00 3.91e-03h  9\n",
      " 177  0.0000000e+00 4.23e-04 2.72e+06  -3.8 5.01e+04    -  1.00e+00 3.91e-03h  9\n",
      " 178  0.0000000e+00 9.15e-02 1.63e+02  -3.8 5.01e+04    -  1.00e+00 1.00e+00w  1\n",
      " 179  0.0000000e+00 1.44e-01 1.68e+06  -3.8 6.30e+04    -  3.85e-01 1.00e+00w  1\n",
      "iter    objective    inf_pr   inf_du lg(mu)  ||d||  lg(rg) alpha_du alpha_pr  ls\n",
      " 180  0.0000000e+00 2.33e-01 2.08e+06  -3.8 8.00e+04    -  5.27e-01 1.00e+00w  1\n",
      " 181  0.0000000e+00 4.22e-04 2.72e+06  -3.8 1.05e+05    -  1.00e+00 3.91e-03h  8\n",
      " 182  0.0000000e+00 4.22e-04 2.72e+06  -3.8 5.01e+04    -  1.00e+00 3.91e-03h  9\n",
      " 183  0.0000000e+00 4.22e-04 2.72e+06  -3.8 5.01e+04    -  1.00e+00 3.91e-03h  9\n",
      " 184  0.0000000e+00 4.22e-04 2.72e+06  -3.8 5.02e+04    -  1.00e+00 3.91e-03h  9\n",
      " 185  0.0000000e+00 4.21e-04 2.72e+06  -3.8 5.02e+04    -  1.00e+00 3.91e-03h  9\n",
      " 186  0.0000000e+00 4.21e-04 2.72e+06  -3.8 5.02e+04    -  1.00e+00 3.91e-03h  9\n",
      " 187  0.0000000e+00 4.21e-04 2.72e+06  -3.8 5.02e+04    -  1.00e+00 3.91e-03h  9\n",
      " 188  0.0000000e+00 4.21e-04 2.72e+06  -3.8 5.03e+04    -  1.00e+00 3.91e-03h  9\n",
      " 189  0.0000000e+00 4.20e-04 2.72e+06  -3.8 5.03e+04    -  1.00e+00 3.91e-03h  9\n",
      "iter    objective    inf_pr   inf_du lg(mu)  ||d||  lg(rg) alpha_du alpha_pr  ls\n",
      " 190  0.0000000e+00 4.20e-04 2.72e+06  -3.8 5.03e+04    -  1.00e+00 3.91e-03h  9\n",
      " 191  0.0000000e+00 9.25e-02 1.64e+02  -3.8 5.03e+04    -  1.00e+00 1.00e+00w  1\n",
      " 192  0.0000000e+00 1.47e-01 1.70e+06  -3.8 6.35e+04    -  3.76e-01 1.00e+00w  1\n",
      " 193  0.0000000e+00 2.38e-01 3.11e+02  -3.8 8.08e+04    -  1.00e+00 1.00e+00w  1\n",
      " 194  0.0000000e+00 4.20e-04 2.72e+06  -3.8 1.06e+05    -  1.00e+00 3.91e-03h  8\n",
      " 195  0.0000000e+00 4.20e-04 2.72e+06  -3.8 5.04e+04    -  1.00e+00 3.91e-03h  9\n",
      " 196  0.0000000e+00 4.19e-04 2.72e+06  -3.8 5.04e+04    -  1.00e+00 3.91e-03h  9\n",
      " 197  0.0000000e+00 4.19e-04 2.72e+06  -3.8 5.04e+04    -  1.00e+00 3.91e-03h  9\n",
      " 198  0.0000000e+00 4.19e-04 2.72e+06  -3.8 5.05e+04    -  1.00e+00 3.91e-03h  9\n",
      " 199  0.0000000e+00 4.19e-04 2.72e+06  -3.8 5.05e+04    -  1.00e+00 3.91e-03h  9\n",
      "iter    objective    inf_pr   inf_du lg(mu)  ||d||  lg(rg) alpha_du alpha_pr  ls\n",
      " 200  0.0000000e+00 4.19e-04 2.72e+06  -3.8 5.05e+04    -  1.00e+00 3.91e-03h  9\n",
      " 201  0.0000000e+00 4.18e-04 2.72e+06  -3.8 5.05e+04    -  1.00e+00 3.91e-03h  9\n",
      " 202  0.0000000e+00 4.18e-04 2.72e+06  -3.8 5.06e+04    -  1.00e+00 3.91e-03h  9\n",
      " 203  0.0000000e+00 4.18e-04 2.72e+06  -3.8 5.06e+04    -  1.00e+00 3.91e-03h  9\n",
      " 204  0.0000000e+00 9.35e-02 1.66e+02  -3.8 5.06e+04    -  1.00e+00 1.00e+00w  1\n",
      " 205  0.0000000e+00 1.49e-01 1.71e+06  -3.8 6.41e+04    -  3.72e-01 1.00e+00w  1\n",
      " 206  0.0000000e+00 2.42e-01 3.15e+02  -3.8 8.16e+04    -  1.00e+00 1.00e+00w  1\n",
      " 207  0.0000000e+00 4.18e-04 2.72e+06  -3.8 1.07e+05    -  1.00e+00 3.91e-03h  8\n",
      " 208  0.0000000e+00 4.17e-04 2.72e+06  -3.8 5.06e+04    -  1.00e+00 3.91e-03h  9\n",
      " 209  0.0000000e+00 4.17e-04 2.72e+06  -3.8 5.07e+04    -  1.00e+00 3.91e-03h  9\n",
      "iter    objective    inf_pr   inf_du lg(mu)  ||d||  lg(rg) alpha_du alpha_pr  ls\n",
      " 210  0.0000000e+00 4.17e-04 2.72e+06  -3.8 5.07e+04    -  1.00e+00 3.91e-03h  9\n",
      " 211  0.0000000e+00 4.17e-04 2.72e+06  -3.8 5.07e+04    -  1.00e+00 3.91e-03h  9\n",
      " 212  0.0000000e+00 4.17e-04 2.72e+06  -3.8 5.08e+04    -  1.00e+00 3.91e-03h  9\n",
      " 213  0.0000000e+00 4.16e-04 2.72e+06  -3.8 5.08e+04    -  1.00e+00 3.91e-03h  9\n",
      " 214  0.0000000e+00 4.16e-04 2.72e+06  -3.8 5.08e+04    -  1.00e+00 3.91e-03h  9\n",
      " 215  0.0000000e+00 4.16e-04 2.72e+06  -3.8 5.08e+04    -  1.00e+00 3.91e-03h  9\n",
      " 216  0.0000000e+00 4.16e-04 2.72e+06  -3.8 5.09e+04    -  1.00e+00 3.91e-03h  9\n",
      " 217  0.0000000e+00 9.45e-02 1.67e+02  -3.8 5.09e+04    -  1.00e+00 1.00e+00w  1\n",
      " 218  0.0000000e+00 1.52e-01 1.71e+06  -3.8 6.46e+04    -  3.72e-01 1.00e+00w  1\n",
      " 219  0.0000000e+00 2.47e-01 3.20e+02  -3.8 8.25e+04    -  1.00e+00 1.00e+00w  1\n",
      "iter    objective    inf_pr   inf_du lg(mu)  ||d||  lg(rg) alpha_du alpha_pr  ls\n",
      " 220  0.0000000e+00 4.16e-04 2.72e+06  -3.8 1.08e+05    -  1.00e+00 3.91e-03h  8\n",
      " 221  0.0000000e+00 4.16e-04 2.72e+06  -3.8 5.09e+04    -  1.00e+00 3.91e-03h  9\n",
      " 222  0.0000000e+00 4.15e-04 2.72e+06  -3.8 5.10e+04    -  1.00e+00 3.91e-03h  9\n",
      " 223  0.0000000e+00 4.15e-04 2.72e+06  -3.8 5.10e+04    -  1.00e+00 3.91e-03h  9\n",
      " 224  0.0000000e+00 4.15e-04 2.72e+06  -3.8 5.10e+04    -  1.00e+00 3.91e-03h  9\n",
      " 225  0.0000000e+00 4.15e-04 2.72e+06  -3.8 5.10e+04    -  1.00e+00 3.91e-03h  9\n",
      " 226  0.0000000e+00 4.15e-04 2.72e+06  -3.8 5.11e+04    -  1.00e+00 3.91e-03h  9\n",
      " 227  0.0000000e+00 4.15e-04 2.72e+06  -3.8 5.11e+04    -  1.00e+00 3.91e-03h  9\n",
      " 228  0.0000000e+00 4.14e-04 2.72e+06  -3.8 5.11e+04    -  1.00e+00 3.91e-03h  9\n",
      " 229  0.0000000e+00 4.14e-04 2.72e+06  -3.8 5.12e+04    -  1.00e+00 3.91e-03h  9\n",
      "iter    objective    inf_pr   inf_du lg(mu)  ||d||  lg(rg) alpha_du alpha_pr  ls\n",
      " 230  0.0000000e+00 9.56e-02 1.69e+02  -3.8 5.12e+04    -  1.00e+00 1.00e+00w  1\n",
      " 231  0.0000000e+00 1.55e-01 1.70e+06  -3.8 6.52e+04    -  3.75e-01 1.00e+00w  1\n",
      " 232  0.0000000e+00 2.52e-01 3.24e+02  -3.8 8.33e+04    -  1.00e+00 1.00e+00w  1\n",
      " 233  0.0000000e+00 4.14e-04 2.72e+06  -3.8 1.10e+05    -  1.00e+00 3.91e-03h  8\n",
      " 234  0.0000000e+00 4.14e-04 2.72e+06  -3.8 5.12e+04    -  1.00e+00 3.91e-03h  9\n",
      " 235  0.0000000e+00 4.14e-04 2.72e+06  -3.8 5.12e+04    -  1.00e+00 3.91e-03h  9\n",
      " 236  0.0000000e+00 4.14e-04 2.72e+06  -3.8 5.13e+04    -  1.00e+00 3.91e-03h  9\n",
      " 237  0.0000000e+00 4.13e-04 2.72e+06  -3.8 5.13e+04    -  1.00e+00 3.91e-03h  9\n",
      " 238  0.0000000e+00 4.13e-04 2.72e+06  -3.8 5.13e+04    -  1.00e+00 3.91e-03h  9\n",
      " 239  0.0000000e+00 4.13e-04 2.72e+06  -3.8 5.14e+04    -  1.00e+00 3.91e-03h  9\n",
      "iter    objective    inf_pr   inf_du lg(mu)  ||d||  lg(rg) alpha_du alpha_pr  ls\n",
      " 240  0.0000000e+00 4.13e-04 2.72e+06  -3.8 5.14e+04    -  1.00e+00 3.91e-03h  9\n",
      " 241  0.0000000e+00 4.13e-04 2.72e+06  -3.8 5.14e+04    -  1.00e+00 3.91e-03h  9\n",
      " 242  0.0000000e+00 4.13e-04 2.72e+06  -3.8 5.15e+04    -  1.00e+00 3.91e-03h  9\n",
      " 243  0.0000000e+00 9.67e-02 1.70e+02  -3.8 5.15e+04    -  1.00e+00 1.00e+00w  1\n",
      " 244  0.0000000e+00 1.57e-01 1.71e+06  -3.8 6.58e+04    -  3.72e-01 1.00e+00w  1\n",
      " 245  0.0000000e+00 2.57e-01 3.28e+02  -3.8 8.41e+04    -  1.00e+00 1.00e+00w  1\n",
      " 246  0.0000000e+00 4.13e-04 2.72e+06  -3.8 1.11e+05    -  1.00e+00 3.91e-03h  8\n",
      " 247  0.0000000e+00 4.12e-04 2.72e+06  -3.8 5.15e+04    -  1.00e+00 3.91e-03h  9\n",
      " 248  0.0000000e+00 4.12e-04 2.72e+06  -3.8 5.15e+04    -  1.00e+00 3.91e-03h  9\n",
      " 249  0.0000000e+00 4.12e-04 2.72e+06  -3.8 5.16e+04    -  1.00e+00 3.91e-03h  9\n",
      "iter    objective    inf_pr   inf_du lg(mu)  ||d||  lg(rg) alpha_du alpha_pr  ls\n",
      " 250  0.0000000e+00 4.12e-04 2.72e+06  -3.8 5.16e+04    -  1.00e+00 3.91e-03h  9\n",
      " 251  0.0000000e+00 4.12e-04 2.72e+06  -3.8 5.16e+04    -  1.00e+00 3.91e-03h  9\n",
      " 252  0.0000000e+00 4.12e-04 2.72e+06  -3.8 5.17e+04    -  1.00e+00 3.91e-03h  9\n",
      " 253  0.0000000e+00 4.12e-04 2.72e+06  -3.8 5.17e+04    -  1.00e+00 3.91e-03h  9\n",
      " 254  0.0000000e+00 4.12e-04 2.72e+06  -3.8 5.17e+04    -  1.00e+00 3.91e-03h  9\n",
      " 255  0.0000000e+00 4.11e-04 2.72e+06  -3.8 5.18e+04    -  1.00e+00 3.91e-03h  9\n",
      " 256  0.0000000e+00 9.78e-02 1.71e+02  -3.8 5.18e+04    -  1.00e+00 1.00e+00w  1\n",
      " 257  0.0000000e+00 1.60e-01 1.71e+06  -3.8 6.64e+04    -  3.74e-01 1.00e+00w  1\n",
      " 258  0.0000000e+00 2.63e-01 3.33e+02  -3.8 8.50e+04    -  1.00e+00 1.00e+00w  1\n",
      " 259  0.0000000e+00 4.11e-04 2.72e+06  -3.8 1.12e+05    -  1.00e+00 3.91e-03h  8\n",
      "iter    objective    inf_pr   inf_du lg(mu)  ||d||  lg(rg) alpha_du alpha_pr  ls\n",
      " 260  0.0000000e+00 4.11e-04 2.72e+06  -3.8 5.18e+04    -  1.00e+00 3.91e-03h  9\n",
      " 261  0.0000000e+00 4.11e-04 2.72e+06  -3.8 5.18e+04    -  1.00e+00 3.91e-03h  9\n",
      " 262  0.0000000e+00 4.11e-04 2.72e+06  -3.8 5.19e+04    -  1.00e+00 3.91e-03h  9\n",
      " 263  0.0000000e+00 2.76e-01 2.03e+06  -3.8 5.19e+04    -  2.59e-01 1.00e+00H  1\n",
      " 264  0.0000000e+00 3.66e-01 3.91e+02  -3.8 1.00e+05    -  1.00e+00 1.00e+00h  1\n",
      " 265  0.0000000e+00 3.02e-01 1.36e+06  -3.8 1.15e+05    -  1.00e+00 5.00e-01h  2\n",
      " 266  0.0000000e+00 1.59e+00 2.27e+03  -3.8 1.29e+05    -  1.00e+00 1.00e+00H  1\n",
      " 267  0.0000000e+00 4.09e+00 1.91e+03  -3.8 3.37e+05    -  1.00e+00 1.00e+00h  1\n",
      " 268  0.0000000e+00 8.59e+00 3.56e+03  -3.8 4.91e+05    -  1.00e+00 1.00e+00h  1\n",
      " 269  0.0000000e+00 3.26e+01 8.89e+03  -3.8 9.62e+05    -  1.00e+00 1.00e+00h  1\n",
      "iter    objective    inf_pr   inf_du lg(mu)  ||d||  lg(rg) alpha_du alpha_pr  ls\n",
      " 270  0.0000000e+00 2.43e+02 3.49e+04  -3.8 2.65e+06    -  1.00e+00 1.00e+00h  1\n",
      " 271  0.0000000e+00 1.09e+04 1.12e+06  -3.8 1.78e+07    -  5.65e-01 1.00e+00h  1\n",
      " 272  0.0000000e+00 1.05e+04 1.76e+06  -3.8 6.52e+03  -4.0 1.00e+00 4.21e-02h  2\n",
      " 273  0.0000000e+00 3.76e+01 2.46e+06  -3.8 3.64e+06    -  2.25e-01 1.00e+00h  1\n",
      " 274  0.0000000e+00 3.33e-02 7.43e+04  -3.8 2.14e+02  -4.5 1.00e+00 1.00e+00h  1\n",
      " 275  0.0000000e+00 5.67e-04 6.78e+03  -3.8 2.46e+01  -5.0 1.00e+00 1.00e+00h  1\n",
      " 276  0.0000000e+00 2.68e-05 3.80e+02  -3.8 1.17e+01  -5.4 1.00e+00 1.00e+00h  1\n",
      " 277  0.0000000e+00 7.16e-03 1.41e+03  -3.8 1.84e+04    -  1.00e+00 1.00e+00h  1\n",
      " 278  0.0000000e+00 4.19e-06 5.30e+00  -3.8 1.89e-01  -5.9 1.00e+00 1.00e+00h  1\n",
      " 279  0.0000000e+00 4.19e-06 4.89e+05  -5.7 8.42e-03  -6.4 8.15e-01 8.69e-01H  1\n",
      "iter    objective    inf_pr   inf_du lg(mu)  ||d||  lg(rg) alpha_du alpha_pr  ls\n",
      " 280  0.0000000e+00 4.19e-06 2.05e+06  -5.7 8.42e-03  -6.9 1.57e-01 5.00e-01f  2\n",
      " 281  0.0000000e+00 4.19e-06 6.42e+06  -5.7 1.04e-02  -7.3 5.81e-02 1.00e+00h  1\n",
      " 282  0.0000000e+00 4.52e-06 1.04e+07  -5.7 2.23e-02  -7.8 7.17e-02 1.00e+00h  1\n",
      " 283  0.0000000e+00 6.68e-06 9.09e-02  -5.7 1.42e-02  -8.3 1.00e+00 1.00e+00h  1\n",
      "Error in an AMPL evaluation. Run with \"halt_on_ampl_error yes\" to see details.\n",
      "Warning: Cutting back alpha due to evaluation error\n",
      " 284  0.0000000e+00 1.89e+04 3.74e+05  -8.6 8.96e+08    -  2.85e-02 3.37e-02h  2\n",
      " 285  0.0000000e+00 1.80e+04 1.86e+06  -8.6 1.80e+04  -8.8 1.28e-01 4.79e-02h  5\n",
      " 286  0.0000000e+00 1.09e+04 5.38e+06  -8.6 5.69e+06    -  8.83e-01 3.94e-01h  2\n",
      " 287  0.0000000e+00 9.71e+03 6.24e+06  -8.6 3.51e+06    -  3.82e-01 1.12e-01h  4\n",
      " 288  0.0000000e+00 9.16e+03 1.02e+07  -8.6 3.13e+06    -  1.00e+00 5.72e-02h  5\n",
      " 289  0.0000000e+00 9.02e+03 1.05e+07  -8.6 2.95e+06    -  8.66e-01 1.55e-02h  7\n",
      "iter    objective    inf_pr   inf_du lg(mu)  ||d||  lg(rg) alpha_du alpha_pr  ls\n",
      " 290  0.0000000e+00 3.93e+01 7.76e+04  -8.6 2.91e+06    -  1.00e+00 9.98e-01h  1\n",
      " 291  0.0000000e+00 9.05e-04 6.52e+01  -8.6 1.07e+02  -9.2 1.00e+00 1.00e+00h  1\n",
      " 292  0.0000000e+00 1.84e-06 5.07e-05  -8.6 5.83e-02  -9.7 1.00e+00 1.00e+00h  1\n",
      " 293  0.0000000e+00 1.84e-06 5.01e-07  -8.6 1.14e-05 -10.2 1.00e+00 1.00e+00h  1\n",
      " 294  0.0000000e+00 3.14e-02 1.21e-06  -8.6 4.34e+05    -  1.00e+00 1.00e+00H  1\n",
      " 295  0.0000000e+00 1.91e-03 1.65e-06  -8.6 7.42e+03    -  1.00e+00 1.00e+00h  1\n",
      " 296  0.0000000e+00 1.84e-06 9.85e-07  -8.6 1.63e+00    -  1.00e+00 1.00e+00h  1\n",
      " 297  0.0000000e+00 1.84e-06 1.06e+07  -8.6 7.19e-06    -  2.09e-02 1.00e+00h  1\n",
      " 298  0.0000000e+00 1.84e-06 1.95e+07  -8.6 1.57e-01    -  8.90e-02 1.00e+00h  1\n",
      " 299  0.0000000e+00 1.84e-06 2.33e-02  -8.6 3.10e-02    -  1.00e+00 1.00e+00h  1\n",
      "iter    objective    inf_pr   inf_du lg(mu)  ||d||  lg(rg) alpha_du alpha_pr  ls\n",
      " 300  0.0000000e+00 1.84e-06 5.63e+04  -8.6 7.01e-02    -  9.95e-01 1.00e+00h  1\n",
      " 301  0.0000000e+00 1.84e-06 2.20e-05  -8.6 5.24e-05    -  1.00e+00 1.00e+00h  1\n",
      " 302  0.0000000e+00 1.84e-06 5.89e-05  -8.6 1.79e-04    -  1.00e+00 1.00e+00h  1\n",
      " 303  0.0000000e+00 1.84e-06 9.78e-07  -8.6 3.80e-07    -  1.00e+00 1.00e+00h  1\n",
      " 304  0.0000000e+00 1.84e-06 4.45e-07  -8.6 9.65e-08    -  1.00e+00 1.00e+00h  1\n",
      " 305  0.0000000e+00 1.84e-06 5.08e-07  -8.6 4.89e-08    -  1.00e+00 1.00e+00   0\n",
      " 306  0.0000000e+00 1.84e-06 6.96e-07  -8.6 5.64e-09    -  1.00e+00 1.00e+00   0\n",
      " 307  0.0000000e+00 1.84e-06 6.96e-07  -8.6 6.18e-09    -  1.00e+00 1.00e+00   0\n",
      " 308  0.0000000e+00 1.84e-06 3.30e-07  -8.6 1.01e-07    -  1.00e+00 1.00e+00h  1\n",
      " 309  0.0000000e+00 1.84e-06 5.42e+06  -8.6 1.72e-07    -  4.98e-01 1.00e+00h  1\n",
      "iter    objective    inf_pr   inf_du lg(mu)  ||d||  lg(rg) alpha_du alpha_pr  ls\n",
      " 310  0.0000000e+00 2.13e-06 1.61e-03  -8.6 1.34e-02    -  1.00e+00 1.00e+00f  1\n",
      " 311  0.0000000e+00 2.13e-06 1.08e+07  -8.6 6.62e-03    -  1.00e+00 2.44e-04h 13\n",
      " 312  0.0000000e+00 1.84e-06 6.92e-04  -8.6 7.04e-03    -  1.00e+00 1.00e+00s 22\n",
      " 313  0.0000000e+00 1.84e-06 2.46e-05  -8.6 8.15e-04    -  8.86e-01 8.86e-01s 22\n",
      " 314r 0.0000000e+00 1.84e-06 1.00e+03  -5.7 0.00e+00    -  0.00e+00 0.00e+00R  1\n",
      " 315r 0.0000000e+00 3.62e-06 1.03e+04  -5.7 3.94e-02    -  2.29e-03 2.39e-02f  1\n"
     ]
    },
    {
     "name": "stdout",
     "output_type": "stream",
     "text": [
      " 316r 0.0000000e+00 3.53e-06 1.21e+04  -5.7 2.22e-02    -  1.11e-04 8.08e-03f  1\n",
      " 317r 0.0000000e+00 3.34e-06 1.21e+04  -5.7 5.93e-02    -  2.38e-03 4.37e-03f  1\n",
      " 318r 0.0000000e+00 2.21e-06 1.20e+04  -5.7 1.51e-01    -  6.21e-04 2.41e-03f  1\n",
      " 319r 0.0000000e+00 4.96e-07 1.20e+04  -5.7 2.08e-01    -  2.58e-03 3.36e-03f  1\n",
      "iter    objective    inf_pr   inf_du lg(mu)  ||d||  lg(rg) alpha_du alpha_pr  ls\n",
      " 320r 0.0000000e+00 4.95e-07 1.20e+04  -5.7 1.17e-02    -  1.57e-02 1.93e-03f  1\n",
      " 321r 0.0000000e+00 4.70e-07 1.18e+04  -5.7 6.46e-02    -  2.27e-04 1.26e-02f  1\n",
      " 322r 0.0000000e+00 4.12e-07 1.18e+04  -5.7 2.41e-02    -  3.22e-03 5.97e-03f  1\n",
      " 323r 0.0000000e+00 1.10e-08 1.17e+04  -5.7 2.38e-01    -  2.15e-03 4.01e-03f  1\n",
      " 324r 0.0000000e+00 9.73e-09 1.17e+04  -5.7 1.33e-02    -  2.85e-01 5.40e-03f  2\n",
      "\n",
      "Number of Iterations....: 324\n",
      "\n",
      "                                   (scaled)                 (unscaled)\n",
      "Objective...............:   0.0000000000000000e+00    0.0000000000000000e+00\n",
      "Dual infeasibility......:   0.0000000000000000e+00    0.0000000000000000e+00\n",
      "Constraint violation....:   9.7348467315148914e-09    9.7348467315148914e-09\n",
      "Complementarity.........:   0.0000000000000000e+00    0.0000000000000000e+00\n",
      "Overall NLP error.......:   9.7348467315148914e-09    9.7348467315148914e-09\n",
      "\n",
      "\n",
      "Number of objective function evaluations             = 2028\n",
      "Number of objective gradient evaluations             = 316\n",
      "Number of equality constraint evaluations            = 2048\n",
      "Number of inequality constraint evaluations          = 0\n",
      "Number of equality constraint Jacobian evaluations   = 326\n",
      "Number of inequality constraint Jacobian evaluations = 0\n",
      "Number of Lagrangian Hessian evaluations             = 324\n",
      "Total CPU secs in IPOPT (w/o function evaluations)   =      0.323\n",
      "Total CPU secs in NLP function evaluations           =      0.032\n",
      "\n",
      "EXIT: Feasible point for square problem found.\n",
      "\b\b\b\b\b\b\b\b\b\b\b\b\b\b"
     ]
    }
   ],
   "source": [
    "results = solver.solve(m, tee=True)"
   ]
  },
  {
   "cell_type": "code",
   "execution_count": 20,
   "metadata": {},
   "outputs": [
    {
     "name": "stdout",
     "output_type": "stream",
     "text": [
      "\n",
      "Problem: \n",
      "- Lower bound: -inf\n",
      "  Upper bound: inf\n",
      "  Number of objectives: 1\n",
      "  Number of constraints: 145\n",
      "  Number of variables: 145\n",
      "  Sense: unknown\n",
      "Solver: \n",
      "- Status: ok\n",
      "  Message: Ipopt 3.13.2\\x3a Found feasible point for square problem.\n",
      "  Termination condition: optimal\n",
      "  Id: 2\n",
      "  Error rc: 0\n",
      "  Time: 0.4812049865722656\n",
      "Solution: \n",
      "- number of solutions: 0\n",
      "  number of solutions displayed: 0\n",
      "\n"
     ]
    }
   ],
   "source": [
    "print(results)"
   ]
  },
  {
   "cell_type": "code",
   "execution_count": 21,
   "metadata": {},
   "outputs": [
    {
     "name": "stdout",
     "output_type": "stream",
     "text": [
      "inlet : Size=1\n",
      "    Key  : Name           : Value\n",
      "    None :       flow_mol : {0.0: 414.95238095293416}\n",
      "         : mole_frac_comp : {(0.0, 'CH4'): 0.0, (0.0, 'CO'): 0.01445949049331082, (0.0, 'CO2'): 0.009639660316759722, (0.0, 'H2'): 0.004819830166632905, (0.0, 'H2O'): 0.09157677301565598, (0.0, 'N2'): 0.7252696809805834, (0.0, 'NH3'): 0.0, (0.0, 'O2'): 0.15423456507617558}\n",
      "         :       pressure : {0.0: 101324.9995}\n",
      "         :    temperature : {0.0: 973.15}\n"
     ]
    }
   ],
   "source": [
    "m.fs.burner.inlet.display()"
   ]
  },
  {
   "cell_type": "code",
   "execution_count": 22,
   "metadata": {},
   "outputs": [
    {
     "name": "stdout",
     "output_type": "stream",
     "text": [
      "outlet : Size=1\n",
      "    Key  : Name           : Value\n",
      "    None :       flow_mol : {0.0: 416.2350027969305}\n",
      "         : mole_frac_comp : {(0.0, 'CH4'): 4.251358500527426e-16, (0.0, 'CO'): 0.0033530164780888297, (0.0, 'CO2'): 0.020671863480689424, (0.0, 'H2'): 0.022029912159103864, (0.0, 'H2O'): 0.07406960129796497, (0.0, 'N2'): 0.7230347649033041, (0.0, 'NH3'): 7.408960167455998e-09, (0.0, 'O2'): 0.15684083427188822}\n",
      "         :       pressure : {0.0: 101324.9995}\n",
      "         :    temperature : {0.0: 3620.4362434597333}\n"
     ]
    }
   ],
   "source": [
    "m.fs.burner.outlet.display()"
   ]
  },
  {
   "cell_type": "code",
   "execution_count": null,
   "metadata": {},
   "outputs": [],
   "source": [
    "m.fs.mix = Mixer(default={\"dynamic\": False,\n",
    "                          \"property_package\": m.fs.thermo_params})"
   ]
  },
  {
   "cell_type": "code",
   "execution_count": null,
   "metadata": {},
   "outputs": [],
   "source": [
    "m.fs.seperator = Separator(default={\"dynamic\": False,\n",
    "                                    \"property_package\": m.fs.thermo_params})"
   ]
  }
 ],
 "metadata": {
  "kernelspec": {
   "display_name": "Python 3",
   "language": "python",
   "name": "python3"
  },
  "language_info": {
   "codemirror_mode": {
    "name": "ipython",
    "version": 3
   },
   "file_extension": ".py",
   "mimetype": "text/x-python",
   "name": "python",
   "nbconvert_exporter": "python",
   "pygments_lexer": "ipython3",
   "version": "3.7.7"
  }
 },
 "nbformat": 4,
 "nbformat_minor": 4
}
