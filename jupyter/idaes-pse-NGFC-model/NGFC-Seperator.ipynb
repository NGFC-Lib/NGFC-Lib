{
 "cells": [
  {
   "cell_type": "code",
   "execution_count": 1,
   "metadata": {},
   "outputs": [],
   "source": [
    "from pyomo.environ import ConcreteModel, Constraint, Objective, SolverFactory, TransformationFactory, Constraint, Var\n",
    "from pyomo.network import Arc"
   ]
  },
  {
   "cell_type": "code",
   "execution_count": 2,
   "metadata": {},
   "outputs": [],
   "source": [
    "from idaes.core import FlowsheetBlock\n",
    "from idaes.unit_models import Mixer, HeatExchanger, Separator, GibbsReactor\n",
    "# Methane combustion ideal package got CH4, H2O, CO, CO2, N2, NH3, O2\n",
    "import idaes.property_models.activity_coeff_models.methane_combustion_ideal as thermo_props\n",
    "#import idaes.property_models.activity_coeff_models.methane_combustion_ideal as reaction_props"
   ]
  },
  {
   "cell_type": "code",
   "execution_count": 3,
   "metadata": {},
   "outputs": [],
   "source": [
    "import matplotlib.pyplot as plt"
   ]
  },
  {
   "cell_type": "code",
   "execution_count": 4,
   "metadata": {},
   "outputs": [],
   "source": [
    "from idaes.unit_models.separator import SplittingType"
   ]
  },
  {
   "cell_type": "markdown",
   "metadata": {},
   "source": [
    "### Building Base Flowsheet."
   ]
  },
  {
   "cell_type": "code",
   "execution_count": 5,
   "metadata": {},
   "outputs": [],
   "source": [
    "m = ConcreteModel()\n",
    "m.fs = FlowsheetBlock(default={\"dynamic\": False})\n",
    "m.fs.thermo_params = thermo_props.MethaneParameterBlock()"
   ]
  },
  {
   "cell_type": "code",
   "execution_count": 6,
   "metadata": {},
   "outputs": [
    {
     "name": "stdout",
     "output_type": "stream",
     "text": [
      "mole of methane feed: 10 mole/s\n",
      "mole of steam feed: 20 mole/s\n",
      "mole of air feed: 380.95238095238096 mole/s\n",
      "Anode exhaust: \n",
      "y_H2ex: 0.04\n",
      "y_COex: 0.11999999999999997\n",
      "y_CO2ex: 0.08000000000000003\n",
      "y_H2Oex: 0.76\n",
      "Total mole/s: 50.0\n",
      "Cathode exhaust: \n",
      "y_O2ex: 0.1753653444676409\n",
      "y_N2ex: 0.824634655532359\n",
      "Total mole/s: 364.95238095238096\n"
     ]
    }
   ],
   "source": [
    "# Fuel ultilization (Uf): mole reductant consumed in FC per mole of reductant total\n",
    "Uf = 0.8\n",
    "# Air ultilization (Ua): mole of air consumed in FC per mole of air feed\n",
    "Ua = 0.2\n",
    "# Methane to steam ratio (MS): mole methane per mole water\n",
    "MS = 2\n",
    "# Feed:\n",
    "# Reaction: \n",
    "# Reforming: CH4 + H2O -> CO + 3H2\n",
    "# Water gas shift: CO + H2O -> CO2 + H2\n",
    "# Methane combustion: CH4 + 2O2 -> CO2 + 2H2O\n",
    "# Hydrogen combustion: H2 + 1/2O2 -> H2O\n",
    "# Carbon monoxide combustion: CO + 1/2O2 -> CO2\n",
    "\n",
    "n_CH4f = 10\n",
    "print(\"mole of methane feed: \"+str(n_CH4f)+\" mole/s\")\n",
    "n_H2Of = n_CH4f*MS\n",
    "print(\"mole of steam feed: \"+str(n_H2Of)+\" mole/s\")\n",
    "n_O2f = n_CH4f*Uf*2/Ua\n",
    "n_N2f = n_O2f*0.79/0.21\n",
    "print(\"mole of air feed: \"+str(n_N2f+n_O2f)+\" mole/s\")\n",
    "\n",
    "n_H2ex = 2\n",
    "n_COex = n_CH4f*(1-Uf)*4-n_H2ex\n",
    "n_CO2ex = n_CH4f-n_COex\n",
    "n_H2Oex = n_H2Of+2*n_CH4f-n_H2ex\n",
    "y_H2ex = n_H2ex/(n_H2ex + n_COex + n_CO2ex + n_H2Oex)\n",
    "y_COex = n_COex/(n_H2ex + n_COex + n_CO2ex + n_H2Oex)\n",
    "y_CO2ex = n_CO2ex/(n_H2ex + n_COex + n_CO2ex + n_H2Oex)\n",
    "y_H2Oex = n_H2Oex/(n_H2ex + n_COex + n_CO2ex + n_H2Oex)\n",
    "\n",
    "print(\"Anode exhaust: \")\n",
    "print(\"y_H2ex: \"+str(y_H2ex))\n",
    "print(\"y_COex: \"+str(y_COex))\n",
    "print(\"y_CO2ex: \"+str(y_CO2ex))\n",
    "print(\"y_H2Oex: \"+str(y_H2Oex))\n",
    "print(\"Total mole/s: \"+str(n_H2ex + n_COex + n_CO2ex + n_H2Oex))\n",
    "\n",
    "n_N2ex = n_N2f\n",
    "n_O2ex = n_O2f - n_CH4f*Uf*2\n",
    "y_O2ex = n_O2ex/(n_O2ex+n_N2ex)\n",
    "y_N2ex = n_N2ex/(n_O2ex+n_N2ex)\n",
    "print(\"Cathode exhaust: \")\n",
    "print(\"y_O2ex: \"+str(y_O2ex))\n",
    "print(\"y_N2ex: \"+str(y_N2ex))\n",
    "print(\"Total mole/s: \"+str(n_O2ex+n_N2ex))"
   ]
  },
  {
   "cell_type": "code",
   "execution_count": null,
   "metadata": {},
   "outputs": [],
   "source": []
  },
  {
   "cell_type": "markdown",
   "metadata": {},
   "source": [
    "### Cathode: A separator that splits exact the right amount of O2 out from the air stream"
   ]
  },
  {
   "cell_type": "code",
   "execution_count": 7,
   "metadata": {},
   "outputs": [],
   "source": [
    "m.fs.sep1 = Separator(default={\"dynamic\": False,\n",
    "                               \"split_basis\": SplittingType.componentFlow,\n",
    "                               \"property_package\": m.fs.thermo_params})"
   ]
  },
  {
   "cell_type": "code",
   "execution_count": 8,
   "metadata": {},
   "outputs": [
    {
     "data": {
      "text/plain": [
       "<idaes.core.process_block._IndexedActivityCoeffStateBlock at 0x112b40190>"
      ]
     },
     "execution_count": 8,
     "metadata": {},
     "output_type": "execute_result"
    }
   ],
   "source": [
    "m.fs.sep1.outlet_2_state"
   ]
  },
  {
   "cell_type": "code",
   "execution_count": 9,
   "metadata": {},
   "outputs": [],
   "source": [
    "from idaes.core.control_volume0d import ControlVolume0DBlock"
   ]
  },
  {
   "cell_type": "code",
   "execution_count": null,
   "metadata": {},
   "outputs": [],
   "source": [
    "m.fs.sep1.inlet.fix()"
   ]
  },
  {
   "cell_type": "code",
   "execution_count": null,
   "metadata": {},
   "outputs": [],
   "source": [
    "m.fs.sep1.inlet.display()"
   ]
  },
  {
   "cell_type": "code",
   "execution_count": null,
   "metadata": {},
   "outputs": [],
   "source": []
  },
  {
   "cell_type": "code",
   "execution_count": null,
   "metadata": {},
   "outputs": [],
   "source": [
    "m.fs.sep1.outlet_1.mole_frac_comp[0.0,\"CH4\"].fix(0.0)\n",
    "m.fs.sep1.outlet_1.mole_frac_comp[0.0,\"CO\"].fix(0.0)\n",
    "m.fs.sep1.outlet_1.mole_frac_comp[0.0,\"CO2\"].fix(0.0)\n",
    "m.fs.sep1.outlet_1.mole_frac_comp[0.0,\"H2\"].fix(0.0)\n",
    "m.fs.sep1.outlet_1.mole_frac_comp[0.0,\"H2O\"].fix(0.0)\n",
    "m.fs.sep1.outlet_1.mole_frac_comp[0.0,\"N2\"].fix(0.0)\n",
    "m.fs.sep1.outlet_1.mole_frac_comp[0.0,\"O2\"].fix(1.0)\n",
    "m.fs.sep1.outlet_1.flow_mol.fix(0.125)"
   ]
  },
  {
   "cell_type": "code",
   "execution_count": null,
   "metadata": {},
   "outputs": [],
   "source": [
    "m.fs.sep1.inlet.display()"
   ]
  },
  {
   "cell_type": "code",
   "execution_count": null,
   "metadata": {},
   "outputs": [],
   "source": []
  },
  {
   "cell_type": "code",
   "execution_count": null,
   "metadata": {},
   "outputs": [],
   "source": [
    "from idaes.core.util.model_statistics import degrees_of_freedom as dof\n",
    "dof(m)"
   ]
  },
  {
   "cell_type": "code",
   "execution_count": null,
   "metadata": {},
   "outputs": [],
   "source": []
  },
  {
   "cell_type": "code",
   "execution_count": null,
   "metadata": {},
   "outputs": [],
   "source": [
    "m.fs.sep1.initialize()"
   ]
  },
  {
   "cell_type": "code",
   "execution_count": null,
   "metadata": {},
   "outputs": [],
   "source": [
    "solver = SolverFactory('ipopt')"
   ]
  },
  {
   "cell_type": "code",
   "execution_count": null,
   "metadata": {},
   "outputs": [],
   "source": [
    "results = solver.solve(m, tee=True)"
   ]
  },
  {
   "cell_type": "code",
   "execution_count": null,
   "metadata": {},
   "outputs": [],
   "source": [
    "m.fs.sep1.outlet_1.display()"
   ]
  },
  {
   "cell_type": "code",
   "execution_count": null,
   "metadata": {},
   "outputs": [],
   "source": [
    "m.fs.sep1.outlet_2.display()"
   ]
  },
  {
   "cell_type": "code",
   "execution_count": null,
   "metadata": {},
   "outputs": [],
   "source": []
  },
  {
   "cell_type": "code",
   "execution_count": null,
   "metadata": {},
   "outputs": [],
   "source": []
  },
  {
   "cell_type": "code",
   "execution_count": null,
   "metadata": {},
   "outputs": [],
   "source": [
    "m.fs.HX2 = HeatExchanger(default={\"dynamic\": False,\n",
    "                                  \"shell\":{\"property_package\": m.fs.thermo_params},\n",
    "                                  \"tube\":{\"property_package\": m.fs.thermo_params}})"
   ]
  },
  {
   "cell_type": "code",
   "execution_count": null,
   "metadata": {},
   "outputs": [],
   "source": [
    "# COLD SIDE = TUBE : Air @ 25 C come in\n",
    "m.fs.HX2.tube_inlet.flow_mol.fix(n_N2f+n_O2f)\n",
    "m.fs.HX2.tube_inlet.mole_frac_comp[0.0,:].fix(0.0)\n",
    "m.fs.HX2.tube_inlet.mole_frac_comp[0.0,\"O2\"].fix(0.21)\n",
    "m.fs.HX2.tube_inlet.mole_frac_comp[0.0,\"N2\"].fix(0.79)\n",
    "m.fs.HX2.tube_inlet.temperature.fix(25+273.15)\n",
    "m.fs.HX2.tube_inlet.pressure.fix(101325)"
   ]
  },
  {
   "cell_type": "code",
   "execution_count": null,
   "metadata": {},
   "outputs": [],
   "source": [
    "m.fs.HX2.tube_outlet.temperature.fix(700+273.15)"
   ]
  },
  {
   "cell_type": "code",
   "execution_count": null,
   "metadata": {},
   "outputs": [],
   "source": [
    "m.fs.HX2.tube_inlet.display()"
   ]
  },
  {
   "cell_type": "code",
   "execution_count": null,
   "metadata": {},
   "outputs": [],
   "source": [
    "m.fs.HX2.tube_outlet.display()"
   ]
  },
  {
   "cell_type": "code",
   "execution_count": null,
   "metadata": {},
   "outputs": [],
   "source": [
    "# HOT SIDE = SHELL : Exhaust @ whatever temperature come in\n"
   ]
  },
  {
   "cell_type": "code",
   "execution_count": null,
   "metadata": {},
   "outputs": [],
   "source": []
  },
  {
   "cell_type": "code",
   "execution_count": null,
   "metadata": {},
   "outputs": [],
   "source": []
  },
  {
   "cell_type": "code",
   "execution_count": null,
   "metadata": {},
   "outputs": [],
   "source": []
  },
  {
   "cell_type": "code",
   "execution_count": null,
   "metadata": {},
   "outputs": [],
   "source": [
    "from idaes.core.util.model_statistics import degrees_of_freedom as dof\n",
    "dof(m.fs.HX2)"
   ]
  },
  {
   "cell_type": "code",
   "execution_count": null,
   "metadata": {},
   "outputs": [],
   "source": []
  }
 ],
 "metadata": {
  "kernelspec": {
   "display_name": "Python 3",
   "language": "python",
   "name": "python3"
  },
  "language_info": {
   "codemirror_mode": {
    "name": "ipython",
    "version": 3
   },
   "file_extension": ".py",
   "mimetype": "text/x-python",
   "name": "python",
   "nbconvert_exporter": "python",
   "pygments_lexer": "ipython3",
   "version": "3.7.7"
  }
 },
 "nbformat": 4,
 "nbformat_minor": 4
}
