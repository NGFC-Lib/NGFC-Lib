{
 "cells": [
  {
   "cell_type": "code",
   "execution_count": 5,
   "metadata": {
    "collapsed": true
   },
   "outputs": [],
   "source": [
    "import math\n",
    "import numpy as np\n",
    "import matplotlib.pyplot as plt\n",
    "import matplotlib\n",
    "%matplotlib inline\n",
    "from scipy.optimize import minimize\n",
    "from sklearn.metrics import mean_squared_error"
   ]
  },
  {
   "cell_type": "code",
   "execution_count": 6,
   "metadata": {
    "collapsed": true
   },
   "outputs": [],
   "source": [
    "import IV_model"
   ]
  },
  {
   "cell_type": "code",
   "execution_count": 13,
   "metadata": {
    "collapsed": true
   },
   "outputs": [],
   "source": [
    "def objective_function_JM(param_guess, param_fixed):  \n",
    "    \n",
    "    [pO2air,pN2air,pH2,pH2O,pCO,pCO2,pCH4,pN2,pSys] = param_fixed\n",
    "\n",
    "    #filename = './ExperimentalData/JM2017/AllData_JM.csv'\n",
    "    data = np.loadtxt(open(filename, \"rb\"), delimiter=\",\", skiprows=1)\n",
    "    x = data[:,0]\n",
    "    y_exp = data[:,1]\n",
    "    Toper = data[:, 2]\n",
    "\n",
    "    y_model = np.zeros(len(y_exp))\n",
    "    for j in range(len(y_exp)):\n",
    "        y_model[j], Voc, Ohmic, BV, Cath, Anode = IVmodel(Toper[j]+273.15,Toper[j]+273.15,x[j],\n",
    "                                                           pO2air,pN2air,pH2,pH2O,pCO,pCO2,pCH4,pN2,pSys,\n",
    "                                                           param_guess[0], param_guess[1], param_guess[2],\n",
    "                                                           param_guess[3], param_guess[4], 0.1, 4.51e-5,\n",
    "                                                             True,param_guess[5],param_guess[6])\n",
    "    #rmse = mean_squared_error(y_exp, y_model, squared=False)\n",
    "    rmse = mean_squared_error(y_exp, y_model)\n",
    "    return rmse"
   ]
  },
  {
   "cell_type": "code",
   "execution_count": 8,
   "metadata": {
    "collapsed": true
   },
   "outputs": [],
   "source": [
    "#environment parameter\n",
    "\n",
    "\n",
    "oT =700+273.15      #Temperature oxidant (K)\n",
    "fT =700+273.15      #Temperature fuel (K)\n",
    "\n",
    "pO2air=0.3          #Air side partial pressure O2 (atm)\n",
    "pN2air =0.7         #Air side partial pressure N2 (atm)\n",
    "# pH2 = 0.4375        #Fuel side partial pressure H2 (atm)\n",
    "# pH2O =0.3125        #Fuel side partial pressure H2O (atm)\n",
    "# pCO=0.0625          #Fuel side partial pressure CO (atm)\n",
    "# pCO2=0.0625         #Fuel side partial pressure CO2 (atm)\n",
    "# pCH4=0.125          #Fuel side partial pressure CH4 (atm)\n",
    "# pN2=0.0             #Fuel side partial pressure N2 (atm)\n",
    "pH2 = 0.97        #Fuel side partial pressure H2 (atm)\n",
    "pH2O =0.03        #Fuel side partial pressure H2O (atm)\n",
    "pCO=0.0         #Fuel side partial pressure CO (atm)\n",
    "pCO2=0.0         #Fuel side partial pressure CO2 (atm)\n",
    "pCH4=0.0          #Fuel side partial pressure CH4 (atm)\n",
    "pN2=0.0             #Fuel side partial pressure N2 (atm)\n",
    "pSys=1.0            #System pressure (atm)  \n",
    "\n",
    "# adjustable parameters for B-V loss (starting with these for optimization)\n",
    "\n",
    "J=0.1"
   ]
  },
  {
   "cell_type": "code",
   "execution_count": 11,
   "metadata": {
    "collapsed": true
   },
   "outputs": [],
   "source": [
    "#for IV_new_2\n",
    "BV_alpha1 = 0.43236 #0.43236/3 **\n",
    "BV_prexp1 = 5639 #**\n",
    "BV_Eact1 = 79.616 #**\n",
    "filenameJM = './ExperimentalData/JM2017/AllData_JM.csv'\n",
    "IVmodel = 'IV_model.IV_new_2'"
   ]
  },
  {
   "cell_type": "code",
   "execution_count": 12,
   "metadata": {},
   "outputs": [
    {
     "ename": "TypeError",
     "evalue": "'str' object is not callable",
     "output_type": "error",
     "traceback": [
      "\u001b[0;31m---------------------------------------------------------------------------\u001b[0m",
      "\u001b[0;31mTypeError\u001b[0m                                 Traceback (most recent call last)",
      "\u001b[0;32m<ipython-input-12-86feffa4f727>\u001b[0m in \u001b[0;36m<module>\u001b[0;34m()\u001b[0m\n\u001b[1;32m     12\u001b[0m \u001b[0;34m\u001b[0m\u001b[0m\n\u001b[1;32m     13\u001b[0m \u001b[0;31m#objective_function_JM(param_guess, param_fixed, filename, IVmodel)\u001b[0m\u001b[0;34m\u001b[0m\u001b[0;34m\u001b[0m\u001b[0m\n\u001b[0;32m---> 14\u001b[0;31m \u001b[0mobj_guess\u001b[0m \u001b[0;34m=\u001b[0m \u001b[0mobjective_function_JM\u001b[0m\u001b[0;34m(\u001b[0m\u001b[0mparam_guess\u001b[0m\u001b[0;34m,\u001b[0m \u001b[0mparam_fixed\u001b[0m\u001b[0;34m,\u001b[0m \u001b[0mfilenameJM\u001b[0m\u001b[0;34m,\u001b[0m \u001b[0mIVmodel\u001b[0m\u001b[0;34m)\u001b[0m\u001b[0;34m\u001b[0m\u001b[0m\n\u001b[0m\u001b[1;32m     15\u001b[0m \u001b[0mbnds\u001b[0m \u001b[0;34m=\u001b[0m \u001b[0;34m(\u001b[0m\u001b[0;34m(\u001b[0m\u001b[0;36m0.3\u001b[0m\u001b[0;34m,\u001b[0m \u001b[0;36m0.7\u001b[0m\u001b[0;34m)\u001b[0m\u001b[0;34m,\u001b[0m \u001b[0;34m(\u001b[0m\u001b[0;36m0\u001b[0m\u001b[0;34m,\u001b[0m \u001b[0;32mNone\u001b[0m\u001b[0;34m)\u001b[0m\u001b[0;34m,\u001b[0m \u001b[0;34m(\u001b[0m\u001b[0;36m0\u001b[0m\u001b[0;34m,\u001b[0m \u001b[0;32mNone\u001b[0m\u001b[0;34m)\u001b[0m\u001b[0;34m,\u001b[0m \u001b[0;34m(\u001b[0m\u001b[0;32mNone\u001b[0m\u001b[0;34m,\u001b[0m \u001b[0;36m0\u001b[0m\u001b[0;34m)\u001b[0m\u001b[0;34m,\u001b[0m \u001b[0;34m(\u001b[0m\u001b[0;36m0\u001b[0m\u001b[0;34m,\u001b[0m \u001b[0;32mNone\u001b[0m\u001b[0;34m)\u001b[0m\u001b[0;34m,\u001b[0m \u001b[0;34m(\u001b[0m\u001b[0;36m0.2\u001b[0m\u001b[0;34m,\u001b[0m \u001b[0;36m2.0\u001b[0m\u001b[0;34m)\u001b[0m\u001b[0;34m,\u001b[0m \u001b[0;34m(\u001b[0m\u001b[0;36m0.2\u001b[0m\u001b[0;34m,\u001b[0m \u001b[0;36m2.0\u001b[0m\u001b[0;34m)\u001b[0m\u001b[0;34m)\u001b[0m\u001b[0;34m\u001b[0m\u001b[0m\n\u001b[1;32m     16\u001b[0m \u001b[0mresult\u001b[0m \u001b[0;34m=\u001b[0m \u001b[0mminimize\u001b[0m\u001b[0;34m(\u001b[0m\u001b[0mobjective_function_JM\u001b[0m\u001b[0;34m,\u001b[0m \u001b[0mparam_guess\u001b[0m\u001b[0;34m,\u001b[0m \u001b[0margs\u001b[0m \u001b[0;34m=\u001b[0m \u001b[0;34m(\u001b[0m\u001b[0mparam_fixed\u001b[0m\u001b[0;34m)\u001b[0m\u001b[0;34m,\u001b[0m \u001b[0mmethod\u001b[0m \u001b[0;34m=\u001b[0m \u001b[0;34m'SLSQP'\u001b[0m\u001b[0;34m,\u001b[0m \u001b[0mbounds\u001b[0m \u001b[0;34m=\u001b[0m \u001b[0mbnds\u001b[0m\u001b[0;34m)\u001b[0m\u001b[0;34m\u001b[0m\u001b[0m\n",
      "\u001b[0;32m<ipython-input-7-61d596fbe6c2>\u001b[0m in \u001b[0;36mobjective_function_JM\u001b[0;34m(param_guess, param_fixed, filename, IVmodel)\u001b[0m\n\u001b[1;32m     15\u001b[0m                                                            \u001b[0mparam_guess\u001b[0m\u001b[0;34m[\u001b[0m\u001b[0;36m0\u001b[0m\u001b[0;34m]\u001b[0m\u001b[0;34m,\u001b[0m \u001b[0mparam_guess\u001b[0m\u001b[0;34m[\u001b[0m\u001b[0;36m1\u001b[0m\u001b[0;34m]\u001b[0m\u001b[0;34m,\u001b[0m \u001b[0mparam_guess\u001b[0m\u001b[0;34m[\u001b[0m\u001b[0;36m2\u001b[0m\u001b[0;34m]\u001b[0m\u001b[0;34m,\u001b[0m\u001b[0;34m\u001b[0m\u001b[0m\n\u001b[1;32m     16\u001b[0m                                                            \u001b[0mparam_guess\u001b[0m\u001b[0;34m[\u001b[0m\u001b[0;36m3\u001b[0m\u001b[0;34m]\u001b[0m\u001b[0;34m,\u001b[0m \u001b[0mparam_guess\u001b[0m\u001b[0;34m[\u001b[0m\u001b[0;36m4\u001b[0m\u001b[0;34m]\u001b[0m\u001b[0;34m,\u001b[0m \u001b[0;36m0.1\u001b[0m\u001b[0;34m,\u001b[0m \u001b[0;36m4.51e-5\u001b[0m\u001b[0;34m,\u001b[0m\u001b[0;34m\u001b[0m\u001b[0m\n\u001b[0;32m---> 17\u001b[0;31m                                                              True,param_guess[5],param_guess[6])\n\u001b[0m\u001b[1;32m     18\u001b[0m     \u001b[0;31m#rmse = mean_squared_error(y_exp, y_model, squared=False)\u001b[0m\u001b[0;34m\u001b[0m\u001b[0;34m\u001b[0m\u001b[0m\n\u001b[1;32m     19\u001b[0m     \u001b[0mrmse\u001b[0m \u001b[0;34m=\u001b[0m \u001b[0mmean_squared_error\u001b[0m\u001b[0;34m(\u001b[0m\u001b[0my_exp\u001b[0m\u001b[0;34m,\u001b[0m \u001b[0my_model\u001b[0m\u001b[0;34m)\u001b[0m\u001b[0;34m\u001b[0m\u001b[0m\n",
      "\u001b[0;31mTypeError\u001b[0m: 'str' object is not callable"
     ]
    }
   ],
   "source": [
    "# comparison between JHM-2017 experimental data and   \n",
    "#initilize and optimize\n",
    "param_guess = (BV_alpha1, BV_prexp1, BV_Eact1, 0.0, 0.0, 0.28, 0.28)\n",
    "\n",
    "# BV_alpha, BV_prexp, BV_Eact,V_loss=0.0, R_cont=0.0, \n",
    "# DsurfH2th1=0.1, DsurfH2th2=4.51e-5,\n",
    "# Fkn=True, d0_am=0.28,d0_cm=0.28, th_e=10\n",
    "\n",
    "Tlist = [650, 700, 750, 800, 850]\n",
    "th_e = 10\n",
    "param_fixed = [pO2air,pN2air,pH2,pH2O,pCO,pCO2,pCH4,pN2,pSys]\n",
    "\n",
    "#objective_function_JM(param_guess, param_fixed, filename, IVmodel)\n",
    "#obj_guess = objective_function_JM(param_guess, param_fixed, filenameJM, IVmodel)\n",
    "bnds = ((0.3, 0.7), (0, None), (0, None), (None, 0), (0, None), (0.2, 2.0), (0.2, 2.0))\n",
    "result = minimize(objective_function_JM, param_guess, args = (param_fixed), method = 'SLSQP', bounds = bnds)\n",
    "print(result)\n",
    "\n",
    "# plot and comparison\n",
    "markerlist = ['o', 'v', 'd', '^', '+']\n",
    "colorlist = ['r', 'g', 'b', 'c', 'm']\n",
    "plt.figure(figsize=(17.5,6))\n",
    "\n",
    "for i in range(len(Tlist)):\n",
    "    oT = Tlist[i]+273.15\n",
    "    fT = oT\n",
    "    \n",
    "    # plot exp data\n",
    "    filename = './ExperimentalData/JM2017/'+str(Tlist[i])+'.csv'\n",
    "    data = np.loadtxt(open(filename, \"rb\"), delimiter=\",\", skiprows=1)\n",
    "    plt.plot(data[:,0], data[:,1], colorlist[i]+markerlist[i], label = 'EXP '+str(Tlist[i]))\n",
    "    \n",
    "    # initialize Jlist and Vlist\n",
    "    Jlist=np.linspace(np.amin(data[:,0]), np.amax(data[:,0]), num=20)   #Current density, unit [A/cm2]\n",
    "    Vlist = np.zeros(20)\n",
    "    \n",
    "    # plot pred data\n",
    "    for j in range(20):\n",
    "        Vlist[j], Voc, Ohmic, BV, Cath, Anode = IV_model.IV_new_2(oT,fT,Jlist[j],pO2air,pN2air,pH2,pH2O,pCO,pCO2,pCH4,pN2,pSys,\n",
    "                                                       result.x[0],result.x[1],result.x[2],\n",
    "                                                       result.x[3], result.x[4], 0.1, 4.51e-5,\n",
    "                                                       True,result.x[5],result.x[6])\n",
    "    plt.plot(Jlist, Vlist, colorlist[i]+'-', label = 'IV Pred '+str(Tlist[i]))\n",
    "\n",
    "plt.xticks(fontsize=15)\n",
    "plt.yticks(fontsize=15)\n",
    "plt.legend(loc='upper right', fontsize=15)\n",
    "plt.xlim(-0.1, 1.1)\n",
    "plt.ylim(0.4, 1.1)\n",
    "# ymin, ymax = plt.ylim()\n",
    "# plt.ylim(ymin-(ymax-ymin)*0.0, ymax+(ymax-ymin)*0.0)\n",
    "plt.xlabel('Current Density, J [A/cm2]', fontsize = 15)\n",
    "plt.ylabel('Voltage, V [V]', fontsize = 15)\n",
    "plt.title('EXP. VS. IV_new', fontsize = 15)"
   ]
  },
  {
   "cell_type": "code",
   "execution_count": null,
   "metadata": {
    "collapsed": true
   },
   "outputs": [],
   "source": []
  }
 ],
 "metadata": {
  "kernelspec": {
   "display_name": "Python 3",
   "language": "python",
   "name": "python3"
  },
  "language_info": {
   "codemirror_mode": {
    "name": "ipython",
    "version": 3
   },
   "file_extension": ".py",
   "mimetype": "text/x-python",
   "name": "python",
   "nbconvert_exporter": "python",
   "pygments_lexer": "ipython3",
   "version": "3.6.3"
  }
 },
 "nbformat": 4,
 "nbformat_minor": 4
}
