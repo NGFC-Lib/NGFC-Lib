{
 "cells": [
  {
   "cell_type": "code",
   "execution_count": 1,
   "metadata": {},
   "outputs": [
    {
     "ename": "ModuleNotFoundError",
     "evalue": "No module named 'matplotlib'",
     "output_type": "error",
     "traceback": [
      "\u001b[0;31m---------------------------------------------------------------------------\u001b[0m",
      "\u001b[0;31mModuleNotFoundError\u001b[0m                       Traceback (most recent call last)",
      "\u001b[0;32m/var/folders/sc/r5rkrwys5kb9b83zmdp31qxc0000gn/T/ipykernel_79614/3642443581.py\u001b[0m in \u001b[0;36m<module>\u001b[0;34m\u001b[0m\n\u001b[1;32m      1\u001b[0m \u001b[0;32mimport\u001b[0m \u001b[0mmath\u001b[0m\u001b[0;34m\u001b[0m\u001b[0;34m\u001b[0m\u001b[0m\n\u001b[1;32m      2\u001b[0m \u001b[0;32mimport\u001b[0m \u001b[0mnumpy\u001b[0m \u001b[0;32mas\u001b[0m \u001b[0mnp\u001b[0m\u001b[0;34m\u001b[0m\u001b[0;34m\u001b[0m\u001b[0m\n\u001b[0;32m----> 3\u001b[0;31m \u001b[0;32mimport\u001b[0m \u001b[0mmatplotlib\u001b[0m\u001b[0;34m.\u001b[0m\u001b[0mpyplot\u001b[0m \u001b[0;32mas\u001b[0m \u001b[0mplt\u001b[0m\u001b[0;34m\u001b[0m\u001b[0;34m\u001b[0m\u001b[0m\n\u001b[0m\u001b[1;32m      4\u001b[0m \u001b[0;32mimport\u001b[0m \u001b[0mmatplotlib\u001b[0m\u001b[0;34m\u001b[0m\u001b[0;34m\u001b[0m\u001b[0m\n\u001b[1;32m      5\u001b[0m \u001b[0mget_ipython\u001b[0m\u001b[0;34m(\u001b[0m\u001b[0;34m)\u001b[0m\u001b[0;34m.\u001b[0m\u001b[0mrun_line_magic\u001b[0m\u001b[0;34m(\u001b[0m\u001b[0;34m'matplotlib'\u001b[0m\u001b[0;34m,\u001b[0m \u001b[0;34m'inline'\u001b[0m\u001b[0;34m)\u001b[0m\u001b[0;34m\u001b[0m\u001b[0;34m\u001b[0m\u001b[0m\n",
      "\u001b[0;31mModuleNotFoundError\u001b[0m: No module named 'matplotlib'"
     ]
    }
   ],
   "source": [
    "import math\n",
    "import numpy as np\n",
    "import matplotlib.pyplot as plt\n",
    "import matplotlib\n",
    "%matplotlib inline\n",
    "from scipy.optimize import minimize\n",
    "from sklearn.metrics import mean_squared_error"
   ]
  },
  {
   "cell_type": "code",
   "execution_count": 4,
   "metadata": {},
   "outputs": [],
   "source": [
    "#environment parameter\n",
    "\n",
    "\n",
    "oT =700+273.15      #Temperature oxidant (K)\n",
    "fT =700+273.15      #Temperature fuel (K)\n",
    "\n",
    "pO2air=0.3          #Air side partial pressure O2 (atm)\n",
    "pN2air =0.7         #Air side partial pressure N2 (atm)\n",
    "# pH2 = 0.4375        #Fuel side partial pressure H2 (atm)\n",
    "# pH2O =0.3125        #Fuel side partial pressure H2O (atm)\n",
    "# pCO=0.0625          #Fuel side partial pressure CO (atm)\n",
    "# pCO2=0.0625         #Fuel side partial pressure CO2 (atm)\n",
    "# pCH4=0.125          #Fuel side partial pressure CH4 (atm)\n",
    "# pN2=0.0             #Fuel side partial pressure N2 (atm)\n",
    "pH2 = 0.97        #Fuel side partial pressure H2 (atm)\n",
    "pH2O =0.03        #Fuel side partial pressure H2O (atm)\n",
    "pCO=0.0         #Fuel side partial pressure CO (atm)\n",
    "pCO2=0.0         #Fuel side partial pressure CO2 (atm)\n",
    "pCH4=0.0          #Fuel side partial pressure CH4 (atm)\n",
    "pN2=0.0             #Fuel side partial pressure N2 (atm)\n",
    "pSys=1.0            #System pressure (atm)  \n",
    "\n",
    "# adjustable parameters for B-V loss (starting with these for optimization)\n",
    "\n",
    "#J=0.1"
   ]
  },
  {
   "cell_type": "markdown",
   "metadata": {},
   "source": [
    "IV_Model_2 Natural log function: Original PNNL function"
   ]
  },
  {
   "cell_type": "code",
   "execution_count": 3,
   "metadata": {},
   "outputs": [],
   "source": [
    "import IV_model"
   ]
  },
  {
   "cell_type": "code",
   "execution_count": 2,
   "metadata": {},
   "outputs": [],
   "source": [
    "def objective_function_JM(param_guess, param_fixed):  \n",
    "    \n",
    "    [pO2air,pN2air,pH2,pH2O,pCO,pCO2,pCH4,pN2,pSys] = param_fixed\n",
    "\n",
    "    filename = './ExperimentalData/JM2017/AllData_JM.csv'\n",
    "    data = np.loadtxt(open(filename, \"rb\"), delimiter=\",\", skiprows=1)\n",
    "    x = data[:,0]\n",
    "    y_exp = data[:,1]\n",
    "    Toper = data[:, 2]\n",
    "\n",
    "    y_model = np.zeros(len(y_exp))\n",
    "    for j in range(len(y_exp)):\n",
    "        y_model[j], Voc, Ohmic, BV, Cath, Anode = IV_model.IV_new_2(Toper[j]+273.15,Toper[j]+273.15,x[j],\n",
    "                                                           pO2air,pN2air,pH2,pH2O,pCO,pCO2,pCH4,pN2,pSys,\n",
    "                                                           param_guess[0], param_guess[1], param_guess[2],\n",
    "                                                           param_guess[3], param_guess[4], 0.1, 4.51e-5,\n",
    "                                                             True,param_guess[5],param_guess[6])\n",
    "    #rmse = mean_squared_error(y_exp, y_model, squared=False)\n",
    "    rmse = mean_squared_error(y_exp, y_model)\n",
    "    return rmse"
   ]
  },
  {
   "cell_type": "code",
   "execution_count": 5,
   "metadata": {},
   "outputs": [],
   "source": [
    "#for IV_new_2\n",
    "BV_alpha1 = 0.46 #0.43236/3 **\n",
    "BV_prexp1 = 5639 #**\n",
    "BV_Eact1 = 79616 #**\n",
    "#filenameJM = './ExperimentalData/JM2017/AllData_JM.csv'\n",
    "#IVmodel = 'IV_model.IV_new_2'"
   ]
  },
  {
   "cell_type": "code",
   "execution_count": 6,
   "metadata": {},
   "outputs": [
    {
     "ename": "NameError",
     "evalue": "name 'minimize' is not defined",
     "output_type": "error",
     "traceback": [
      "\u001b[0;31m---------------------------------------------------------------------------\u001b[0m",
      "\u001b[0;31mNameError\u001b[0m                                 Traceback (most recent call last)",
      "\u001b[0;32m/var/folders/sc/r5rkrwys5kb9b83zmdp31qxc0000gn/T/ipykernel_79614/2194198287.py\u001b[0m in \u001b[0;36m<module>\u001b[0;34m\u001b[0m\n\u001b[1;32m     14\u001b[0m \u001b[0;31m#obj_guess = objective_function_JM(param_guess, param_fixed, filenameJM, IVmodel)\u001b[0m\u001b[0;34m\u001b[0m\u001b[0;34m\u001b[0m\u001b[0;34m\u001b[0m\u001b[0m\n\u001b[1;32m     15\u001b[0m \u001b[0mbnds\u001b[0m \u001b[0;34m=\u001b[0m \u001b[0;34m(\u001b[0m\u001b[0;34m(\u001b[0m\u001b[0;36m0.3\u001b[0m\u001b[0;34m,\u001b[0m \u001b[0;36m0.7\u001b[0m\u001b[0;34m)\u001b[0m\u001b[0;34m,\u001b[0m \u001b[0;34m(\u001b[0m\u001b[0;36m0\u001b[0m\u001b[0;34m,\u001b[0m \u001b[0;32mNone\u001b[0m\u001b[0;34m)\u001b[0m\u001b[0;34m,\u001b[0m \u001b[0;34m(\u001b[0m\u001b[0;36m0\u001b[0m\u001b[0;34m,\u001b[0m \u001b[0;32mNone\u001b[0m\u001b[0;34m)\u001b[0m\u001b[0;34m,\u001b[0m \u001b[0;34m(\u001b[0m\u001b[0;32mNone\u001b[0m\u001b[0;34m,\u001b[0m \u001b[0;36m0\u001b[0m\u001b[0;34m)\u001b[0m\u001b[0;34m,\u001b[0m \u001b[0;34m(\u001b[0m\u001b[0;36m0\u001b[0m\u001b[0;34m,\u001b[0m \u001b[0;32mNone\u001b[0m\u001b[0;34m)\u001b[0m\u001b[0;34m,\u001b[0m \u001b[0;34m(\u001b[0m\u001b[0;36m0.2\u001b[0m\u001b[0;34m,\u001b[0m \u001b[0;36m2.0\u001b[0m\u001b[0;34m)\u001b[0m\u001b[0;34m,\u001b[0m \u001b[0;34m(\u001b[0m\u001b[0;36m0.2\u001b[0m\u001b[0;34m,\u001b[0m \u001b[0;36m2.0\u001b[0m\u001b[0;34m)\u001b[0m\u001b[0;34m)\u001b[0m\u001b[0;34m\u001b[0m\u001b[0;34m\u001b[0m\u001b[0m\n\u001b[0;32m---> 16\u001b[0;31m \u001b[0mresult\u001b[0m \u001b[0;34m=\u001b[0m \u001b[0mminimize\u001b[0m\u001b[0;34m(\u001b[0m\u001b[0mobjective_function_JM\u001b[0m\u001b[0;34m,\u001b[0m \u001b[0mparam_guess\u001b[0m\u001b[0;34m,\u001b[0m \u001b[0margs\u001b[0m \u001b[0;34m=\u001b[0m \u001b[0;34m(\u001b[0m\u001b[0mparam_fixed\u001b[0m\u001b[0;34m)\u001b[0m\u001b[0;34m,\u001b[0m \u001b[0mmethod\u001b[0m \u001b[0;34m=\u001b[0m \u001b[0;34m'SLSQP'\u001b[0m\u001b[0;34m,\u001b[0m \u001b[0mbounds\u001b[0m \u001b[0;34m=\u001b[0m \u001b[0mbnds\u001b[0m\u001b[0;34m)\u001b[0m\u001b[0;34m\u001b[0m\u001b[0;34m\u001b[0m\u001b[0m\n\u001b[0m\u001b[1;32m     17\u001b[0m \u001b[0mprint\u001b[0m\u001b[0;34m(\u001b[0m\u001b[0mresult\u001b[0m\u001b[0;34m)\u001b[0m\u001b[0;34m\u001b[0m\u001b[0;34m\u001b[0m\u001b[0m\n\u001b[1;32m     18\u001b[0m \u001b[0;34m\u001b[0m\u001b[0m\n",
      "\u001b[0;31mNameError\u001b[0m: name 'minimize' is not defined"
     ]
    }
   ],
   "source": [
    "# comparison between JHM-2017 experimental data and   \n",
    "#initilize and optimize\n",
    "param_guess = [BV_alpha1, BV_prexp1, BV_Eact1, 0.0, 0.0, 0.28, 0.28]\n",
    "\n",
    "# BV_alpha, BV_prexp, BV_Eact,V_loss=0.0, R_cont=0.0, \n",
    "# DsurfH2th1=0.1, DsurfH2th2=4.51e-5,\n",
    "# Fkn=True, d0_am=0.28,d0_cm=0.28, th_e=10\n",
    "\n",
    "Tlist = [650, 700, 750, 800, 850]\n",
    "th_e = 10\n",
    "param_fixed = [pO2air,pN2air,pH2,pH2O,pCO,pCO2,pCH4,pN2,pSys]\n",
    "\n",
    "#objective_function_JM(param_guess, param_fixed, filename, IVmodel)\n",
    "#obj_guess = objective_function_JM(param_guess, param_fixed, filenameJM, IVmodel)\n",
    "bnds = ((0.3, 0.7), (0, None), (0, None), (None, 0), (0, None), (0.2, 2.0), (0.2, 2.0))\n",
    "result = minimize(objective_function_JM, param_guess, args = (param_fixed), method = 'SLSQP', bounds = bnds)\n",
    "print(result)\n",
    "\n",
    "# plot and comparison\n",
    "markerlist = ['o', 'v', 'd', '^', '+']\n",
    "colorlist = ['r', 'g', 'b', 'c', 'm']\n",
    "plt.figure(figsize=(17.5,6))\n",
    "\n",
    "for i in range(len(Tlist)):\n",
    "    oT = Tlist[i]+273.15\n",
    "    fT = oT\n",
    "    \n",
    "    # plot exp data\n",
    "    filename = './ExperimentalData/JM2017/'+str(Tlist[i])+'.csv'\n",
    "    data = np.loadtxt(open(filename, \"rb\"), delimiter=\",\", skiprows=1)\n",
    "    plt.plot(data[:,0], data[:,1], colorlist[i]+markerlist[i], label = 'EXP '+str(Tlist[i]))\n",
    "    \n",
    "    # initialize Jlist and Vlist\n",
    "    Jlist=np.linspace(np.amin(data[:,0]), np.amax(data[:,0]), num=20)   #Current density, unit [A/cm2]\n",
    "    Vlist = np.zeros(20)\n",
    "    \n",
    "    # plot pred data\n",
    "    for j in range(20):\n",
    "        Vlist[j], Voc, Ohmic, BV, Cath, Anode = IV_model.IV_new_2(oT,fT,Jlist[j],pO2air,pN2air,pH2,pH2O,pCO,pCO2,pCH4,pN2,pSys,\n",
    "                                                       result.x[0],result.x[1],result.x[2],\n",
    "                                                       result.x[3], result.x[4], 0.1, 4.51e-5,\n",
    "                                                       True,result.x[5],result.x[6])\n",
    "    plt.plot(Jlist, Vlist, colorlist[i]+'-', label = 'IV Pred '+str(Tlist[i]))\n",
    "\n",
    "plt.xticks(fontsize=15)\n",
    "plt.yticks(fontsize=15)\n",
    "plt.legend(loc='upper right', fontsize=15)\n",
    "plt.xlim(-0.1, 1.1)\n",
    "plt.ylim(0.4, 1.1)\n",
    "# ymin, ymax = plt.ylim()\n",
    "# plt.ylim(ymin-(ymax-ymin)*0.0, ymax+(ymax-ymin)*0.0)\n",
    "plt.xlabel('Current Density, J [A/cm2]', fontsize = 15)\n",
    "plt.ylabel('Voltage, V [V]', fontsize = 15)\n",
    "plt.title('EXP. VS. IV_new', fontsize = 15)"
   ]
  },
  {
   "cell_type": "code",
   "execution_count": 8,
   "metadata": {},
   "outputs": [
    {
     "name": "stderr",
     "output_type": "stream",
     "text": [
      "/Users/mkim91/Desktop/NGFC-Lib/jupyter/Python_IV_Curve/2_IV_Model_Update/Match_Experimental_Data/IV_model.py:88: RuntimeWarning: divide by zero encountered in double_scalars\n",
      "  BV=(R*Tk/BV_alpha/F)*math.log((J/2.0/(i0))+math.sqrt((J/2.0/(i0))**2+1))\n",
      "/Users/mkim91/Desktop/NGFC-Lib/jupyter/Python_IV_Curve/2_IV_Model_Update/Match_Experimental_Data/IV_model.py:88: RuntimeWarning: invalid value encountered in double_scalars\n",
      "  BV=(R*Tk/BV_alpha/F)*math.log((J/2.0/(i0))+math.sqrt((J/2.0/(i0))**2+1))\n"
     ]
    },
    {
     "ename": "TypeError",
     "evalue": "mean_squared_error() got an unexpected keyword argument 'squared'",
     "output_type": "error",
     "traceback": [
      "\u001b[0;31m---------------------------------------------------------------------------\u001b[0m",
      "\u001b[0;31mTypeError\u001b[0m                                 Traceback (most recent call last)",
      "\u001b[0;32m<ipython-input-8-9581e05bef78>\u001b[0m in \u001b[0;36m<module>\u001b[0;34m()\u001b[0m\n\u001b[1;32m     31\u001b[0m     \u001b[0;32mreturn\u001b[0m \u001b[0mrmse\u001b[0m\u001b[0;34m\u001b[0m\u001b[0m\n\u001b[1;32m     32\u001b[0m \u001b[0;34m\u001b[0m\u001b[0m\n\u001b[0;32m---> 33\u001b[0;31m \u001b[0mobj_guess\u001b[0m \u001b[0;34m=\u001b[0m \u001b[0mobjective_function_BP\u001b[0m\u001b[0;34m(\u001b[0m\u001b[0mparam_guess\u001b[0m\u001b[0;34m,\u001b[0m \u001b[0mparam_fixed\u001b[0m\u001b[0;34m)\u001b[0m\u001b[0;34m\u001b[0m\u001b[0m\n\u001b[0m\u001b[1;32m     34\u001b[0m \u001b[0mresult\u001b[0m \u001b[0;34m=\u001b[0m \u001b[0mminimize\u001b[0m\u001b[0;34m(\u001b[0m\u001b[0mobjective_function_BP\u001b[0m\u001b[0;34m,\u001b[0m \u001b[0mparam_guess\u001b[0m\u001b[0;34m,\u001b[0m \u001b[0margs\u001b[0m \u001b[0;34m=\u001b[0m \u001b[0;34m(\u001b[0m\u001b[0mparam_fixed\u001b[0m\u001b[0;34m)\u001b[0m\u001b[0;34m,\u001b[0m \u001b[0mmethod\u001b[0m \u001b[0;34m=\u001b[0m \u001b[0;34m'SLSQP'\u001b[0m\u001b[0;34m,\u001b[0m \u001b[0mbounds\u001b[0m \u001b[0;34m=\u001b[0m \u001b[0mbnds\u001b[0m\u001b[0;34m)\u001b[0m\u001b[0;34m\u001b[0m\u001b[0m\n\u001b[1;32m     35\u001b[0m \u001b[0mprint\u001b[0m\u001b[0;34m(\u001b[0m\u001b[0mresult\u001b[0m\u001b[0;34m)\u001b[0m\u001b[0;34m\u001b[0m\u001b[0m\n",
      "\u001b[0;32m<ipython-input-8-9581e05bef78>\u001b[0m in \u001b[0;36mobjective_function_BP\u001b[0;34m(param_guess, param_fixed)\u001b[0m\n\u001b[1;32m     28\u001b[0m                                                            \u001b[0mparam_guess\u001b[0m\u001b[0;34m[\u001b[0m\u001b[0;36m3\u001b[0m\u001b[0;34m]\u001b[0m\u001b[0;34m,\u001b[0m \u001b[0mparam_guess\u001b[0m\u001b[0;34m[\u001b[0m\u001b[0;36m4\u001b[0m\u001b[0;34m]\u001b[0m\u001b[0;34m,\u001b[0m\u001b[0;34m\u001b[0m\u001b[0m\n\u001b[1;32m     29\u001b[0m                                                            0.1, 4.51e-5, True, param_guess[5], param_guess[6],  th_e)\n\u001b[0;32m---> 30\u001b[0;31m     \u001b[0mrmse\u001b[0m \u001b[0;34m=\u001b[0m \u001b[0mmean_squared_error\u001b[0m\u001b[0;34m(\u001b[0m\u001b[0my_exp\u001b[0m\u001b[0;34m,\u001b[0m \u001b[0my_model\u001b[0m\u001b[0;34m,\u001b[0m \u001b[0msquared\u001b[0m\u001b[0;34m=\u001b[0m\u001b[0;32mFalse\u001b[0m\u001b[0;34m)\u001b[0m\u001b[0;34m\u001b[0m\u001b[0m\n\u001b[0m\u001b[1;32m     31\u001b[0m     \u001b[0;32mreturn\u001b[0m \u001b[0mrmse\u001b[0m\u001b[0;34m\u001b[0m\u001b[0m\n\u001b[1;32m     32\u001b[0m \u001b[0;34m\u001b[0m\u001b[0m\n",
      "\u001b[0;31mTypeError\u001b[0m: mean_squared_error() got an unexpected keyword argument 'squared'"
     ]
    }
   ],
   "source": [
    "#comparison between Park-2020 experimental data (t8) and IV_new predicitons\n",
    "\n",
    "#initilize and optimize\n",
    "param_guess = (0.46, 5639, 79616, 0.0, 0.0, 0.228, 0.228)\n",
    "bnds = ((0.1, 0.8), (0, None), (0, None), (None, 0), (0, None), (0.2, 2.0), (0.2, 2.0)) ## bounds changed\n",
    "\n",
    "# BV_alpha, BV_prexp, BV_Eact,V_loss=0.0, R_cont=0.0, \n",
    "# DsurfH2th1=0.1, DsurfH2th2=4.51e-5,\n",
    "# Fkn=True, d0_am=0.28,d0_cm=0.28, th_e=10\n",
    "\n",
    "Tlist = [600, 700, 800]\n",
    "th_e = 8\n",
    "param_fixed = [pO2air,pN2air,pH2,pH2O,pCO,pCO2,pCH4,pN2,pSys,th_e]\n",
    "\n",
    "def objective_function_BP(param_guess, param_fixed):  \n",
    "    filename = './ExperimentalData/BP2020/AllData_BP.csv'\n",
    "    data = np.loadtxt(open(filename, \"rb\"), delimiter=\",\", skiprows=1)\n",
    "    x = data[:,0]\n",
    "    y_exp = data[:,1]\n",
    "    Toper = data[:, 2]\n",
    "    [pO2air,pN2air,pH2,pH2O,pCO,pCO2,pCH4,pN2,pSys,th_e] = param_fixed\n",
    "\n",
    "    y_model = np.zeros(len(y_exp))\n",
    "    for j in range(len(y_exp)):\n",
    "        y_model[j], Voc, Ohmic, BV, Cath, Anode = IV_model.IV_new_2(Toper[j]+273.15,Toper[j]+273.15,x[j],\n",
    "                                                           pO2air,pN2air,pH2,pH2O,pCO,pCO2,pCH4,pN2,pSys,\n",
    "                                                           param_guess[0],param_guess[1],param_guess[2],\n",
    "                                                           param_guess[3], param_guess[4], \n",
    "                                                           0.1, 4.51e-5, True, param_guess[5], param_guess[6],  th_e)\n",
    "    rmse = mean_squared_error(y_exp, y_model, squared=False)\n",
    "    return rmse\n",
    "\n",
    "obj_guess = objective_function_BP(param_guess, param_fixed)\n",
    "result = minimize(objective_function_BP, param_guess, args = (param_fixed), method = 'SLSQP', bounds = bnds)\n",
    "print(result)\n",
    "\n",
    "# plot and comparison\n",
    "markerlist = ['o', 'v', 'd', '^', '+']\n",
    "colorlist = ['r', 'g', 'b', 'c', 'm']\n",
    "\n",
    "plt.figure(figsize=(17.5,6))\n",
    "\n",
    "for i in range(len(Tlist)):\n",
    "    oT = Tlist[i]+273.15\n",
    "    fT = oT\n",
    "    \n",
    "    # plot exp data\n",
    "    filename = './ExperimentalData/BP2020/t8/'+str(Tlist[i])+'.csv'\n",
    "    data = np.loadtxt(open(filename, \"rb\"), delimiter=\",\", skiprows=1)\n",
    "    plt.plot(data[:,0], data[:,1], colorlist[i]+markerlist[i], label = 'EXP '+str(Tlist[i]))\n",
    "    \n",
    "    # initialize Jlist and Vlist\n",
    "    Jlist=np.linspace(np.amin(data[:,0]), np.amax(data[:,0]), num=20)   #Current density, unit [A/cm2]\n",
    "    Vlist = np.zeros(20)\n",
    "    \n",
    "    # plot pred data\n",
    "    for j in range(20):\n",
    "        Vlist[j], Voc, Ohmic, BV, Cath, Anode = IV_model.IV_new_2(oT,fT,Jlist[j],pO2air,pN2air,pH2,pH2O,pCO,pCO2,pCH4,pN2,pSys, \n",
    "                                                         result.x[0],result.x[1],result.x[2], \n",
    "                                                         result.x[3], result.x[4], \n",
    "                                                         0.1, 4.51e-5, True, result.x[5], result.x[6],  th_e)\n",
    "    plt.plot(Jlist, Vlist, colorlist[i]+'-', label = 'IV Pred '+str(Tlist[i]))\n",
    "\n",
    "plt.xticks(fontsize=15)\n",
    "plt.yticks(fontsize=15)\n",
    "plt.legend(loc='upper right', fontsize=15)\n",
    "ymin, ymax = plt.ylim()\n",
    "plt.ylim(ymin-(ymax-ymin)*0.0, ymax+(ymax-ymin)*0.0)\n",
    "plt.xlabel('Current Density, J [A/cm2]', fontsize = 15)\n",
    "plt.ylabel('Voltage, V [V]', fontsize = 15)\n",
    "plt.title('EXP. VS. IV_new', fontsize = 15)"
   ]
  },
  {
   "cell_type": "code",
   "execution_count": 9,
   "metadata": {},
   "outputs": [
    {
     "ename": "ModuleNotFoundError",
     "evalue": "No module named 'sklearn'",
     "output_type": "error",
     "traceback": [
      "\u001b[0;31m---------------------------------------------------------------------------\u001b[0m",
      "\u001b[0;31mModuleNotFoundError\u001b[0m                       Traceback (most recent call last)",
      "\u001b[0;32m/var/folders/sc/r5rkrwys5kb9b83zmdp31qxc0000gn/T/ipykernel_79614/1232488958.py\u001b[0m in \u001b[0;36m<module>\u001b[0;34m\u001b[0m\n\u001b[0;32m----> 1\u001b[0;31m \u001b[0;32mimport\u001b[0m \u001b[0msklearn\u001b[0m\u001b[0;34m\u001b[0m\u001b[0;34m\u001b[0m\u001b[0m\n\u001b[0m\u001b[1;32m      2\u001b[0m \u001b[0mprint\u001b[0m\u001b[0;34m(\u001b[0m\u001b[0msklearn\u001b[0m\u001b[0;34m.\u001b[0m\u001b[0m__version__\u001b[0m\u001b[0;34m)\u001b[0m\u001b[0;34m\u001b[0m\u001b[0;34m\u001b[0m\u001b[0m\n",
      "\u001b[0;31mModuleNotFoundError\u001b[0m: No module named 'sklearn'"
     ]
    }
   ],
   "source": [
    "import sklearn\n",
    "print(sklearn.__version__)"
   ]
  },
  {
   "cell_type": "code",
   "execution_count": 8,
   "metadata": {},
   "outputs": [
    {
     "ename": "ModuleNotFoundError",
     "evalue": "No module named 'scipy'",
     "output_type": "error",
     "traceback": [
      "\u001b[0;31m---------------------------------------------------------------------------\u001b[0m",
      "\u001b[0;31mModuleNotFoundError\u001b[0m                       Traceback (most recent call last)",
      "\u001b[0;32m/var/folders/sc/r5rkrwys5kb9b83zmdp31qxc0000gn/T/ipykernel_79614/4061611608.py\u001b[0m in \u001b[0;36m<module>\u001b[0;34m\u001b[0m\n\u001b[0;32m----> 1\u001b[0;31m \u001b[0;32mimport\u001b[0m \u001b[0mscipy\u001b[0m\u001b[0;34m\u001b[0m\u001b[0;34m\u001b[0m\u001b[0m\n\u001b[0m\u001b[1;32m      2\u001b[0m \u001b[0mprint\u001b[0m\u001b[0;34m(\u001b[0m\u001b[0mscipy\u001b[0m\u001b[0;34m.\u001b[0m\u001b[0m__version__\u001b[0m\u001b[0;34m)\u001b[0m\u001b[0;34m\u001b[0m\u001b[0;34m\u001b[0m\u001b[0m\n",
      "\u001b[0;31mModuleNotFoundError\u001b[0m: No module named 'scipy'"
     ]
    }
   ],
   "source": [
    "import scipy\n",
    "print(scipy.__version__)"
   ]
  },
  {
   "cell_type": "code",
   "execution_count": null,
   "metadata": {
    "collapsed": true
   },
   "outputs": [],
   "source": []
  }
 ],
 "metadata": {
  "kernelspec": {
   "display_name": "Python 3 (ipykernel)",
   "language": "python",
   "name": "python3"
  },
  "language_info": {
   "codemirror_mode": {
    "name": "ipython",
    "version": 3
   },
   "file_extension": ".py",
   "mimetype": "text/x-python",
   "name": "python",
   "nbconvert_exporter": "python",
   "pygments_lexer": "ipython3",
   "version": "3.7.7"
  }
 },
 "nbformat": 4,
 "nbformat_minor": 4
}
