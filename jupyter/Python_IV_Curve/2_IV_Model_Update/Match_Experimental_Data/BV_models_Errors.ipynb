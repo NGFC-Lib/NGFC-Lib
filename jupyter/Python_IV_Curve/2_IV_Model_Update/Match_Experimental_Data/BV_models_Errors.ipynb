{
 "cells": [
  {
   "cell_type": "markdown",
   "metadata": {},
   "source": [
    "### Butler Volmer Explicit Equations error\n",
    "This brief study will show which explicit model for BV equation for Vactivation calculation is the closest to the actual BV. "
   ]
  },
  {
   "cell_type": "code",
   "execution_count": 1,
   "metadata": {},
   "outputs": [],
   "source": [
    "import math\n",
    "import numpy as np\n",
    "import matplotlib.pyplot as plt\n",
    "import matplotlib\n",
    "from scipy.optimize import minimize\n",
    "from sklearn.metrics import mean_squared_error"
   ]
  },
  {
   "cell_type": "code",
   "execution_count": 2,
   "metadata": {},
   "outputs": [],
   "source": [
    "import IV_model"
   ]
  },
  {
   "cell_type": "code",
   "execution_count": 3,
   "metadata": {},
   "outputs": [
    {
     "data": {
      "text/plain": [
       "<function IV_model.IV_new_2(oT, fT, J, pO2air, pN2air, pH2, pH2O, pCO, pCO2, pCH4, pN2, pSys, BV_alpha, BV_prexp, BV_Eact, V_loss=0.0, R_cont=0.0, DsurfH2th1=0.1, DsurfH2th2=4.51e-05, Fkn=True, d0_am=0.28, d0_cm=0.28, th_e=10)>"
      ]
     },
     "execution_count": 3,
     "metadata": {},
     "output_type": "execute_result"
    }
   ],
   "source": [
    "IV_model.IV_new_2"
   ]
  },
  {
   "cell_type": "code",
   "execution_count": 4,
   "metadata": {},
   "outputs": [],
   "source": [
    "#enviornment parameter\n",
    "\n",
    "oT =700+273.15      #Temperature oxidant (K)\n",
    "fT =700+273.15      #Temperature fuel (K)\n",
    "\n",
    "Tk = (oT+fT)/2\n",
    "# environment parameters\n",
    "R=8.314\n",
    "F=96485.0\n",
    "\n",
    "pO2air=0.3          #Air side partial pressure O2 (atm)\n",
    "pN2air =0.7         #Air side partial pressure N2 (atm)\n",
    "# pH2 = 0.4375        #Fuel side partial pressure H2 (atm)\n",
    "# pH2O =0.3125        #Fuel side partial pressure H2O (atm)\n",
    "# pCO=0.0625          #Fuel side partial pressure CO (atm)\n",
    "# pCO2=0.0625         #Fuel side partial pressure CO2 (atm)\n",
    "# pCH4=0.125          #Fuel side partial pressure CH4 (atm)\n",
    "# pN2=0.0             #Fuel side partial pressure N2 (atm)\n",
    "pH2 = 0.97        #Fuel side partial pressure H2 (atm)\n",
    "pH2O =0.03        #Fuel side partial pressure H2O (atm)\n",
    "pCO=0.0         #Fuel side partial pressure CO (atm)\n",
    "pCO2=0.0         #Fuel side partial pressure CO2 (atm)\n",
    "pCH4=0.0          #Fuel side partial pressure CH4 (atm)\n",
    "pN2=0.0             #Fuel side partial pressure N2 (atm)\n",
    "pSys=1.0            #System pressure (atm)  \n",
    "\n",
    "# adjustable parameters for B-V loss (starting with these for optimization)\n",
    "BV_alpha = 0.43236 #0.43236/3 **\n",
    "BV_prexp = 5639 #**\n",
    "BV_Eact = 79.616 #**\n",
    "\n",
    "\n",
    "J=0.1"
   ]
  },
  {
   "cell_type": "code",
   "execution_count": 5,
   "metadata": {},
   "outputs": [],
   "source": [
    "# Model Parameters. Defined by optimization functions\n",
    "# BV_alpha, BV_prexp, BV_Eact,V_loss=0.0, R_cont=0.0, d0_am=0.28,d0_cm=0.28, \n",
    "\n",
    "J3 = (1.68334655e-01,  5.63899994e+03,  7.96160000e+04, -4.40787208e-02,\n",
    "        2.19644090e-01,  2.00000000e-01,  2.79458248e-01)\n",
    "\n",
    "B3 = [2.69218132e-01,  5.63900045e+03,  7.96160002e+04, -5.97469329e-02,\n",
    "        0.00000000e+00,  2.00000000e+00,  3.62167047e-01]\n",
    "\n",
    "J3_5 = [7.00000000e-01,  1.00000846e+00,  2.00000485e+02, -2.60802600e-02,\n",
    "        5.32689266e-01,  2.00000000e-01,  2.79295936e-01]\n",
    "\n",
    "B3_5 = [7.00000000e-01,  1.00000846e+00,  2.00000485e+02, -2.60802600e-02,\n",
    "        5.32689266e-01,  2.00000000e-01,  2.79295936e-01]\n",
    "\n",
    "J4 = [6.00000000e-01,  5.63899995e+03,  7.96160000e+04, -8.11476134e-02,\n",
    "        3.99214619e-01,  2.00000000e-01,  2.27425977e-01]\n",
    "\n",
    "B4 = [6.00000000e-01,  4.99999988e+03,  7.00000001e+04, -1.96831760e-01,\n",
    "        3.56237271e-02,  2.00000000e-01,  2.29666245e-01]\n",
    "\n",
    "J5 = [6.00000000e-01,  5.63899995e+03,  7.96160000e+04, -8.24174358e-02,\n",
    "        4.05113768e-01,  2.32356931e-01,  2.79653913e-01]\n",
    "B5 = [3.72932228e-01,  5.63899993e+03,  7.96160001e+04, -1.36362672e-01,\n",
    "        8.76092882e-03,  2.00000000e-01,  2.29482770e-01]\n",
    "     "
   ]
  },
  {
   "cell_type": "code",
   "execution_count": 46,
   "metadata": {},
   "outputs": [],
   "source": [
    "#user defined\n",
    "Toper=650"
   ]
  },
  {
   "cell_type": "code",
   "execution_count": 47,
   "metadata": {},
   "outputs": [],
   "source": [
    "#Current Density JM\n",
    "filename_JM = './ExperimentalData/JM2017/'+str(Toper)+'.csv'\n",
    "data_JM = np.loadtxt(open(filename_JM, \"rb\"), delimiter=\",\", skiprows=1)\n",
    "J_JM = data_JM[:,0]\n",
    "#ToperJM = data_JM[:,2]\n",
    "y_JM = data_JM[:,1]\n",
    "\n",
    "filename_BP = './ExperimentalData/BP2020/AllData_BP.csv'\n",
    "data_BP = np.loadtxt(open(filename_BP, \"rb\"), delimiter=\",\", skiprows=1)\n",
    "J_BP = data_BP[:,0]\n",
    "ToperBP = data_BP[:,2]\n",
    "y_BP = data_BP[:,1]\n",
    "#    plt.plot(data[:,0], data[:,1], colorlist[i]+markerlist[i], label = 'EXP '+str(Tlist[i]))\n"
   ]
  },
  {
   "cell_type": "code",
   "execution_count": 48,
   "metadata": {},
   "outputs": [],
   "source": [
    "BV_3J = np.zeros(len(J_JM))\n",
    "BV_3_5J = np.zeros(len(J_JM))\n",
    "BV_4J = np.zeros(len(J_JM))\n",
    "BV_5J = np.zeros(len(J_JM))"
   ]
  },
  {
   "cell_type": "code",
   "execution_count": 54,
   "metadata": {},
   "outputs": [],
   "source": [
    "for i in range(len(BV_3J)):\n",
    "    V_JM= IV_model.IV_new_3(Toper+273.15,Toper+273.15,J_JM[i],\n",
    "                    pO2air,pN2air,pH2,pH2O,pCO,pCO2,pCH4,pN2,pSys,\n",
    "                    J3[0], J3[1], J3[2],\n",
    "                    J3[3], J3[4], 0.1, 4.51e-5,\n",
    "                    True,J3[5],J3[6])\n",
    "    BV_3J[i]=V_JM[3]"
   ]
  },
  {
   "cell_type": "code",
   "execution_count": 55,
   "metadata": {},
   "outputs": [],
   "source": [
    "for i in range(len(BV_3_5J)):\n",
    "    V_JM= IV_model.IV_new_3_5(Toper+273.15,Toper+273.15,J_JM[i],\n",
    "                    pO2air,pN2air,pH2,pH2O,pCO,pCO2,pCH4,pN2,pSys,\n",
    "                    J3_5[0], J3_5[1], J3_5[2],\n",
    "                    J3_5[3], J3_5[4], 0.1, 4.51e-5,\n",
    "                    True,J3_5[5],J3_5[6])\n",
    "    BV_3_5J[i]=V_JM[3]"
   ]
  },
  {
   "cell_type": "code",
   "execution_count": 56,
   "metadata": {},
   "outputs": [],
   "source": [
    "for i in range(len(BV_4J)):\n",
    "    V_JM= IV_model.IV_new_4(Toper+273.15,Toper+273.15,J_JM[i],\n",
    "                    pO2air,pN2air,pH2,pH2O,pCO,pCO2,pCH4,pN2,pSys,\n",
    "                    J4[0], J4[1], J4[2],\n",
    "                    J4[3], J4[4], 0.1, 4.51e-5,\n",
    "                    True,J4[5],J4[6])\n",
    "    BV_4J[i]=V_JM[3]"
   ]
  },
  {
   "cell_type": "code",
   "execution_count": 57,
   "metadata": {},
   "outputs": [],
   "source": [
    "for i in range(len(BV_5J)):\n",
    "    V_JM= IV_model.IV_new_5(Toper+273.15,Toper+273.15,J_JM[i],\n",
    "                    pO2air,pN2air,pH2,pH2O,pCO,pCO2,pCH4,pN2,pSys,\n",
    "                    J5[0], J5[1], J5[2],\n",
    "                    J5[3], J5[4], 0.1, 4.51e-5,\n",
    "                    True,J5[5],J5[6])\n",
    "    BV_5J[i]=V_JM[3]"
   ]
  },
  {
   "cell_type": "code",
   "execution_count": 71,
   "metadata": {},
   "outputs": [],
   "source": [
    "\n",
    "\n",
    "Vact = np.linspace(0,0.5,20)\n",
    "J=np.zeros(len(Vact))\n",
    "BV_prexp=5639/5000\n",
    "BV_Eact=79616/10000\n",
    "BV_alpha=0.43236\n",
    "i0=BV_prexp*math.exp(-BV_Eact)\n",
    "\n",
    "for i in range(len(J)):\n",
    "    J[i]=-i0*(math.exp(-BV_alpha*2*Vact[i]*F/R/Tk)-math.exp((1-BV_alpha)*Vact[i]*2*F/R/Tk))\n"
   ]
  },
  {
   "cell_type": "code",
   "execution_count": 72,
   "metadata": {},
   "outputs": [
    {
     "data": {
      "text/plain": [
       "<matplotlib.legend.Legend at 0x2eb33e2ec40>"
      ]
     },
     "execution_count": 72,
     "metadata": {},
     "output_type": "execute_result"
    },
    {
     "data": {
      "image/png": "[encoded data removed]",
      "text/plain": [
       "<Figure size 432x288 with 1 Axes>"
      ]
     },
     "metadata": {
      "needs_background": "light"
     },
     "output_type": "display_data"
    }
   ],
   "source": [
    "fig = plt.figure()\n",
    "\n",
    "plt.plot(J_JM, BV_3J, label='IV_new_3)')\n",
    "plt.plot(J_JM, BV_3_5J, label='IV_new_3_5)')\n",
    "plt.plot(J_JM, BV_4J, label='IV_new_4)')\n",
    "plt.plot(J_JM, BV_5J, label='IV_new_5)')\n",
    "plt.plot(J_JM, y_JM, label='actual')\n",
    "plt.plot(J, Vact, label= 'BV')\n",
    "plt.legend(loc='lower right')\n"
   ]
  },
  {
   "cell_type": "code",
   "execution_count": null,
   "metadata": {},
   "outputs": [],
   "source": []
  },
  {
   "cell_type": "code",
   "execution_count": null,
   "metadata": {},
   "outputs": [],
   "source": []
  },
  {
   "cell_type": "code",
   "execution_count": 12,
   "metadata": {},
   "outputs": [
    {
     "data": {
      "text/plain": [
       "1.7368082674012347e-06"
      ]
     },
     "execution_count": 12,
     "metadata": {},
     "output_type": "execute_result"
    }
   ],
   "source": [
    "\n",
    "BV_2=IV_model.IV_new_3(oT,fT,J,pO2air,pN2air,pH2,pH2O,pCO,pCO2,pCH4,pN2,pSys,\n",
    "            BV_alpha, BV_prexp, BV_Eact,V_loss=0.0, R_cont=0.0, \n",
    "            DsurfH2th1=0.1, DsurfH2th2=4.51e-5,Fkn=True, d0_am=0.28,d0_cm=0.28, th_e=10)\n",
    "\n",
    "BV_2[3]"
   ]
  },
  {
   "cell_type": "code",
   "execution_count": 13,
   "metadata": {},
   "outputs": [
    {
     "data": {
      "text/plain": [
       "0.24304878622009748"
      ]
     },
     "execution_count": 13,
     "metadata": {},
     "output_type": "execute_result"
    }
   ],
   "source": [
    "\n",
    "BV_3=IV_model.IV_new_3_5(oT,fT,J,pO2air,pN2air,pH2,pH2O,pCO,pCO2,pCH4,pN2,pSys,\n",
    "            BV_alpha, BV_prexp, BV_Eact,V_loss=0.0, R_cont=0.0, \n",
    "            DsurfH2th1=0.1, DsurfH2th2=4.51e-5,Fkn=True, d0_am=0.28,d0_cm=0.28, th_e=10)\n",
    "\n",
    "BV_3[3]"
   ]
  },
  {
   "cell_type": "code",
   "execution_count": 14,
   "metadata": {},
   "outputs": [
    {
     "data": {
      "text/plain": [
       "1.5018510257508408e-06"
      ]
     },
     "execution_count": 14,
     "metadata": {},
     "output_type": "execute_result"
    }
   ],
   "source": [
    "\n",
    "BV_4=IV_model.IV_new_4(oT,fT,J,pO2air,pN2air,pH2,pH2O,pCO,pCO2,pCH4,pN2,pSys,\n",
    "            BV_alpha, BV_prexp, BV_Eact,V_loss=0.0, R_cont=0.0, \n",
    "            DsurfH2th1=0.1, DsurfH2th2=4.51e-5,Fkn=True, d0_am=0.28,d0_cm=0.28, th_e=10)\n",
    "\n",
    "BV_4[3]"
   ]
  },
  {
   "cell_type": "code",
   "execution_count": 15,
   "metadata": {},
   "outputs": [
    {
     "data": {
      "text/plain": [
       "1.5018510257508408e-06"
      ]
     },
     "execution_count": 15,
     "metadata": {},
     "output_type": "execute_result"
    }
   ],
   "source": [
    "\n",
    "BV_5=IV_model.IV_new_5(oT,fT,J,pO2air,pN2air,pH2,pH2O,pCO,pCO2,pCH4,pN2,pSys,\n",
    "            BV_alpha, BV_prexp, BV_Eact,V_loss=0.0, R_cont=0.0, \n",
    "            DsurfH2th1=0.1, DsurfH2th2=4.51e-5,Fkn=True, d0_am=0.28,d0_cm=0.28, th_e=10)\n",
    "\n",
    "BV_5[3]"
   ]
  },
  {
   "cell_type": "code",
   "execution_count": 16,
   "metadata": {},
   "outputs": [
    {
     "name": "stdout",
     "output_type": "stream",
     "text": [
      "2.692521875959929e-35\n"
     ]
    },
    {
     "data": {
      "text/plain": [
       "1.494213388186166e-31"
      ]
     },
     "execution_count": 16,
     "metadata": {},
     "output_type": "execute_result"
    }
   ],
   "source": [
    "i0=BV_prexp*math.exp(-BV_Eact)\n",
    "i0\n",
    "print(math.exp(-79.6))\n",
    "i0"
   ]
  },
  {
   "cell_type": "code",
   "execution_count": 17,
   "metadata": {},
   "outputs": [
    {
     "name": "stdout",
     "output_type": "stream",
     "text": [
      "[1.95399443e-06 3.42618203e-06 4.95190373e-06 6.50439245e-06\n",
      " 8.03011412e-06 9.18109717e-06 2.67670505e-08 1.92722738e-06\n",
      " 3.42618203e-06 4.92513668e-06 6.47762540e-06 8.00334707e-06\n",
      " 9.52906877e-06 1.10547904e-05 1.25805121e-05 1.37314952e-05\n",
      " 0.00000000e+00 1.90046036e-06 3.42618203e-06 4.95190373e-06\n",
      " 6.50439245e-06 8.03011412e-06 9.52906877e-06 1.10815575e-05\n",
      " 1.25805121e-05 1.41062338e-05 1.56051885e-05 1.71576772e-05\n",
      " 1.82818932e-05 0.00000000e+00 1.92722738e-06 3.42618203e-06\n",
      " 4.95190373e-06 6.47762540e-06 7.97658005e-06 9.52906877e-06\n",
      " 1.10547904e-05 1.25537451e-05 1.40794668e-05 1.56319555e-05\n",
      " 1.71576772e-05 1.86566318e-05 1.99146830e-05 0.00000000e+00\n",
      " 1.95399443e-06 3.45294908e-06 4.95190373e-06 6.50439245e-06\n",
      " 8.03011412e-06 9.55583582e-06 1.11083245e-05 1.26072792e-05\n",
      " 1.41330009e-05 1.56319555e-05 1.71844442e-05 1.87101659e-05\n",
      " 2.02091205e-05 2.15474729e-05]\n"
     ]
    },
    {
     "data": {
      "text/plain": [
       "[<matplotlib.lines.Line2D at 0x2eb31f7ea60>]"
      ]
     },
     "execution_count": 17,
     "metadata": {},
     "output_type": "execute_result"
    },
    {
     "data": {
      "image/png": "[encoded data removed]",
      "text/plain": [
       "<Figure size 432x288 with 1 Axes>"
      ]
     },
     "metadata": {
      "needs_background": "light"
     },
     "output_type": "display_data"
    }
   ],
   "source": [
    "#PNNL Original Model\n",
    "BV_prexp=9.6620275\n",
    "BV_Eact=3.35955954\n",
    "BV_alpha=0.48646415\n",
    "i0=BV_prexp*math.exp(-BV_Eact)\n",
    "BV=np.zeros(len(J_JM))\n",
    "\n",
    "for i in range(len(J_JM)):\n",
    "    BV[i]=(R*Tk/BV_alpha/F)*math.log((J_JM[i]/2.0/(i0*10000))+math.sqrt((J_JM[i]/2.0/(i0*10000))**2+1))\n",
    "\n",
    "print(BV)\n",
    "\n",
    "plt.plot(J_JM,BV)"
   ]
  },
  {
   "cell_type": "code",
   "execution_count": 18,
   "metadata": {
    "scrolled": true
   },
   "outputs": [
    {
     "ename": "TypeError",
     "evalue": "object of type 'float' has no len()",
     "output_type": "error",
     "traceback": [
      "\u001b[1;31m---------------------------------------------------------------------------\u001b[0m",
      "\u001b[1;31mTypeError\u001b[0m                                 Traceback (most recent call last)",
      "\u001b[1;32m<ipython-input-18-18cc904a0a76>\u001b[0m in \u001b[0;36m<module>\u001b[1;34m\u001b[0m\n\u001b[0;32m      2\u001b[0m \u001b[0mi0\u001b[0m\u001b[1;33m=\u001b[0m\u001b[0mBV_prexp\u001b[0m\u001b[1;33m*\u001b[0m\u001b[0mmath\u001b[0m\u001b[1;33m.\u001b[0m\u001b[0mexp\u001b[0m\u001b[1;33m(\u001b[0m\u001b[1;33m-\u001b[0m\u001b[0mBV_Eact\u001b[0m\u001b[1;33m/\u001b[0m\u001b[0mR\u001b[0m\u001b[1;33m/\u001b[0m\u001b[0mTk\u001b[0m\u001b[1;33m)\u001b[0m\u001b[1;33m\u001b[0m\u001b[1;33m\u001b[0m\u001b[0m\n\u001b[0;32m      3\u001b[0m \u001b[1;33m\u001b[0m\u001b[0m\n\u001b[1;32m----> 4\u001b[1;33m \u001b[0mBV\u001b[0m\u001b[1;33m=\u001b[0m\u001b[0mnp\u001b[0m\u001b[1;33m.\u001b[0m\u001b[0mzeros\u001b[0m\u001b[1;33m(\u001b[0m\u001b[0mlen\u001b[0m\u001b[1;33m(\u001b[0m\u001b[0mJ\u001b[0m\u001b[1;33m)\u001b[0m\u001b[1;33m)\u001b[0m\u001b[1;33m\u001b[0m\u001b[1;33m\u001b[0m\u001b[0m\n\u001b[0m\u001b[0;32m      5\u001b[0m \u001b[1;33m\u001b[0m\u001b[0m\n\u001b[0;32m      6\u001b[0m \u001b[1;32mfor\u001b[0m \u001b[0mi\u001b[0m \u001b[1;32min\u001b[0m \u001b[0mrange\u001b[0m\u001b[1;33m(\u001b[0m\u001b[0mlen\u001b[0m\u001b[1;33m(\u001b[0m\u001b[0mJ\u001b[0m\u001b[1;33m)\u001b[0m\u001b[1;33m)\u001b[0m\u001b[1;33m:\u001b[0m\u001b[1;33m\u001b[0m\u001b[1;33m\u001b[0m\u001b[0m\n",
      "\u001b[1;31mTypeError\u001b[0m: object of type 'float' has no len()"
     ]
    }
   ],
   "source": [
    "#Same as PNNL original model in hyperbolic #perform speed testing on the calculation\n",
    "i0=BV_prexp*math.exp(-BV_Eact/R/Tk)\n",
    "\n",
    "BV=np.zeros(len(J))\n",
    "\n",
    "for i in range(len(J)):\n",
    "    BV[i]=(R*Tk/BV_alpha/F)*math.asinh(J[i]/2/i0)\n",
    "    \n",
    "plt.plot(J,BV)"
   ]
  },
  {
   "cell_type": "code",
   "execution_count": null,
   "metadata": {},
   "outputs": [],
   "source": [
    "#Hyperbolic sine equation. Meng.et\n",
    "Eact_a = 1e5\n",
    "BV_alpha=7.00000000e-01\n",
    "Prex_A=1.08110742e+00\n",
    "Prex_C=2.36148376e+02\n",
    "pH2= 0.97\n",
    "pH2O= 0.03\n",
    "pSys= 1\n",
    "Keq_dHo=-56930.0\n",
    "Keq_A=6.75\n",
    "Keq_B=-0.64\n",
    "Keq_C=-0.08\n",
    "Keq_L=-8.74\n",
    "Keq_dG=Keq_dHo+Keq_A*Tk*math.log10(Tk)+Keq_B*Tk*Tk/1000+Keq_C*100000/Tk+Keq_L*Tk\n",
    "Kequib=math.exp(-Keq_dG*4.184/R/Tk)\n",
    "pO2anode=(pH2O/Kequib/pH2)**2\n",
    "\n",
    "i0a=Prex_A*1e10*((pH2*pH2O)/pSys**2)*math.exp(-Eact_a/R/Tk) #prex_a = 1.344 (e10)\n",
    "#i0=BV_prexp*math.exp(-BV_Eact/R/Tk)\n",
    "Eact_c = 1.2e5\n",
    "i0c=Prex_C*1e9*(pO2anode/pSys)**(0.25)*math.exp(-Eact_c/R/Tk) #prex_c = 2.051 (e9)\n",
    "\n",
    "for i in range(len(J)):\n",
    "    Vact_a=(R*Tk/BV_alpha/F)*math.asinh(J[i]/2/i0a)\n",
    "    Vact_c=(R*Tk/BV_alpha/F)*math.asinh(J[i]/2/i0c)\n",
    "    BV[i]=Vact_a+Vact_c\n",
    "plt.plot(J,BV)"
   ]
  },
  {
   "cell_type": "code",
   "execution_count": null,
   "metadata": {},
   "outputs": [],
   "source": [
    "#second expansion\n",
    "i0=BV_prexp*math.exp(-BV_Eact/R/Tk)\n",
    "#BV=(R*Tk/BV_alpha/F)*math.asinh(J/2/i0)\n",
    "#Using quadratic formula derived from 2nd order taylor expansion.\n",
    "AA=(F/R/Tk)**2*(-2*BV_alpha+1)*0.5\n",
    "BB= F/R/Tk\n",
    "CC=-J/i0\n",
    "BV=np.zeros(len(CC))\n",
    "for i in range(len(CC)):\n",
    "    BV[i]= (-BB+math.sqrt((BB**2)-4*AA*CC[i]))/(2*AA)\n",
    "\n",
    "plt.plot(J,BV)\n",
    "    \n",
    "#explicit Vact from 2nd order Taylor expansion\n",
    "#BV=(-BB+math.sqrt((BB**2)-4*AA*CC))/(2*AA)"
   ]
  },
  {
   "cell_type": "code",
   "execution_count": null,
   "metadata": {},
   "outputs": [],
   "source": [
    "#Original BV equation ranging Vact from 0 to 0.25\n",
    "\n",
    "BV_prexp=9.6620275/10\n",
    "BV_Eact=3.35955954\n",
    "BV_alpha=0.48646415\n",
    "i0=BV_prexp*math.exp(-BV_Eact)\n",
    "Vact = np.linspace(0,1,1000)\n",
    "J=np.zeros(len(Vact))\n",
    "\n",
    "for i in range(len(J)):\n",
    "    J[i]=-i0*(math.exp(-BV_alpha*2*Vact[i]*F/R/Tk)-math.exp((1-BV_alpha)*Vact[i]*2*F/R/Tk))\n",
    "\n",
    "plt.plot(J,Vact)"
   ]
  },
  {
   "cell_type": "code",
   "execution_count": null,
   "metadata": {},
   "outputs": [],
   "source": [
    "Vact=0.2\n",
    "Tk=oT\n",
    "J=-i0*(math.exp(-BV_alpha*2*Vact*F/R/Tk)-math.exp((1-BV_alpha)*Vact*2*F/R/Tk))\n",
    "J"
   ]
  },
  {
   "cell_type": "code",
   "execution_count": null,
   "metadata": {},
   "outputs": [],
   "source": [
    "#second expansion+tafel\\]\n",
    "\n",
    "i0=BV_prexp*math.exp(-BV_Eact/R/Tk)\n",
    "if J/i0 < 4:\n",
    "#BV=(R*Tk/BV_alpha/F)*math.asinh(J/2/i0)\n",
    "#Using quadratic formula derived from 2nd order taylor expansion.\n",
    "    AA=(F/R/Tk)**2*(-2*BV_alpha+1)*0.5\n",
    "    BB= F/R/Tk\n",
    "    CC=-J/i0\n",
    "    #explicit Vact from 2nd order Taylor expansion\n",
    "    BV=(-BB+math.sqrt((BB**2)-4*AA*CC))/(2*AA)"
   ]
  },
  {
   "cell_type": "code",
   "execution_count": null,
   "metadata": {},
   "outputs": [],
   "source": [
    "# plot exp data\n",
    "#filename = './ExperimentalData/JM2017/700.csv'\n",
    "#filename = './ExperimentalData/BP2020/AllData_BP.csv'\n",
    "filename = './ExperimentalData/BP2020/t8/700.csv'\n",
    "data = np.loadtxt(open(filename, \"rb\"), delimiter=\",\", skiprows=1)\n",
    "plt.plot(data[:,0], data[:,1], 'r'+'o', label = 'EXP '+str(700)) #J vs V\n",
    "\n",
    "# initialize Jlist and Vlist\n",
    "Jlist=np.linspace(np.amin(data[:,0]), np.amax(data[:,0]), num=20)   #Current density, unit [A/cm2]\n",
    "Vlist = np.zeros(20)\n",
    "####Needs to be completed\n",
    "# plot pred data\n",
    "for j in range(20):\n",
    "    Vlist[j], Voc, Ohmic, BV, Cath, Anode = IV_model.IV_new_2(oT,fT,Jlist[j],pO2air,pN2air,pH2,pH2O,pCO,pCO2,pCH4,pN2,pSys,\n",
    "                                                   result.x[0],result.x[1],result.x[2],\n",
    "                                                   result.x[3], result.x[4], 0.1, 4.51e-5,\n",
    "                                                   True,result.x[5],result.x[6])\n",
    "plt.plot(Jlist, Vlist, 'r' +'-', label = 'IV Pred '+str(700))\n",
    "\n",
    "plt.xticks(fontsize=15)\n",
    "plt.yticks(fontsize=15)\n",
    "plt.legend(loc='upper right', fontsize=15)\n",
    "plt.xlim(-0.1, 1.1)\n",
    "plt.ylim(0.4, 1.1)\n",
    "# ymin, ymax = plt.ylim()\n",
    "# plt.ylim(ymin-(ymax-ymin)*0.0, ymax+(ymax-ymin)*0.0)\n",
    "plt.xlabel('Current Density, J [A/cm2]', fontsize = 15)\n",
    "plt.ylabel('Voltage, V [V]', fontsize = 15)\n",
    "plt.title('EXP. VS. IV_new', fontsize = 15)"
   ]
  },
  {
   "cell_type": "code",
   "execution_count": null,
   "metadata": {},
   "outputs": [],
   "source": []
  }
 ],
 "metadata": {
  "kernelspec": {
   "display_name": "Python 3",
   "language": "python",
   "name": "python3"
  },
  "language_info": {
   "codemirror_mode": {
    "name": "ipython",
    "version": 3
   },
   "file_extension": ".py",
   "mimetype": "text/x-python",
   "name": "python",
   "nbconvert_exporter": "python",
   "pygments_lexer": "ipython3",
   "version": "3.8.8"
  }
 },
 "nbformat": 4,
 "nbformat_minor": 4
}
