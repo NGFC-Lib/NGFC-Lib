{
 "cells": [
  {
   "cell_type": "markdown",
   "metadata": {},
   "source": [
    "### Butler Volmer Explicit Equations error\n",
    "This brief study will show which explicit model for BV equation for Vactivation calculation is the closest to the actual BV. "
   ]
  },
  {
   "cell_type": "code",
   "execution_count": null,
   "metadata": {},
   "outputs": [],
   "source": [
    "#PNNL Original Model\n",
    "i0=BV_prexp*math.exp(-BV_Eact)\n",
    "BV=(R*Tk/BV_alpha/F)*math.log((J/2.0/(i0*10000))+math.sqrt((J/2.0/(i0*10000))**2+1))"
   ]
  },
  {
   "cell_type": "code",
   "execution_count": null,
   "metadata": {},
   "outputs": [],
   "source": [
    "#Same as PNNL original model in hyperbolic #perform speed testing on the calculation\n",
    "i0=BV_prexp*math.exp(-BV_Eact/R/Tk)\n",
    "BV=(R*Tk/BV_alpha/F)*math.asinh(J/2/i0)"
   ]
  },
  {
   "cell_type": "code",
   "execution_count": null,
   "metadata": {},
   "outputs": [],
   "source": [
    "#Hyperbolic sine equation. Meng.et\n",
    "Eact_a = 1e5\n",
    "i0a=Prex_A*1e10*((pH2*pH2O)/pSys**2)*math.exp(-Eact_a/R/Tk) #prex_a = 1.344 (e10)\n",
    "#i0=BV_prexp*math.exp(-BV_Eact/R/Tk)\n",
    "Eact_c = 1.2e5\n",
    "i0c=Prex_C*1e9*(pO2anode/pSys)**(0.25)*math.exp(-Eact_c/R/Tk) #prex_c = 2.051 (e9)\n",
    "\n",
    "Vact_a=(R*Tk/BV_alpha/F)*math.asinh(J/2/i0a)\n",
    "Vact_c=(R*Tk/BV_alpha/F)*math.asinh(J/2/i0c)\n",
    "BV=Vact_a+Vact_c"
   ]
  },
  {
   "cell_type": "code",
   "execution_count": null,
   "metadata": {},
   "outputs": [],
   "source": [
    "#second expansion\n",
    "i0=BV_prexp*math.exp(-BV_Eact/R/Tk)\n",
    "#BV=(R*Tk/BV_alpha/F)*math.asinh(J/2/i0)\n",
    "#Using quadratic formula derived from 2nd order taylor expansion.\n",
    "AA=(F/R/Tk)**2*(-2*BV_alpha+1)*0.5\n",
    "BB= F/R/Tk\n",
    "CC=-J/i0\n",
    "#explicit Vact from 2nd order Taylor expansion\n",
    "BV=(-BB+math.sqrt((BB**2)-4*AA*CC))/(2*AA)"
   ]
  },
  {
   "cell_type": "code",
   "execution_count": null,
   "metadata": {},
   "outputs": [],
   "source": [
    "#second expansion+tafel\\]\n",
    "\n",
    "\n",
    "\n",
    "\n",
    "\n",
    "\n",
    "\n",
    "\n",
    "=\n",
    "i0=BV_prexp*math.exp(-BV_Eact/R/Tk)\n",
    "if J/i0 < 4:\n",
    "#BV=(R*Tk/BV_alpha/F)*math.asinh(J/2/i0)\n",
    "#Using quadratic formula derived from 2nd order taylor expansion.\n",
    "    AA=(F/R/Tk)**2*(-2*BV_alpha+1)*0.5\n",
    "    BB= F/R/Tk\n",
    "    CC=-J/i0\n",
    "    #explicit Vact from 2nd order Taylor expansion\n",
    "    BV=(-BB+math.sqrt((BB**2)-4*AA*CC))/(2*AA)"
   ]
  }
 ],
 "metadata": {
  "kernelspec": {
   "display_name": "Python 3",
   "language": "python",
   "name": "python3"
  },
  "language_info": {
   "codemirror_mode": {
    "name": "ipython",
    "version": 3
   },
   "file_extension": ".py",
   "mimetype": "text/x-python",
   "name": "python",
   "nbconvert_exporter": "python",
   "pygments_lexer": "ipython3",
   "version": "3.8.5"
  }
 },
 "nbformat": 4,
 "nbformat_minor": 4
}
