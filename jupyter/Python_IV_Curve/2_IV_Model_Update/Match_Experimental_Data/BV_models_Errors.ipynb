{
 "cells": [
  {
   "cell_type": "markdown",
   "metadata": {},
   "source": [
    "### Butler Volmer Explicit Equations error\n",
    "This brief study will show which explicit model for BV equation for Vactivation calculation is the closest to the actual BV. "
   ]
  },
  {
   "cell_type": "code",
   "execution_count": 2,
   "metadata": {},
   "outputs": [],
   "source": [
    "import math\n",
    "import numpy as np\n",
    "import matplotlib.pyplot as plt\n",
    "import matplotlib\n",
    "from scipy.optimize import minimize\n",
    "from sklearn.metrics import mean_squared_error"
   ]
  },
  {
   "cell_type": "code",
   "execution_count": 3,
   "metadata": {},
   "outputs": [],
   "source": [
    "import IV_model"
   ]
  },
  {
   "cell_type": "code",
   "execution_count": 4,
   "metadata": {},
   "outputs": [
    {
     "data": {
      "text/plain": [
       "<function IV_model.IV_new_2(oT, fT, J, pO2air, pN2air, pH2, pH2O, pCO, pCO2, pCH4, pN2, pSys, BV_alpha, BV_prexp, BV_Eact, V_loss=0.0, R_cont=0.0, DsurfH2th1=0.1, DsurfH2th2=4.51e-05, Fkn=True, d0_am=0.28, d0_cm=0.28, th_e=10)>"
      ]
     },
     "execution_count": 4,
     "metadata": {},
     "output_type": "execute_result"
    }
   ],
   "source": [
    "IV_model.IV_new_2"
   ]
  },
  {
   "cell_type": "markdown",
   "metadata": {},
   "source": [
    "# Environmental parameter"
   ]
  },
  {
   "cell_type": "code",
   "execution_count": 5,
   "metadata": {},
   "outputs": [],
   "source": [
    "#enviornment parameter\n",
    "\n",
    "oT =700+273.15      #Temperature oxidant (K)\n",
    "fT =700+273.15      #Temperature fuel (K)\n",
    "\n",
    "\n",
    "# environment parameters\n",
    "R=8.314\n",
    "F=96485.0\n",
    "\n",
    "pO2air=0.3          #Air side partial pressure O2 (atm)\n",
    "pN2air =0.7         #Air side partial pressure N2 (atm)\n",
    "# pH2 = 0.4375        #Fuel side partial pressure H2 (atm)\n",
    "# pH2O =0.3125        #Fuel side partial pressure H2O (atm)\n",
    "# pCO=0.0625          #Fuel side partial pressure CO (atm)\n",
    "# pCO2=0.0625         #Fuel side partial pressure CO2 (atm)\n",
    "# pCH4=0.125          #Fuel side partial pressure CH4 (atm)\n",
    "# pN2=0.0             #Fuel side partial pressure N2 (atm)\n",
    "pH2 = 0.97        #Fuel side partial pressure H2 (atm)\n",
    "pH2O =0.03        #Fuel side partial pressure H2O (atm)\n",
    "pCO=0.0         #Fuel side partial pressure CO (atm)\n",
    "pCO2=0.0         #Fuel side partial pressure CO2 (atm)\n",
    "pCH4=0.0          #Fuel side partial pressure CH4 (atm)\n",
    "pN2=0.0             #Fuel side partial pressure N2 (atm)\n",
    "pSys=1.0            #System pressure (atm)  \n",
    "\n",
    "# adjustable parameters for B-V loss (starting with these for optimization)\n",
    "BV_alpha = 0.43236 #0.43236/3 **\n",
    "BV_prexp = 5639 #**\n",
    "BV_Eact = 79.616 #**\n",
    "\n",
    "\n",
    "J=0.1"
   ]
  },
  {
   "cell_type": "markdown",
   "metadata": {},
   "source": [
    "# Optimized/ Fitted Parameters\n",
    "### First letter = experiment name, # = type of BV function"
   ]
  },
  {
   "cell_type": "code",
   "execution_count": 6,
   "metadata": {},
   "outputs": [],
   "source": [
    "# Model Parameters. Defined by optimization functions\n",
    "# BV_alpha, BV_prexp, BV_Eact,V_loss=0.0, R_cont=0.0, d0_am=0.28,d0_cm=0.28, \n",
    "\n",
    "J3 = (1.68334655e-01,  5.63899994e+03,  7.96160000e+04, -4.40787208e-02,\n",
    "        2.19644090e-01,  2.00000000e-01,  2.79458248e-01)\n",
    "\n",
    "B3 = [2.69218132e-01,  5.63900045e+03,  7.96160002e+04, -5.97469329e-02,\n",
    "        0.00000000e+00,  2.00000000e+00,  3.62167047e-01]\n",
    "\n",
    "J3_5 = [7.00000000e-01,  1.00000846e+00,  2.00000485e+02, -2.60802600e-02,\n",
    "        5.32689266e-01,  2.00000000e-01,  2.79295936e-01]\n",
    "\n",
    "B3_5 = [7.00000000e-01,  1.00000846e+00,  2.00000485e+02, -2.60802600e-02,\n",
    "        5.32689266e-01,  2.00000000e-01,  2.79295936e-01]\n",
    "\n",
    "J4 = [6.00000000e-01,  5.63899995e+03,  7.96160000e+04, -8.11476134e-02,\n",
    "        3.99214619e-01,  2.00000000e-01,  2.27425977e-01]\n",
    "\n",
    "B4 = [6.00000000e-01,  4.99999988e+03,  7.00000001e+04, -1.96831760e-01,\n",
    "        3.56237271e-02,  2.00000000e-01,  2.29666245e-01]\n",
    "\n",
    "J5 = [6.00000000e-01,  5.63899995e+03,  7.96160000e+04, -8.24174358e-02,\n",
    "        4.05113768e-01,  2.32356931e-01,  2.79653913e-01]\n",
    "B5 = [3.72932228e-01,  5.63899993e+03,  7.96160001e+04, -1.36362672e-01,\n",
    "        8.76092882e-03,  2.00000000e-01,  2.29482770e-01]\n",
    "     "
   ]
  },
  {
   "cell_type": "markdown",
   "metadata": {},
   "source": [
    "# User Defined Temperature (operational T)"
   ]
  },
  {
   "cell_type": "code",
   "execution_count": 21,
   "metadata": {},
   "outputs": [],
   "source": [
    "#user defined\n",
    "Toper=650\n",
    "Tk = Toper+273.15"
   ]
  },
  {
   "cell_type": "markdown",
   "metadata": {},
   "source": [
    "# Experimental Data Extraction From JM and BP "
   ]
  },
  {
   "cell_type": "code",
   "execution_count": 22,
   "metadata": {},
   "outputs": [],
   "source": [
    "#Current Density JM\n",
    "filename_JM = './ExperimentalData/JM2017/'+str(Toper)+'.csv'\n",
    "data_JM = np.loadtxt(open(filename_JM, \"rb\"), delimiter=\",\", skiprows=1)\n",
    "J_JM = data_JM[:,0]\n",
    "#ToperJM = data_JM[:,2]\n",
    "y_JM = data_JM[:,1]\n",
    "\n"
   ]
  },
  {
   "cell_type": "code",
   "execution_count": 23,
   "metadata": {},
   "outputs": [],
   "source": [
    "filename_BP = './ExperimentalData/BP2020/AllData_BP.csv'\n",
    "data_BP = np.loadtxt(open(filename_BP, \"rb\"), delimiter=\",\", skiprows=1)\n",
    "J_BP = data_BP[0:12,0]\n",
    "ToperBP = data_BP[0:12,2]\n",
    "y_BP = data_BP[0:12,1]\n",
    "#    plt.plot(data[:,0], data[:,1], colorlist[i]+markerlist[i], label = 'EXP '+str(Tlist[i]))\n",
    "#For BP: [0:12]: T=600, [12:34]: T=700, [35:74]: T=800"
   ]
  },
  {
   "cell_type": "markdown",
   "metadata": {},
   "source": [
    "# For JM Experimental values"
   ]
  },
  {
   "cell_type": "code",
   "execution_count": 24,
   "metadata": {},
   "outputs": [],
   "source": [
    "BV_3J = np.zeros(len(J_JM))\n",
    "BV_3_5J = np.zeros(len(J_JM))\n",
    "BV_4J = np.zeros(len(J_JM))\n",
    "BV_5J = np.zeros(len(J_JM))"
   ]
  },
  {
   "cell_type": "code",
   "execution_count": 25,
   "metadata": {},
   "outputs": [],
   "source": [
    "for i in range(len(BV_3J)):\n",
    "    V_JM= IV_model.IV_new_3(Toper+273.15,Toper+273.15,J_JM[i],\n",
    "                    pO2air,pN2air,pH2,pH2O,pCO,pCO2,pCH4,pN2,pSys,\n",
    "                    J3[0], J3[1], J3[2],\n",
    "                    J3[3], J3[4], 0.1, 4.51e-5,\n",
    "                    True,J3[5],J3[6])\n",
    "    BV_3J[i]=V_JM[3]"
   ]
  },
  {
   "cell_type": "code",
   "execution_count": 26,
   "metadata": {},
   "outputs": [],
   "source": [
    "for i in range(len(BV_3_5J)):\n",
    "    V_JM= IV_model.IV_new_3_5(Toper+273.15,Toper+273.15,J_JM[i],\n",
    "                    pO2air,pN2air,pH2,pH2O,pCO,pCO2,pCH4,pN2,pSys,\n",
    "                    J3_5[0], J3_5[1], J3_5[2],\n",
    "                    J3_5[3], J3_5[4], 0.1, 4.51e-5,\n",
    "                    True,J3_5[5],J3_5[6])\n",
    "    BV_3_5J[i]=V_JM[3]"
   ]
  },
  {
   "cell_type": "code",
   "execution_count": 27,
   "metadata": {},
   "outputs": [],
   "source": [
    "for i in range(len(BV_4J)):\n",
    "    V_JM= IV_model.IV_new_4(Toper+273.15,Toper+273.15,J_JM[i],\n",
    "                    pO2air,pN2air,pH2,pH2O,pCO,pCO2,pCH4,pN2,pSys,\n",
    "                    J4[0], J4[1], J4[2],\n",
    "                    J4[3], J4[4], 0.1, 4.51e-5,\n",
    "                    True,J4[5],J4[6])\n",
    "    BV_4J[i]=V_JM[3]"
   ]
  },
  {
   "cell_type": "code",
   "execution_count": 28,
   "metadata": {},
   "outputs": [],
   "source": [
    "for i in range(len(BV_5J)):\n",
    "    V_JM= IV_model.IV_new_5(Toper+273.15,Toper+273.15,J_JM[i],\n",
    "                    pO2air,pN2air,pH2,pH2O,pCO,pCO2,pCH4,pN2,pSys,\n",
    "                    J5[0], J5[1], J5[2],\n",
    "                    J5[3], J5[4], 0.1, 4.51e-5,\n",
    "                    True,J5[5],J5[6])\n",
    "    BV_5J[i]=V_JM[3]"
   ]
  },
  {
   "cell_type": "code",
   "execution_count": 42,
   "metadata": {},
   "outputs": [],
   "source": [
    "# Original ButlerVolmer Equation \n",
    "\n",
    "Vact = np.linspace(0,0.5,20)\n",
    "J=np.zeros(len(Vact))\n",
    "BV_prexp=5639/5000\n",
    "BV_Eact=79616/10000\n",
    "BV_alpha=0.37\n",
    "i0=BV_prexp*math.exp(-BV_Eact)\n",
    "\n",
    "for i in range(len(J)):\n",
    "    J[i]=-i0*(math.exp(-BV_alpha*2*Vact[i]*F/R/Tk)-math.exp((1-BV_alpha)*Vact[i]*2*F/R/Tk))\n"
   ]
  },
  {
   "cell_type": "code",
   "execution_count": 43,
   "metadata": {},
   "outputs": [
    {
     "data": {
      "text/plain": [
       "<matplotlib.legend.Legend at 0x21848881dc0>"
      ]
     },
     "execution_count": 43,
     "metadata": {},
     "output_type": "execute_result"
    },
    {
     "data": {
      "image/png": "[encoded data removed]",
      "text/plain": [
       "<Figure size 432x288 with 1 Axes>"
      ]
     },
     "metadata": {
      "needs_background": "light"
     },
     "output_type": "display_data"
    }
   ],
   "source": [
    "fig = plt.figure()\n",
    "\n",
    "plt.plot(J_JM, BV_3J, label='IV_new_3)')\n",
    "plt.plot(J_JM, BV_3_5J, label='IV_new_3_5)')\n",
    "plt.plot(J_JM, BV_4J, label='IV_new_4)')\n",
    "plt.plot(J_JM, BV_5J, label='IV_new_5)')\n",
    "#plt.plot(J_JM, y_JM, label='actual')\n",
    "plt.plot(J, Vact, label= 'BV')\n",
    "plt.legend(loc='lower right')\n"
   ]
  },
  {
   "cell_type": "markdown",
   "metadata": {},
   "source": [
    "# For BP Experimental Values"
   ]
  },
  {
   "cell_type": "code",
   "execution_count": 13,
   "metadata": {},
   "outputs": [],
   "source": [
    "BV_3B = np.zeros(len(J_BP))\n",
    "BV_3_5B = np.zeros(len(J_BP))\n",
    "BV_4B = np.zeros(len(J_BP))\n",
    "BV_5B = np.zeros(len(J_BP))"
   ]
  },
  {
   "cell_type": "code",
   "execution_count": 14,
   "metadata": {},
   "outputs": [],
   "source": [
    "for i in range(len(BV_3B)):\n",
    "    V_BP= IV_model.IV_new_3(ToperBP[i]+273.15,ToperBP[i]+273.15,J_BP[i],\n",
    "                    pO2air,pN2air,pH2,pH2O,pCO,pCO2,pCH4,pN2,pSys,\n",
    "                    B3[0], B3[1], B3[2],\n",
    "                    B3[3], B3[4], 0.1, 4.51e-5,\n",
    "                    True,B3[5],B3[6])\n",
    "    BV_3B[i]=V_BP[3]"
   ]
  },
  {
   "cell_type": "code",
   "execution_count": 15,
   "metadata": {},
   "outputs": [],
   "source": [
    "for i in range(len(BV_3_5B)):\n",
    "    V_BP= IV_model.IV_new_3_5(ToperBP[i]+273.15,ToperBP[i]+273.15,J_BP[i],\n",
    "                    pO2air,pN2air,pH2,pH2O,pCO,pCO2,pCH4,pN2,pSys,\n",
    "                    B3_5[0], B3_5[1], B3_5[2],\n",
    "                    B3_5[3], B3_5[4], 0.1, 4.51e-5,\n",
    "                    True,B3_5[5],B3_5[6])\n",
    "    BV_3_5B[i]=V_BP[3]"
   ]
  },
  {
   "cell_type": "code",
   "execution_count": 16,
   "metadata": {},
   "outputs": [],
   "source": [
    "for i in range(len(BV_4B)):\n",
    "    V_BP= IV_model.IV_new_4(ToperBP[i]+273.15,ToperBP[i]+273.15,J_BP[i],\n",
    "                    pO2air,pN2air,pH2,pH2O,pCO,pCO2,pCH4,pN2,pSys,\n",
    "                    B4[0], B4[1], B4[2],\n",
    "                    B4[3], B4[4], 0.1, 4.51e-5,\n",
    "                    True, B4[5], B4[6])\n",
    "    BV_4B[i]=V_BP[3]"
   ]
  },
  {
   "cell_type": "code",
   "execution_count": 17,
   "metadata": {},
   "outputs": [],
   "source": [
    "for i in range(len(BV_5B)):\n",
    "    V_BP= IV_model.IV_new_5(ToperBP[i]+273.15,ToperBP[i]+273.15,J_BP[i],\n",
    "                    pO2air,pN2air,pH2,pH2O,pCO,pCO2,pCH4,pN2,pSys,\n",
    "                    B5[0], B5[1], B5[2],\n",
    "                    B5[3], B5[4], 0.1, 4.51e-5,\n",
    "                    True,B5[5],B5[6])\n",
    "    BV_5B[i]=V_BP[3]"
   ]
  },
  {
   "cell_type": "code",
   "execution_count": 18,
   "metadata": {},
   "outputs": [],
   "source": [
    "Vact = np.linspace(0,0.55,20)\n",
    "J=np.zeros(len(Vact))\n",
    "BV_prexp=5639/5000\n",
    "BV_Eact=79616/10000\n",
    "BV_alpha=0.5\n",
    "i0=BV_prexp*math.exp(-BV_Eact)\n",
    "\n",
    "for i in range(len(J)):\n",
    "    J[i]=-i0*(math.exp(-BV_alpha*2*Vact[i]*F/R/Tk)-math.exp((1-BV_alpha)*Vact[i]*2*F/R/Tk))"
   ]
  },
  {
   "cell_type": "code",
   "execution_count": 19,
   "metadata": {},
   "outputs": [
    {
     "data": {
      "text/plain": [
       "<matplotlib.legend.Legend at 0x21846e440d0>"
      ]
     },
     "execution_count": 19,
     "metadata": {},
     "output_type": "execute_result"
    },
    {
     "data": {
      "image/png": "[encoded data removed]",
      "text/plain": [
       "<Figure size 432x288 with 1 Axes>"
      ]
     },
     "metadata": {
      "needs_background": "light"
     },
     "output_type": "display_data"
    }
   ],
   "source": [
    "fig1 = plt.figure()\n",
    "\n",
    "plt.plot(J_BP, BV_3B, label='IV_new_3)')\n",
    "plt.plot(J_BP, BV_3_5B, label='IV_new_3_5)')\n",
    "plt.plot(J_BP, BV_4B, label='IV_new_4)')\n",
    "plt.plot(J_BP, BV_5B, label='IV_new_5)')\n",
    "plt.plot(J_BP, y_BP, label='actual')\n",
    "plt.plot(J, Vact, label= 'BV')\n",
    "plt.legend(loc='lower right')\n"
   ]
  },
  {
   "cell_type": "markdown",
   "metadata": {},
   "source": [
    "Scratch "
   ]
  },
  {
   "cell_type": "code",
   "execution_count": null,
   "metadata": {},
   "outputs": [],
   "source": []
  }
 ],
 "metadata": {
  "kernelspec": {
   "display_name": "Python 3",
   "language": "python",
   "name": "python3"
  },
  "language_info": {
   "codemirror_mode": {
    "name": "ipython",
    "version": 3
   },
   "file_extension": ".py",
   "mimetype": "text/x-python",
   "name": "python",
   "nbconvert_exporter": "python",
   "pygments_lexer": "ipython3",
   "version": "3.8.8"
  }
 },
 "nbformat": 4,
 "nbformat_minor": 4
}
