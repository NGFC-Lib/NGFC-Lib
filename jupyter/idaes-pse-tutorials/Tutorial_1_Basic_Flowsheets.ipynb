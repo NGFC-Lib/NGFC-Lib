{
 "cells": [
  {
   "cell_type": "markdown",
   "metadata": {},
   "source": [
    "Tutorial 1 - Basic Flowsheets\n",
    "=============================\n",
    "\n",
    "Introduction\n",
    "------------\n",
    "\n",
    "For this tutorial on how to construct simple flowsheets within the IDAES framework, we will use a simple steady-state process of two well-mixed reactors (CSTRs) in series, with the following system reactions occurring in each.\n",
    "\n",
    "<img src=\"2cstrs.png\">\n",
    "\n",
    "<center>ethyl acetate + NaOH $\\rightarrow$ sodium acetate + ethanol</center>\n",
    "\n",
    "In this tutorial, you will learn how to:\n",
    "\n",
    "* import the necessary libraries from Pyomo and IDAES\n",
    "* create a flowsheet object\n",
    "* add a property package to a flowsheet\n",
    "* add unit models to a flowsheet\n",
    "* connect units together\n",
    "* set inlet conditions and design variables\n",
    "* initialize a model\n",
    "* solve the model and print some results\n",
    "\n",
    "In this tutorial, we will be working within a Jupyter Notebook, which is an interactive Python environment which allows us to write and execute code as we go. Working in other environments uses the same set of commands as those you will use here, thus the code demonstrated here is applicable no matter what environment you eventually work in.\n",
    "\n",
    "A completed example of this tutorial as a Python script is available in the same folder as this Notebook."
   ]
  },
  {
   "cell_type": "markdown",
   "metadata": {},
   "source": [
    "First Steps\n",
    "-----------\n",
    "\n",
    "At this stage, our Jupyter Notebook is a bare Python environment and it does not contain the tools we need to use. To setup the tools we need to import the packages and components we are going to use into our environment.\n",
    "\n",
    "The first thing we need to do is import some components from Pyomo which will be used in our model:\n",
    "\n",
    "* `ConcreteModel` will be used to form the basis of our model,\n",
    "* `SolverFactory` will be used to solve our flowsheet, and\n",
    "* `Arc` and `TransformationFactory` will be used to connect unit operations together.\n",
    "\n",
    "Most of these can be imported from `pyomo.environ` using the following format, whilst `Arc` needs to be imported from `pyomo.network`. To do this, enter the following code into the empty cell below.\n",
    "\n",
    "```py\n",
    "from pyomo.environ import ConcreteModel, SolverFactory, TransformationFactory\n",
    "from pyomo.network import Arc\n",
    "```"
   ]
  },
  {
   "cell_type": "code",
   "execution_count": 1,
   "metadata": {},
   "outputs": [],
   "source": [
    "from pyomo.environ import ConcreteModel, SolverFactory, TransformationFactory\n",
    "from pyomo.network import Arc"
   ]
  },
  {
   "cell_type": "markdown",
   "metadata": {},
   "source": [
    "Next, we need to import the features we are going to use from the IDAES code. The first thing we will need is `FlowsheetBlock`, which is found in `idaes.core`. FlowsheetBlocks are used as the basis for constructing all flowsheets in IDAES, and provides the necessary infrastructure for constructing a flowsheet.\n",
    "\n",
    "```py\n",
    "from idaes.core import FlowsheetBlock\n",
    "```"
   ]
  },
  {
   "cell_type": "code",
   "execution_count": 2,
   "metadata": {},
   "outputs": [],
   "source": [
    "from idaes.core import FlowsheetBlock"
   ]
  },
  {
   "cell_type": "markdown",
   "metadata": {},
   "source": [
    "Next, we need to import some models for the thermo-physical and reaction properties of the system we want to model. Within the IDAES modeling framework, thermo-physical and kinetic properties are handled by separate modules referred to as property packages (this is to allow for modularity of property calculations). For this tutorial, two property packages have been prepared for you, so all we need to do is import them (later tutorials will cover how to write your own property packages).\n",
    "\n",
    "```py\n",
    "import idaes.property_models.examples.saponification_thermo as thermo_props\n",
    "import idaes.property_models.examples.saponification_reactions as reaction_props\n",
    "```"
   ]
  },
  {
   "cell_type": "code",
   "execution_count": 4,
   "metadata": {},
   "outputs": [],
   "source": [
    "import idaes.property_models.examples.saponification_thermo as thermo_props\n",
    "import idaes.property_models.examples.saponification_reactions as reaction_props"
   ]
  },
  {
   "cell_type": "markdown",
   "metadata": {},
   "source": [
    "Finally, we need to import the models for the unit operations we wish to use in our flowsheet. IDAES comes with a library of models for common unit operations, which includes a model for a CSTR.\n",
    "\n",
    "```py\n",
    "from idaes.unit_models import CSTR\n",
    "```"
   ]
  },
  {
   "cell_type": "code",
   "execution_count": 5,
   "metadata": {},
   "outputs": [],
   "source": [
    "from idaes.unit_models import CSTR"
   ]
  },
  {
   "cell_type": "markdown",
   "metadata": {},
   "source": [
    "Setting up a model and flowsheet\n",
    "--------------------------------\n",
    "\n",
    "Now that we have imported the necessary models and tools, we can begin constructing the model of our process. The first step in constructing a model within the IDAES framework is to create a `ConcreteModel` with which to contain the flowsheet. This is the same as creating a ConcreteModel within Pyomo.\n",
    "\n",
    "```py\n",
    "m = ConcreteModel()\n",
    "```"
   ]
  },
  {
   "cell_type": "code",
   "execution_count": 6,
   "metadata": {},
   "outputs": [],
   "source": [
    "m = ConcreteModel()"
   ]
  },
  {
   "cell_type": "markdown",
   "metadata": {},
   "source": [
    "Next, we add a `FlowsheetBlock` object to our model. `FlowsheetBlock` is an IDAES modeling object which contains all the attributes required of a flowsheet within the IDAES framework (such as the time domain for dynamic models). `FlowsheetBlock` supports a number of different options, which can be used to change the behavior of the model. For the current example we want a steady-state flowsheet, which is done by setting the option `dynamic=False`.\n",
    "\n",
    "Setting the options for any IDAES component is done using the `default` and `initialize` arguments when creating an instance of the component. For this case, we will use the `default` argument to create a steady-state flowsheet named `fs` as shown below (the `initialize` argument will be covered later):\n",
    "\n",
    "```py\n",
    "m.fs = FlowsheetBlock(default={\"dynamic\": False})\n",
    "```"
   ]
  },
  {
   "cell_type": "code",
   "execution_count": 7,
   "metadata": {},
   "outputs": [],
   "source": [
    "m.fs = FlowsheetBlock(default={\"dynamic\": False})"
   ]
  },
  {
   "cell_type": "markdown",
   "metadata": {},
   "source": [
    "This creates a flowsheet block within our model which we can now start to populate with property calculations and unit models. As unit models depend on property packages for part of their construction, we need to add the property packages to our flowsheet first.\n",
    "\n",
    "In this flowsheet, we have two property packages to add; the thermo-physical property package and the reaction property package. In many cases, reaction properties are dependent on some thermo-physical properties and models for reaction properties are implicitly dependent on the model used to calculate the thermo-physical properties. To maintain this dependency within the IDAES framework, reaction property packages must be linked to a compatible thermo-physical property package.\n",
    "\n",
    "Thus, we need to add the thermo-physical property package first. This is done by creating an instance of a `PhysicalParameterBlock`, which is part of all IDAES thermo-physical property packages. This block contains all the information required to set up a thermo-physical property package for our flowsheet, and can be passed to reaction packages and unit models in order to set up the property calculations within that model. The actual name of the parameter block will depend upon the property package being used, and users should refer to the package documentation. In this case, the name of the parameter block is `SaponificationParameterBlock`.\n",
    "\n",
    "To add a property package with the name `thermo_params` to our Flowsheet using the `thermo_props` package we imported earlier, we do the following:\n",
    "\n",
    "```py\n",
    "m.fs.thermo_params = thermo_props.SaponificationParameterBlock()\n",
    "```"
   ]
  },
  {
   "cell_type": "code",
   "execution_count": 8,
   "metadata": {},
   "outputs": [],
   "source": [
    "m.fs.thermo_params = thermo_props.SaponificationParameterBlock()"
   ]
  },
  {
   "cell_type": "markdown",
   "metadata": {},
   "source": [
    "Next, we can add the reaction property package and link it to the thermo-physical property package. Linking the thermo-physical properties to the reaction properties is done using an option in the reaction package, similar to the way we set the `dynamic` option in the flowsheet. Similar to thermophysical property packages, users will need to refer to the package documentation for the name of the reaction parameter block, which in this case is `SaponificationReactionParameterBlock`.\n",
    "\n",
    "```py\n",
    "m.fs.reaction_params = reaction_props.SaponificationReactionParameterBlock(\n",
    "                        default={\"property_package\": m.fs.thermo_params})\n",
    "```"
   ]
  },
  {
   "cell_type": "code",
   "execution_count": 9,
   "metadata": {},
   "outputs": [],
   "source": [
    "m.fs.reaction_params = reaction_props.SaponificationReactionParameterBlock(\n",
    "                        default={\"property_package\": m.fs.thermo_params})"
   ]
  },
  {
   "cell_type": "markdown",
   "metadata": {},
   "source": [
    "Now that we have our property package set up, we can add our CSTRs to the flowsheet, which we will call `Tank1` and `Tank2`. Just like `FlowsheetBlocks`, unit models have a number of options available which can be used to change the form of the model and determine what property packages to use. Different unit models will have their own set of options, which will be covered in their documentation.\n",
    "\n",
    "For this tutorial, we will need to set the following options taken from the CSTR documentation:\n",
    "\n",
    "* `property_package` specified which thermo-physical property package should be used in the model.\n",
    "* `reaction_package` specifies which reaction package should be used (only needed in unit operations with reactions).\n",
    "* `has_equilibrium_reactions` sets whether constraints for enforcing chemical equilibrium should be included. In this example we have no equilibrium reactions, so we will set this to `False`.\n",
    "* `has_heat_transfer` specifies whether heat of reaction needs to be explicitly accounted for in the energy balance equations. In some cases, heat of reaction will be accounted for implicitly in the specific enthalpy calculations, however this is not the case for this example (you will need to refer to the documentation of each property package to see how heat of reaction is accounted for in each case).\n",
    "* `has_heat_transfer` specifies whether to include a heat duty term in the energy balance equations. For this tutorial we will include the heat transfer term to demonstrate how to use it.\n",
    "* `has_pressure_change` specifies whether to include a pressure change term in the momentum balance equations. For this tutorial we will set this to `False`.\n",
    "\n",
    "To create our CSTRs with the above options, we do the following:\n",
    "\n",
    "```py\n",
    "m.fs.Tank1 = CSTR(default={\"property_package\": m.fs.thermo_params,\n",
    "                           \"reaction_package\": m.fs.reaction_params,\n",
    "                           \"has_equilibrium_reactions\": False,\n",
    "                           \"has_heat_of_reaction\": True,\n",
    "                           \"has_heat_transfer\": True,\n",
    "                           \"has_pressure_change\": False})\n",
    "m.fs.Tank2 = CSTR(default={\"property_package\": m.fs.thermo_params,\n",
    "                           \"reaction_package\": m.fs.reaction_params,\n",
    "                           \"has_equilibrium_reactions\": False,\n",
    "                           \"has_heat_of_reaction\": True,\n",
    "                           \"has_heat_transfer\": True,\n",
    "                           \"has_pressure_change\": False})\n",
    "```"
   ]
  },
  {
   "cell_type": "code",
   "execution_count": 10,
   "metadata": {},
   "outputs": [],
   "source": [
    "m.fs.Tank1 = CSTR(default={\"property_package\": m.fs.thermo_params,\n",
    "                           \"reaction_package\": m.fs.reaction_params,\n",
    "                           \"has_equilibrium_reactions\": False,\n",
    "                           \"has_heat_of_reaction\": True,\n",
    "                           \"has_heat_transfer\": True,\n",
    "                           \"has_pressure_change\": False})\n",
    "m.fs.Tank2 = CSTR(default={\"property_package\": m.fs.thermo_params,\n",
    "                           \"reaction_package\": m.fs.reaction_params,\n",
    "                           \"has_equilibrium_reactions\": False,\n",
    "                           \"has_heat_of_reaction\": True,\n",
    "                           \"has_heat_transfer\": True,\n",
    "                           \"has_pressure_change\": False})"
   ]
  },
  {
   "cell_type": "markdown",
   "metadata": {},
   "source": [
    "Finally, we need to connect our CSTRs together into a flowsheet. Our CSTRs already contain inlet and outlet objects (Pyomo `Port` objects) which were created when the models were constructed, so all we need to do is connect the outlet of `Tank1` to the inlet of `Tank2`. We do this using Pyomo `Arc` components, which we imported at the beginning of the tutorial.\n",
    "\n",
    "To create an `Arc` we do the following:\n",
    "\n",
    "```py\n",
    "m.fs.stream = Arc(source=m.fs.Tank1.outlet,\n",
    "                  destination=m.fs.Tank2.inlet)\n",
    "```"
   ]
  },
  {
   "cell_type": "code",
   "execution_count": 11,
   "metadata": {},
   "outputs": [],
   "source": [
    "m.fs.stream = Arc(source=m.fs.Tank1.outlet,\n",
    "                  destination=m.fs.Tank2.inlet)"
   ]
  },
  {
   "cell_type": "markdown",
   "metadata": {},
   "source": [
    "There is one final step in setting up the `Arcs` connecting our flowsheet, which is to expand the `Arcs` into an actual set of `Constraints` in our model. Once all the `Arcs` in the flowsheet have been created, we apply the Pyomo `TransformationFactory` to automatically expand all the `Arcs` for us, as shown below:\n",
    "\n",
    "```py\n",
    "TransformationFactory(\"network.expand_arcs\").apply_to(m)\n",
    "```\n",
    "\n",
    "In this case, we apply the `network.expand_arcs` transformation to our entire model (`m`)."
   ]
  },
  {
   "cell_type": "code",
   "execution_count": 12,
   "metadata": {},
   "outputs": [],
   "source": [
    "TransformationFactory(\"network.expand_arcs\").apply_to(m)"
   ]
  },
  {
   "cell_type": "markdown",
   "metadata": {},
   "source": [
    "Setting Operating Conditions\n",
    "----------------------------\n",
    "\n",
    "Now that our flowsheet is fully constructed, we can start to specify the conditions we wish to simulate. The first conditions to set are the conditions of the feed stream to `Tank1`. The state variables we need to define are determined by the thermo-physical property package we are using, and in this case they are the following:\n",
    "\n",
    "\n",
    "* volumetric flowrate = 1.0 [m^3/s]\n",
    "* concentration of H2O = 55388.0 [mol/m^3]\n",
    "* concentration of NaOH = 100.0 [mol/m^3]\n",
    "* concentration of ethylacetate = 100.0 [mol/m^3]\n",
    "* concentration of ethanol = 0.0 [mol/m^3]\n",
    "* concentration of sodium acetate = 0.0 [mol/m^3]\n",
    "* temperature = 303.15 [K]\n",
    "* pressure = 101325.0 [Pa]\n",
    "\n",
    "The IDAES modeling framework uses a set of standard names for different quantities, which can be found in the IDAES documentation. The standard names for each quantity we need to fix are given below, along with the format for how to fix value of each quantity.\n",
    "\n",
    "```py\n",
    "m.fs.Tank1.inlet.flow_vol[0].fix(1.0)\n",
    "m.fs.Tank1.inlet.conc_mol_comp[0, \"H2O\"].fix(55388.0)\n",
    "m.fs.Tank1.inlet.conc_mol_comp[0, \"NaOH\"].fix(100.0)\n",
    "m.fs.Tank1.inlet.conc_mol_comp[0, \"EthylAcetate\"].fix(100.0)\n",
    "m.fs.Tank1.inlet.conc_mol_comp[0, \"SodiumAcetate\"].fix(0.0)\n",
    "m.fs.Tank1.inlet.conc_mol_comp[0, \"Ethanol\"].fix(0.0)\n",
    "m.fs.Tank1.inlet.temperature[0].fix(303.15)\n",
    "m.fs.Tank1.inlet.pressure[0].fix(101325.0)\n",
    "```"
   ]
  },
  {
   "cell_type": "code",
   "execution_count": 13,
   "metadata": {},
   "outputs": [],
   "source": [
    "m.fs.Tank1.inlet.flow_vol[0].fix(1.0)\n",
    "m.fs.Tank1.inlet.conc_mol_comp[0, \"H2O\"].fix(55388.0)\n",
    "m.fs.Tank1.inlet.conc_mol_comp[0, \"NaOH\"].fix(100.0)\n",
    "m.fs.Tank1.inlet.conc_mol_comp[0, \"EthylAcetate\"].fix(100.0)\n",
    "m.fs.Tank1.inlet.conc_mol_comp[0, \"SodiumAcetate\"].fix(0.0)\n",
    "m.fs.Tank1.inlet.conc_mol_comp[0, \"Ethanol\"].fix(0.0)\n",
    "m.fs.Tank1.inlet.temperature[0].fix(303.15)\n",
    "m.fs.Tank1.inlet.pressure[0].fix(101325.0)"
   ]
  },
  {
   "cell_type": "markdown",
   "metadata": {},
   "source": [
    "Additionally, we need to specify some design conditions for the system – in this case the volume and heat duty of both tanks. Let us fix the volume of each tank to be 1 $m^3$ and the heat duty to be 0 $J/s$. The variable names are \"volume\" and \"heat_duty\".\n",
    "\n",
    "```py\n",
    "m.fs.Tank1.volume.fix(1.0)\n",
    "m.fs.Tank1.heat_duty.fix(0.0)\n",
    "\n",
    "m.fs.Tank2.volume.fix(1.0)\n",
    "m.fs.Tank2.heat_duty.fix(0.0)\n",
    "```\n",
    "\n",
    "In this case you will note that we did not include the time index on the volume and heat duty variables, even though both are indexed by time. In cases like this where we have an indexed variable which we wish to fix at all indices, we can drop the index and the variable will be fixed to the given value at all indices."
   ]
  },
  {
   "cell_type": "code",
   "execution_count": 14,
   "metadata": {},
   "outputs": [],
   "source": [
    "m.fs.Tank1.volume.fix(1.0)\n",
    "m.fs.Tank1.heat_duty.fix(0.0)\n",
    "\n",
    "m.fs.Tank2.volume.fix(1.0)\n",
    "m.fs.Tank2.heat_duty.fix(0.0)"
   ]
  },
  {
   "cell_type": "markdown",
   "metadata": {},
   "source": [
    "Initializing and Solving the Model\n",
    "----------------------------------\n",
    "\n",
    "Now that the model has been constructed and the inlet and design conditions have been specified, we can now work on solving the model. However, most process engineering models cannot be solved in a single step, and require some degree of initialization to get to a solvable state. The models within the IDAES model library contain pre-built initialization routines which can be used to get each model to a solvable state. For this tutorial, we will use a manual sequential modular type approach to initializing our flowsheet using these pre-built methods.\n",
    "\n",
    "We will begin with initializing `Tank1`, as it is the first unit in our flowsheet. The initialization routine for a CSTR expects the conditions of the inlet stream to be provided as initial guesses along with any design conditions required to have zero degrees of freedom. However, as we have already provided (fixed) all of these, there is no need to provide additional guesses for these and the initialization routine will make use of the specified value automatically.\n",
    "\n",
    "The initialization routines also require a non-linear solver to be available to solve the model. This tutorial assumes that you have IPOPT installed, however you can substitute this for other NLP solvers you may have available. In order to do this, you can set the solver keyword when calling the initialization routine with the name of your NLP solver (e.g. `solver=’ipopt’`).\n",
    "\n",
    "To initialize `Tank1`, we do the following:\n",
    "\n",
    "```py\n",
    "m.fs.Tank1.initialize()\n",
    "```"
   ]
  },
  {
   "cell_type": "code",
   "execution_count": 15,
   "metadata": {},
   "outputs": [
    {
     "name": "stdout",
     "output_type": "stream",
     "text": [
      "2020-04-17 17:34:15 - INFO - idaes.property_models.examples.saponification_thermo - fs.Tank1.control_volume.properties_out Initialization Complete.\n",
      "2020-04-17 17:34:15 - INFO - idaes.property_models.examples.saponification_reactions - fs.Tank1.control_volume.reactions Initialization Complete.\n",
      "2020-04-17 17:34:15 - INFO - idaes.property_models.examples.saponification_thermo - fs.Tank1.control_volume.properties_in State Released.\n"
     ]
    }
   ],
   "source": [
    "m.fs.Tank1.initialize()"
   ]
  },
  {
   "cell_type": "markdown",
   "metadata": {},
   "source": [
    "Now that `Tank1` has been initialized, we can move onto `Tank2`. As the inlet to `Tank2` is not fixed, we need some initial guesses for the inlet conditions. For now, this is a manual process where the values are provided to the initialization routine through the `state_args` argument (which is a Python `dict`). For now, lets use the feed conditions as out initial guesses (in later tutorials we will see how to use the outlet of one unit to initialize the next).\n",
    "\n",
    "```py\n",
    "m.fs.Tank2.initialize(state_args={\n",
    "        \"flow_vol\": 1.0,\n",
    "        \"conc_mol_comp\": {\"H2O\": 55388.0,\n",
    "                          \"NaOH\": 100.0,\n",
    "                          \"EthylAcetate\": 100.0,\n",
    "                          \"SodiumAcetate\": 0.0,\n",
    "                          \"Ethanol\": 0.0},\n",
    "        \"temperature\": 303.15,\n",
    "        \"pressure\": 101325.0})\n",
    "```"
   ]
  },
  {
   "cell_type": "code",
   "execution_count": 16,
   "metadata": {},
   "outputs": [
    {
     "name": "stdout",
     "output_type": "stream",
     "text": [
      "2020-04-17 17:34:17 - INFO - idaes.property_models.examples.saponification_thermo - fs.Tank2.control_volume.properties_out Initialization Complete.\n",
      "2020-04-17 17:34:17 - INFO - idaes.property_models.examples.saponification_reactions - fs.Tank2.control_volume.reactions Initialization Complete.\n",
      "2020-04-17 17:34:17 - INFO - idaes.property_models.examples.saponification_thermo - fs.Tank2.control_volume.properties_in State Released.\n"
     ]
    }
   ],
   "source": [
    "m.fs.Tank2.initialize(state_args={\n",
    "        \"flow_vol\": 1.0,\n",
    "        \"conc_mol_comp\": {\"H2O\": 55388.0,\n",
    "                          \"NaOH\": 100.0,\n",
    "                          \"EthylAcetate\": 100.0,\n",
    "                          \"SodiumAcetate\": 0.0,\n",
    "                          \"Ethanol\": 0.0},\n",
    "        \"temperature\": 303.15,\n",
    "        \"pressure\": 101325.0})"
   ]
  },
  {
   "cell_type": "markdown",
   "metadata": {},
   "source": [
    "Solving the Model\n",
    "--------------------------\n",
    "\n",
    "At this point, our model should now be initialized and ready to solve. In order to do this, we need to create a `solver` using Pyomo's `SolverFactory`:\n",
    "\n",
    "```py\n",
    "solver = SolverFactory('ipopt')\n",
    "```"
   ]
  },
  {
   "cell_type": "code",
   "execution_count": 17,
   "metadata": {},
   "outputs": [],
   "source": [
    "solver = SolverFactory('ipopt')"
   ]
  },
  {
   "cell_type": "markdown",
   "metadata": {},
   "source": [
    "Just like in Pyomo, solver options can be provided as well by attaching a dictionary of keywords to the solver object, however these are not needed for this tutorial. Once the solver object is created, we can call it to solve the model and return the results object. The `tee` argument will output the solver messages to the screen so you can see the progress of the solver.\n",
    "\n",
    "```py\n",
    "results = solver.solve(m, tee=True)\n",
    "```"
   ]
  },
  {
   "cell_type": "code",
   "execution_count": 18,
   "metadata": {},
   "outputs": [
    {
     "name": "stdout",
     "output_type": "stream",
     "text": [
      "Ipopt 3.13.2: \n",
      "\n",
      "******************************************************************************\n",
      "This program contains Ipopt, a library for large-scale nonlinear optimization.\n",
      " Ipopt is released as open source code under the Eclipse Public License (EPL).\n",
      "         For more information visit http://projects.coin-or.org/Ipopt\n",
      "******************************************************************************\n",
      "\n",
      "This is Ipopt version 3.13.2, running with linear solver mumps.\n",
      "NOTE: Other linear solvers might be more efficient (see Ipopt documentation).\n",
      "\n",
      "Number of nonzeros in equality constraint Jacobian...:      103\n",
      "Number of nonzeros in inequality constraint Jacobian.:        0\n",
      "Number of nonzeros in Lagrangian Hessian.............:       26\n",
      "\n",
      "Total number of variables............................:       40\n",
      "                     variables with only lower bounds:       18\n",
      "                variables with lower and upper bounds:        6\n",
      "                     variables with only upper bounds:        0\n",
      "Total number of equality constraints.................:       40\n",
      "Total number of inequality constraints...............:        0\n",
      "        inequality constraints with only lower bounds:        0\n",
      "   inequality constraints with lower and upper bounds:        0\n",
      "        inequality constraints with only upper bounds:        0\n",
      "\n",
      "iter    objective    inf_pr   inf_du lg(mu)  ||d||  lg(rg) alpha_du alpha_pr  ls\n",
      "   0  0.0000000e+00 7.57e+01 1.00e+00  -1.0 0.00e+00    -  0.00e+00 0.00e+00   0\n",
      "   1  0.0000000e+00 1.39e+01 7.56e+03  -1.0 7.57e+01    -  1.31e-04 1.00e+00f  1\n",
      "   2  0.0000000e+00 1.19e+00 2.74e+00  -1.0 3.06e+00    -  9.57e-01 1.00e+00h  1\n",
      "   3  0.0000000e+00 1.28e-02 8.99e-01  -1.0 3.17e-01    -  9.90e-01 1.00e+00h  1\n",
      "   4  0.0000000e+00 1.55e-06 5.08e-04  -1.0 3.49e-03    -  9.90e-01 1.00e+00h  1\n",
      "   5  0.0000000e+00 1.50e-13 1.00e-06  -1.0 4.23e-07    -  1.00e+00 1.00e+00h  1\n",
      "\n",
      "Number of Iterations....: 5\n",
      "\n",
      "                                   (scaled)                 (unscaled)\n",
      "Objective...............:   0.0000000000000000e+00    0.0000000000000000e+00\n",
      "Dual infeasibility......:   0.0000000000000000e+00    0.0000000000000000e+00\n",
      "Constraint violation....:   1.5010215292932116e-13    1.5010215292932116e-13\n",
      "Complementarity.........:   0.0000000000000000e+00    0.0000000000000000e+00\n",
      "Overall NLP error.......:   1.5010215292932116e-13    1.5010215292932116e-13\n",
      "\n",
      "\n",
      "Number of objective function evaluations             = 6\n",
      "Number of objective gradient evaluations             = 6\n",
      "Number of equality constraint evaluations            = 6\n",
      "Number of inequality constraint evaluations          = 0\n",
      "Number of equality constraint Jacobian evaluations   = 6\n",
      "Number of inequality constraint Jacobian evaluations = 0\n",
      "Number of Lagrangian Hessian evaluations             = 5\n",
      "Total CPU secs in IPOPT (w/o function evaluations)   =      0.003\n",
      "Total CPU secs in NLP function evaluations           =      0.000\n",
      "\n",
      "EXIT: Optimal Solution Found.\n"
     ]
    }
   ],
   "source": [
    "results = solver.solve(m, tee=True)"
   ]
  },
  {
   "cell_type": "markdown",
   "metadata": {},
   "source": [
    "Hopefully you get a message from the solver saying \"Optimal Solution Found\" (or something similar). This indicates that the solver managed to find a feasible solution to the problem and you have some results to work with. If you see some other message, then you will need to go back through your model and make sure that everything is correct.\n",
    "\n",
    "Viewing the Results\n",
    "-----------------------------\n",
    "\n",
    "Now that we have some results, lets have a look at the outputs. First, let's print the `results` object that was returned by the solver.\n",
    "\n",
    "```py\n",
    "print(results)\n",
    "```"
   ]
  },
  {
   "cell_type": "code",
   "execution_count": 19,
   "metadata": {},
   "outputs": [
    {
     "name": "stdout",
     "output_type": "stream",
     "text": [
      "\n",
      "Problem: \n",
      "- Lower bound: -inf\n",
      "  Upper bound: inf\n",
      "  Number of objectives: 1\n",
      "  Number of constraints: 40\n",
      "  Number of variables: 40\n",
      "  Sense: unknown\n",
      "Solver: \n",
      "- Status: ok\n",
      "  Message: Ipopt 3.13.2\\x3a Optimal Solution Found\n",
      "  Termination condition: optimal\n",
      "  Id: 0\n",
      "  Error rc: 0\n",
      "  Time: 0.07082486152648926\n",
      "Solution: \n",
      "- number of solutions: 0\n",
      "  number of solutions displayed: 0\n",
      "\n"
     ]
    }
   ],
   "source": [
    "print(results)"
   ]
  },
  {
   "cell_type": "markdown",
   "metadata": {},
   "source": [
    "This output shows some basic details of the problem that was solved, including the number of variables and constraints (it is always good to check that the degrees of freedom match). In this case you should see 40 variables and constraints. You might also see 1 objective (e.g. if using IPOPT) - whilst we didn't add an objective to our model, the solver sometimes adds a trivial objective to satisfy its internal algorithms.\n",
    "\n",
    "Next, let us look at the solution of the outlet of the two tanks. To do this, we can `display` the outlets of each tank.\n",
    "\n",
    "```py\n",
    "print(\"Tank 1 Outlet\")\n",
    "m.fs.Tank1.outlet.display()\n",
    "print()\n",
    "print(\"Tank 2 Outlet\")\n",
    "m.fs.Tank2.outlet.display()\n",
    "```"
   ]
  },
  {
   "cell_type": "code",
   "execution_count": 20,
   "metadata": {},
   "outputs": [
    {
     "name": "stdout",
     "output_type": "stream",
     "text": [
      "Tank 1 Outlet\n",
      "outlet : Size=1\n",
      "    Key  : Name          : Value\n",
      "    None : conc_mol_comp : {(0.0, 'Ethanol'): 75.70408169909354, (0.0, 'EthylAcetate'): 24.29591830090647, (0.0, 'H2O'): 55388.0, (0.0, 'NaOH'): 24.29591830090647, (0.0, 'SodiumAcetate'): 75.70408169909354}\n",
      "         :      flow_vol : {0.0: 1.0}\n",
      "         :      pressure : {0.0: 101325.0}\n",
      "         :   temperature : {0.0: 304.0390967461633}\n",
      "\n",
      "Tank 2 Outlet\n",
      "outlet : Size=1\n",
      "    Key  : Name          : Value\n",
      "    None : conc_mol_comp : {(0.0, 'Ethanol'): 89.62789175186133, (0.0, 'EthylAcetate'): 10.372108248138675, (0.0, 'H2O'): 55388.0, (0.0, 'NaOH'): 10.372108248138675, (0.0, 'SodiumAcetate'): 89.62789175186133}\n",
      "         :      flow_vol : {0.0: 1.0}\n",
      "         :      pressure : {0.0: 101325.0}\n",
      "         :   temperature : {0.0: 304.2026231232656}\n"
     ]
    }
   ],
   "source": [
    "print(\"Tank 1 Outlet\")\n",
    "m.fs.Tank1.outlet.display()\n",
    "print()\n",
    "print(\"Tank 2 Outlet\")\n",
    "m.fs.Tank2.outlet.display()"
   ]
  },
  {
   "cell_type": "markdown",
   "metadata": {},
   "source": [
    "If all has gone well, you should see the following results.\n",
    "\n",
    "**Tank 1**\n",
    "* flow_vol = 1.0 [m^3/s]\n",
    "* conc_mol_comp[\"SodiumAcetate\"] = 75.704 [mol/m^3]\n",
    "* conc_mol_comp[\"Ethanol\"] = 75.704 [mol/m^3]\n",
    "* conc_mol_comp[\"NaOH\"] = 24.296 [mol/m^3]\n",
    "* conc_mol_comp[\"EthylAcetate\"] = 24.296 [mol/m^3]\n",
    "* conc_mol_comp[\"H2O\"] = 55388.0 [mol/m^3]\n",
    "* pressure = 101325 [Pa]\n",
    "* temperature = 304.04 [K]\n",
    "\n",
    "**Tank 2**\n",
    "* flow_vol = 1.0 [m^3/s]\n",
    "* conc_mol_comp[\"SodiumAcetate\"] = 89.628 [mol/m^3]\n",
    "* conc_mol_comp[\"Ethanol\"] = 89.628 [mol/m^3]\n",
    "* conc_mol_comp[\"NaOH\"] = 10.372 [mol/m^3]\n",
    "* conc_mol_comp[\"EthylAcetate\"] = 10.372 [mol/m^3]\n",
    "* conc_mol_comp[\"H2O\"] = 55388.0 [mol/m^3]\n",
    "* pressure = 101325 [Pa]\n",
    "* temperature = 304.20 [K]"
   ]
  },
  {
   "cell_type": "code",
   "execution_count": null,
   "metadata": {},
   "outputs": [],
   "source": []
  }
 ],
 "metadata": {
  "kernelspec": {
   "display_name": "Python 3",
   "language": "python",
   "name": "python3"
  },
  "language_info": {
   "codemirror_mode": {
    "name": "ipython",
    "version": 3
   },
   "file_extension": ".py",
   "mimetype": "text/x-python",
   "name": "python",
   "nbconvert_exporter": "python",
   "pygments_lexer": "ipython3",
   "version": "3.7.7"
  }
 },
 "nbformat": 4,
 "nbformat_minor": 2
}
